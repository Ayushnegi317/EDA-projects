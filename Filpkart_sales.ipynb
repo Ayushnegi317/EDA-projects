{
  "nbformat": 4,
  "nbformat_minor": 0,
  "metadata": {
    "colab": {
      "provenance": [],
      "authorship_tag": "ABX9TyMRpaat3SvORcRVcJgzHCUV",
      "include_colab_link": true
    },
    "kernelspec": {
      "name": "python3",
      "display_name": "Python 3"
    },
    "language_info": {
      "name": "python"
    }
  },
  "cells": [
    {
      "cell_type": "markdown",
      "metadata": {
        "id": "view-in-github",
        "colab_type": "text"
      },
      "source": [
        "<a href=\"https://colab.research.google.com/github/Ayushnegi317/EDA-projects/blob/main/Filpkart_sales.ipynb\" target=\"_parent\"><img src=\"https://colab.research.google.com/assets/colab-badge.svg\" alt=\"Open In Colab\"/></a>"
      ]
    },
    {
      "cell_type": "code",
      "source": [
        "import pandas as pd\n",
        "import matplotlib.pyplot as plt\n",
        "import seaborn as sns\n",
        "import plotly.express as pl"
      ],
      "metadata": {
        "id": "yvAsfww9OIXo"
      },
      "execution_count": null,
      "outputs": []
    },
    {
      "cell_type": "code",
      "source": [
        "data1=pd.read_csv(\"/content/FinalFlipkartData.csv\")"
      ],
      "metadata": {
        "id": "GI-pq0fAO1MX"
      },
      "execution_count": null,
      "outputs": []
    },
    {
      "cell_type": "code",
      "source": [
        "data1"
      ],
      "metadata": {
        "colab": {
          "base_uri": "https://localhost:8080/",
          "height": 419
        },
        "id": "6ZhPuP1kO_YP",
        "outputId": "2c7256ba-c1a2-4cd8-ff5e-6f6fb3c54cd1"
      },
      "execution_count": null,
      "outputs": [
        {
          "output_type": "execute_result",
          "data": {
            "text/plain": [
              "       Brand                            Title Product Type  Who  Price  \\\n",
              "0       NIKE   NIKE Nike Revolution 4 Men'...        shoes  men   2216   \n",
              "1     Layasa   Layasa sports shoes for men...        shoes  men    379   \n",
              "2      YONEX   YONEX Tokyo 2 Badminton Sho...        shoes  men   1919   \n",
              "3     ADIDAS   ADIDAS Clear Factor M Runni...        shoes  men   1499   \n",
              "4       PUMA   PUMA Space Runner Running S...        shoes  men   2050   \n",
              "...      ...                              ...          ...  ...    ...   \n",
              "1634  MARVEL   MARVEL Boys Velcro Sports S...       sandal  kid    719   \n",
              "1635  CAMPUS   CAMPUS Boys Velcro Sports S...       sandal  kid    549   \n",
              "1636  CAMPUS   CAMPUS Boys Velcro Sports S...       sandal  kid    569   \n",
              "1637  CAMPUS   CAMPUS Boys Velcro Sports S...       sandal  kid    459   \n",
              "1638  CAMPUS   CAMPUS Boys Velcro Sports S...       sandal  kid    439   \n",
              "\n",
              "          MRP  Savings  Discount %  Rating  Total Ratings Given  \\\n",
              "0     3693.33     1477        40.0     4.2                54006   \n",
              "1      997.37      618        62.0     4.0                13792   \n",
              "2     2998.44     1079        36.0     4.3                 1298   \n",
              "3     2498.33      999        40.0     4.2                 3904   \n",
              "4     3474.58     1424        41.0     4.2                  194   \n",
              "...       ...      ...         ...     ...                  ...   \n",
              "1634   998.61      279        28.0     4.1                  254   \n",
              "1635   549.00        0         0.0     4.3                  936   \n",
              "1636   569.00        0         0.0     4.0                  236   \n",
              "1637   459.00        0         0.0     4.1                  672   \n",
              "1638   439.00        0         0.0     3.7                   77   \n",
              "\n",
              "      Total Reviews Given  \n",
              "0                    7049  \n",
              "1                    1677  \n",
              "2                     172  \n",
              "3                     578  \n",
              "4                      36  \n",
              "...                   ...  \n",
              "1634                   44  \n",
              "1635                  134  \n",
              "1636                   23  \n",
              "1637                   88  \n",
              "1638                    9  \n",
              "\n",
              "[1639 rows x 11 columns]"
            ],
            "text/html": [
              "\n",
              "  <div id=\"df-507b21f4-cdd4-4a13-961a-181a6d30e9a0\">\n",
              "    <div class=\"colab-df-container\">\n",
              "      <div>\n",
              "<style scoped>\n",
              "    .dataframe tbody tr th:only-of-type {\n",
              "        vertical-align: middle;\n",
              "    }\n",
              "\n",
              "    .dataframe tbody tr th {\n",
              "        vertical-align: top;\n",
              "    }\n",
              "\n",
              "    .dataframe thead th {\n",
              "        text-align: right;\n",
              "    }\n",
              "</style>\n",
              "<table border=\"1\" class=\"dataframe\">\n",
              "  <thead>\n",
              "    <tr style=\"text-align: right;\">\n",
              "      <th></th>\n",
              "      <th>Brand</th>\n",
              "      <th>Title</th>\n",
              "      <th>Product Type</th>\n",
              "      <th>Who</th>\n",
              "      <th>Price</th>\n",
              "      <th>MRP</th>\n",
              "      <th>Savings</th>\n",
              "      <th>Discount %</th>\n",
              "      <th>Rating</th>\n",
              "      <th>Total Ratings Given</th>\n",
              "      <th>Total Reviews Given</th>\n",
              "    </tr>\n",
              "  </thead>\n",
              "  <tbody>\n",
              "    <tr>\n",
              "      <th>0</th>\n",
              "      <td>NIKE</td>\n",
              "      <td>NIKE Nike Revolution 4 Men'...</td>\n",
              "      <td>shoes</td>\n",
              "      <td>men</td>\n",
              "      <td>2216</td>\n",
              "      <td>3693.33</td>\n",
              "      <td>1477</td>\n",
              "      <td>40.0</td>\n",
              "      <td>4.2</td>\n",
              "      <td>54006</td>\n",
              "      <td>7049</td>\n",
              "    </tr>\n",
              "    <tr>\n",
              "      <th>1</th>\n",
              "      <td>Layasa</td>\n",
              "      <td>Layasa sports shoes for men...</td>\n",
              "      <td>shoes</td>\n",
              "      <td>men</td>\n",
              "      <td>379</td>\n",
              "      <td>997.37</td>\n",
              "      <td>618</td>\n",
              "      <td>62.0</td>\n",
              "      <td>4.0</td>\n",
              "      <td>13792</td>\n",
              "      <td>1677</td>\n",
              "    </tr>\n",
              "    <tr>\n",
              "      <th>2</th>\n",
              "      <td>YONEX</td>\n",
              "      <td>YONEX Tokyo 2 Badminton Sho...</td>\n",
              "      <td>shoes</td>\n",
              "      <td>men</td>\n",
              "      <td>1919</td>\n",
              "      <td>2998.44</td>\n",
              "      <td>1079</td>\n",
              "      <td>36.0</td>\n",
              "      <td>4.3</td>\n",
              "      <td>1298</td>\n",
              "      <td>172</td>\n",
              "    </tr>\n",
              "    <tr>\n",
              "      <th>3</th>\n",
              "      <td>ADIDAS</td>\n",
              "      <td>ADIDAS Clear Factor M Runni...</td>\n",
              "      <td>shoes</td>\n",
              "      <td>men</td>\n",
              "      <td>1499</td>\n",
              "      <td>2498.33</td>\n",
              "      <td>999</td>\n",
              "      <td>40.0</td>\n",
              "      <td>4.2</td>\n",
              "      <td>3904</td>\n",
              "      <td>578</td>\n",
              "    </tr>\n",
              "    <tr>\n",
              "      <th>4</th>\n",
              "      <td>PUMA</td>\n",
              "      <td>PUMA Space Runner Running S...</td>\n",
              "      <td>shoes</td>\n",
              "      <td>men</td>\n",
              "      <td>2050</td>\n",
              "      <td>3474.58</td>\n",
              "      <td>1424</td>\n",
              "      <td>41.0</td>\n",
              "      <td>4.2</td>\n",
              "      <td>194</td>\n",
              "      <td>36</td>\n",
              "    </tr>\n",
              "    <tr>\n",
              "      <th>...</th>\n",
              "      <td>...</td>\n",
              "      <td>...</td>\n",
              "      <td>...</td>\n",
              "      <td>...</td>\n",
              "      <td>...</td>\n",
              "      <td>...</td>\n",
              "      <td>...</td>\n",
              "      <td>...</td>\n",
              "      <td>...</td>\n",
              "      <td>...</td>\n",
              "      <td>...</td>\n",
              "    </tr>\n",
              "    <tr>\n",
              "      <th>1634</th>\n",
              "      <td>MARVEL</td>\n",
              "      <td>MARVEL Boys Velcro Sports S...</td>\n",
              "      <td>sandal</td>\n",
              "      <td>kid</td>\n",
              "      <td>719</td>\n",
              "      <td>998.61</td>\n",
              "      <td>279</td>\n",
              "      <td>28.0</td>\n",
              "      <td>4.1</td>\n",
              "      <td>254</td>\n",
              "      <td>44</td>\n",
              "    </tr>\n",
              "    <tr>\n",
              "      <th>1635</th>\n",
              "      <td>CAMPUS</td>\n",
              "      <td>CAMPUS Boys Velcro Sports S...</td>\n",
              "      <td>sandal</td>\n",
              "      <td>kid</td>\n",
              "      <td>549</td>\n",
              "      <td>549.00</td>\n",
              "      <td>0</td>\n",
              "      <td>0.0</td>\n",
              "      <td>4.3</td>\n",
              "      <td>936</td>\n",
              "      <td>134</td>\n",
              "    </tr>\n",
              "    <tr>\n",
              "      <th>1636</th>\n",
              "      <td>CAMPUS</td>\n",
              "      <td>CAMPUS Boys Velcro Sports S...</td>\n",
              "      <td>sandal</td>\n",
              "      <td>kid</td>\n",
              "      <td>569</td>\n",
              "      <td>569.00</td>\n",
              "      <td>0</td>\n",
              "      <td>0.0</td>\n",
              "      <td>4.0</td>\n",
              "      <td>236</td>\n",
              "      <td>23</td>\n",
              "    </tr>\n",
              "    <tr>\n",
              "      <th>1637</th>\n",
              "      <td>CAMPUS</td>\n",
              "      <td>CAMPUS Boys Velcro Sports S...</td>\n",
              "      <td>sandal</td>\n",
              "      <td>kid</td>\n",
              "      <td>459</td>\n",
              "      <td>459.00</td>\n",
              "      <td>0</td>\n",
              "      <td>0.0</td>\n",
              "      <td>4.1</td>\n",
              "      <td>672</td>\n",
              "      <td>88</td>\n",
              "    </tr>\n",
              "    <tr>\n",
              "      <th>1638</th>\n",
              "      <td>CAMPUS</td>\n",
              "      <td>CAMPUS Boys Velcro Sports S...</td>\n",
              "      <td>sandal</td>\n",
              "      <td>kid</td>\n",
              "      <td>439</td>\n",
              "      <td>439.00</td>\n",
              "      <td>0</td>\n",
              "      <td>0.0</td>\n",
              "      <td>3.7</td>\n",
              "      <td>77</td>\n",
              "      <td>9</td>\n",
              "    </tr>\n",
              "  </tbody>\n",
              "</table>\n",
              "<p>1639 rows × 11 columns</p>\n",
              "</div>\n",
              "      <button class=\"colab-df-convert\" onclick=\"convertToInteractive('df-507b21f4-cdd4-4a13-961a-181a6d30e9a0')\"\n",
              "              title=\"Convert this dataframe to an interactive table.\"\n",
              "              style=\"display:none;\">\n",
              "        \n",
              "  <svg xmlns=\"http://www.w3.org/2000/svg\" height=\"24px\"viewBox=\"0 0 24 24\"\n",
              "       width=\"24px\">\n",
              "    <path d=\"M0 0h24v24H0V0z\" fill=\"none\"/>\n",
              "    <path d=\"M18.56 5.44l.94 2.06.94-2.06 2.06-.94-2.06-.94-.94-2.06-.94 2.06-2.06.94zm-11 1L8.5 8.5l.94-2.06 2.06-.94-2.06-.94L8.5 2.5l-.94 2.06-2.06.94zm10 10l.94 2.06.94-2.06 2.06-.94-2.06-.94-.94-2.06-.94 2.06-2.06.94z\"/><path d=\"M17.41 7.96l-1.37-1.37c-.4-.4-.92-.59-1.43-.59-.52 0-1.04.2-1.43.59L10.3 9.45l-7.72 7.72c-.78.78-.78 2.05 0 2.83L4 21.41c.39.39.9.59 1.41.59.51 0 1.02-.2 1.41-.59l7.78-7.78 2.81-2.81c.8-.78.8-2.07 0-2.86zM5.41 20L4 18.59l7.72-7.72 1.47 1.35L5.41 20z\"/>\n",
              "  </svg>\n",
              "      </button>\n",
              "      \n",
              "  <style>\n",
              "    .colab-df-container {\n",
              "      display:flex;\n",
              "      flex-wrap:wrap;\n",
              "      gap: 12px;\n",
              "    }\n",
              "\n",
              "    .colab-df-convert {\n",
              "      background-color: #E8F0FE;\n",
              "      border: none;\n",
              "      border-radius: 50%;\n",
              "      cursor: pointer;\n",
              "      display: none;\n",
              "      fill: #1967D2;\n",
              "      height: 32px;\n",
              "      padding: 0 0 0 0;\n",
              "      width: 32px;\n",
              "    }\n",
              "\n",
              "    .colab-df-convert:hover {\n",
              "      background-color: #E2EBFA;\n",
              "      box-shadow: 0px 1px 2px rgba(60, 64, 67, 0.3), 0px 1px 3px 1px rgba(60, 64, 67, 0.15);\n",
              "      fill: #174EA6;\n",
              "    }\n",
              "\n",
              "    [theme=dark] .colab-df-convert {\n",
              "      background-color: #3B4455;\n",
              "      fill: #D2E3FC;\n",
              "    }\n",
              "\n",
              "    [theme=dark] .colab-df-convert:hover {\n",
              "      background-color: #434B5C;\n",
              "      box-shadow: 0px 1px 3px 1px rgba(0, 0, 0, 0.15);\n",
              "      filter: drop-shadow(0px 1px 2px rgba(0, 0, 0, 0.3));\n",
              "      fill: #FFFFFF;\n",
              "    }\n",
              "  </style>\n",
              "\n",
              "      <script>\n",
              "        const buttonEl =\n",
              "          document.querySelector('#df-507b21f4-cdd4-4a13-961a-181a6d30e9a0 button.colab-df-convert');\n",
              "        buttonEl.style.display =\n",
              "          google.colab.kernel.accessAllowed ? 'block' : 'none';\n",
              "\n",
              "        async function convertToInteractive(key) {\n",
              "          const element = document.querySelector('#df-507b21f4-cdd4-4a13-961a-181a6d30e9a0');\n",
              "          const dataTable =\n",
              "            await google.colab.kernel.invokeFunction('convertToInteractive',\n",
              "                                                     [key], {});\n",
              "          if (!dataTable) return;\n",
              "\n",
              "          const docLinkHtml = 'Like what you see? Visit the ' +\n",
              "            '<a target=\"_blank\" href=https://colab.research.google.com/notebooks/data_table.ipynb>data table notebook</a>'\n",
              "            + ' to learn more about interactive tables.';\n",
              "          element.innerHTML = '';\n",
              "          dataTable['output_type'] = 'display_data';\n",
              "          await google.colab.output.renderOutput(dataTable, element);\n",
              "          const docLink = document.createElement('div');\n",
              "          docLink.innerHTML = docLinkHtml;\n",
              "          element.appendChild(docLink);\n",
              "        }\n",
              "      </script>\n",
              "    </div>\n",
              "  </div>\n",
              "  "
            ]
          },
          "metadata": {},
          "execution_count": 3
        }
      ]
    },
    {
      "cell_type": "code",
      "source": [
        "data1.describe()"
      ],
      "metadata": {
        "colab": {
          "base_uri": "https://localhost:8080/",
          "height": 297
        },
        "id": "lmyTnSC-KkjQ",
        "outputId": "35526936-4eb1-42d0-f5a6-fb442ce48986"
      },
      "execution_count": null,
      "outputs": [
        {
          "output_type": "execute_result",
          "data": {
            "text/plain": [
              "             Price           MRP      Savings   Discount %       Rating  \\\n",
              "count  1639.000000   1639.000000  1639.000000  1639.000000  1639.000000   \n",
              "mean    900.738865   1716.956882   815.811470    45.569860     3.985784   \n",
              "std     966.610384   1476.457547   778.801047    23.055618     0.348202   \n",
              "min     149.000000    219.000000     0.000000     0.000000     3.000000   \n",
              "25%     379.000000    891.070000   310.000000    32.000000     3.800000   \n",
              "50%     599.000000   1198.280000   598.000000    50.000000     4.000000   \n",
              "75%     999.000000   1986.360000  1085.500000    62.000000     4.200000   \n",
              "max    8495.000000  10759.180000  5487.000000    89.000000     5.000000   \n",
              "\n",
              "       Total Ratings Given  Total Reviews Given  \n",
              "count          1639.000000          1639.000000  \n",
              "mean           1730.180598           224.970714  \n",
              "std            8655.260853          1125.891795  \n",
              "min               1.000000             1.000000  \n",
              "25%              23.000000             3.000000  \n",
              "50%             109.000000            13.000000  \n",
              "75%             496.500000            61.000000  \n",
              "max          167992.000000         20241.000000  "
            ],
            "text/html": [
              "\n",
              "  <div id=\"df-49b122a0-0929-44b7-be70-ce3d84fbcac6\">\n",
              "    <div class=\"colab-df-container\">\n",
              "      <div>\n",
              "<style scoped>\n",
              "    .dataframe tbody tr th:only-of-type {\n",
              "        vertical-align: middle;\n",
              "    }\n",
              "\n",
              "    .dataframe tbody tr th {\n",
              "        vertical-align: top;\n",
              "    }\n",
              "\n",
              "    .dataframe thead th {\n",
              "        text-align: right;\n",
              "    }\n",
              "</style>\n",
              "<table border=\"1\" class=\"dataframe\">\n",
              "  <thead>\n",
              "    <tr style=\"text-align: right;\">\n",
              "      <th></th>\n",
              "      <th>Price</th>\n",
              "      <th>MRP</th>\n",
              "      <th>Savings</th>\n",
              "      <th>Discount %</th>\n",
              "      <th>Rating</th>\n",
              "      <th>Total Ratings Given</th>\n",
              "      <th>Total Reviews Given</th>\n",
              "    </tr>\n",
              "  </thead>\n",
              "  <tbody>\n",
              "    <tr>\n",
              "      <th>count</th>\n",
              "      <td>1639.000000</td>\n",
              "      <td>1639.000000</td>\n",
              "      <td>1639.000000</td>\n",
              "      <td>1639.000000</td>\n",
              "      <td>1639.000000</td>\n",
              "      <td>1639.000000</td>\n",
              "      <td>1639.000000</td>\n",
              "    </tr>\n",
              "    <tr>\n",
              "      <th>mean</th>\n",
              "      <td>900.738865</td>\n",
              "      <td>1716.956882</td>\n",
              "      <td>815.811470</td>\n",
              "      <td>45.569860</td>\n",
              "      <td>3.985784</td>\n",
              "      <td>1730.180598</td>\n",
              "      <td>224.970714</td>\n",
              "    </tr>\n",
              "    <tr>\n",
              "      <th>std</th>\n",
              "      <td>966.610384</td>\n",
              "      <td>1476.457547</td>\n",
              "      <td>778.801047</td>\n",
              "      <td>23.055618</td>\n",
              "      <td>0.348202</td>\n",
              "      <td>8655.260853</td>\n",
              "      <td>1125.891795</td>\n",
              "    </tr>\n",
              "    <tr>\n",
              "      <th>min</th>\n",
              "      <td>149.000000</td>\n",
              "      <td>219.000000</td>\n",
              "      <td>0.000000</td>\n",
              "      <td>0.000000</td>\n",
              "      <td>3.000000</td>\n",
              "      <td>1.000000</td>\n",
              "      <td>1.000000</td>\n",
              "    </tr>\n",
              "    <tr>\n",
              "      <th>25%</th>\n",
              "      <td>379.000000</td>\n",
              "      <td>891.070000</td>\n",
              "      <td>310.000000</td>\n",
              "      <td>32.000000</td>\n",
              "      <td>3.800000</td>\n",
              "      <td>23.000000</td>\n",
              "      <td>3.000000</td>\n",
              "    </tr>\n",
              "    <tr>\n",
              "      <th>50%</th>\n",
              "      <td>599.000000</td>\n",
              "      <td>1198.280000</td>\n",
              "      <td>598.000000</td>\n",
              "      <td>50.000000</td>\n",
              "      <td>4.000000</td>\n",
              "      <td>109.000000</td>\n",
              "      <td>13.000000</td>\n",
              "    </tr>\n",
              "    <tr>\n",
              "      <th>75%</th>\n",
              "      <td>999.000000</td>\n",
              "      <td>1986.360000</td>\n",
              "      <td>1085.500000</td>\n",
              "      <td>62.000000</td>\n",
              "      <td>4.200000</td>\n",
              "      <td>496.500000</td>\n",
              "      <td>61.000000</td>\n",
              "    </tr>\n",
              "    <tr>\n",
              "      <th>max</th>\n",
              "      <td>8495.000000</td>\n",
              "      <td>10759.180000</td>\n",
              "      <td>5487.000000</td>\n",
              "      <td>89.000000</td>\n",
              "      <td>5.000000</td>\n",
              "      <td>167992.000000</td>\n",
              "      <td>20241.000000</td>\n",
              "    </tr>\n",
              "  </tbody>\n",
              "</table>\n",
              "</div>\n",
              "      <button class=\"colab-df-convert\" onclick=\"convertToInteractive('df-49b122a0-0929-44b7-be70-ce3d84fbcac6')\"\n",
              "              title=\"Convert this dataframe to an interactive table.\"\n",
              "              style=\"display:none;\">\n",
              "        \n",
              "  <svg xmlns=\"http://www.w3.org/2000/svg\" height=\"24px\"viewBox=\"0 0 24 24\"\n",
              "       width=\"24px\">\n",
              "    <path d=\"M0 0h24v24H0V0z\" fill=\"none\"/>\n",
              "    <path d=\"M18.56 5.44l.94 2.06.94-2.06 2.06-.94-2.06-.94-.94-2.06-.94 2.06-2.06.94zm-11 1L8.5 8.5l.94-2.06 2.06-.94-2.06-.94L8.5 2.5l-.94 2.06-2.06.94zm10 10l.94 2.06.94-2.06 2.06-.94-2.06-.94-.94-2.06-.94 2.06-2.06.94z\"/><path d=\"M17.41 7.96l-1.37-1.37c-.4-.4-.92-.59-1.43-.59-.52 0-1.04.2-1.43.59L10.3 9.45l-7.72 7.72c-.78.78-.78 2.05 0 2.83L4 21.41c.39.39.9.59 1.41.59.51 0 1.02-.2 1.41-.59l7.78-7.78 2.81-2.81c.8-.78.8-2.07 0-2.86zM5.41 20L4 18.59l7.72-7.72 1.47 1.35L5.41 20z\"/>\n",
              "  </svg>\n",
              "      </button>\n",
              "      \n",
              "  <style>\n",
              "    .colab-df-container {\n",
              "      display:flex;\n",
              "      flex-wrap:wrap;\n",
              "      gap: 12px;\n",
              "    }\n",
              "\n",
              "    .colab-df-convert {\n",
              "      background-color: #E8F0FE;\n",
              "      border: none;\n",
              "      border-radius: 50%;\n",
              "      cursor: pointer;\n",
              "      display: none;\n",
              "      fill: #1967D2;\n",
              "      height: 32px;\n",
              "      padding: 0 0 0 0;\n",
              "      width: 32px;\n",
              "    }\n",
              "\n",
              "    .colab-df-convert:hover {\n",
              "      background-color: #E2EBFA;\n",
              "      box-shadow: 0px 1px 2px rgba(60, 64, 67, 0.3), 0px 1px 3px 1px rgba(60, 64, 67, 0.15);\n",
              "      fill: #174EA6;\n",
              "    }\n",
              "\n",
              "    [theme=dark] .colab-df-convert {\n",
              "      background-color: #3B4455;\n",
              "      fill: #D2E3FC;\n",
              "    }\n",
              "\n",
              "    [theme=dark] .colab-df-convert:hover {\n",
              "      background-color: #434B5C;\n",
              "      box-shadow: 0px 1px 3px 1px rgba(0, 0, 0, 0.15);\n",
              "      filter: drop-shadow(0px 1px 2px rgba(0, 0, 0, 0.3));\n",
              "      fill: #FFFFFF;\n",
              "    }\n",
              "  </style>\n",
              "\n",
              "      <script>\n",
              "        const buttonEl =\n",
              "          document.querySelector('#df-49b122a0-0929-44b7-be70-ce3d84fbcac6 button.colab-df-convert');\n",
              "        buttonEl.style.display =\n",
              "          google.colab.kernel.accessAllowed ? 'block' : 'none';\n",
              "\n",
              "        async function convertToInteractive(key) {\n",
              "          const element = document.querySelector('#df-49b122a0-0929-44b7-be70-ce3d84fbcac6');\n",
              "          const dataTable =\n",
              "            await google.colab.kernel.invokeFunction('convertToInteractive',\n",
              "                                                     [key], {});\n",
              "          if (!dataTable) return;\n",
              "\n",
              "          const docLinkHtml = 'Like what you see? Visit the ' +\n",
              "            '<a target=\"_blank\" href=https://colab.research.google.com/notebooks/data_table.ipynb>data table notebook</a>'\n",
              "            + ' to learn more about interactive tables.';\n",
              "          element.innerHTML = '';\n",
              "          dataTable['output_type'] = 'display_data';\n",
              "          await google.colab.output.renderOutput(dataTable, element);\n",
              "          const docLink = document.createElement('div');\n",
              "          docLink.innerHTML = docLinkHtml;\n",
              "          element.appendChild(docLink);\n",
              "        }\n",
              "      </script>\n",
              "    </div>\n",
              "  </div>\n",
              "  "
            ]
          },
          "metadata": {},
          "execution_count": 20
        }
      ]
    },
    {
      "cell_type": "code",
      "source": [
        "include=['object']\n",
        "data1.describe(include=include)"
      ],
      "metadata": {
        "colab": {
          "base_uri": "https://localhost:8080/",
          "height": 173
        },
        "id": "8dH8khiELqJA",
        "outputId": "c6035561-2d3e-4ac2-e050-06b36097d988"
      },
      "execution_count": null,
      "outputs": [
        {
          "output_type": "execute_result",
          "data": {
            "text/plain": [
              "         Brand                            Title Product Type   Who\n",
              "count     1639                             1639         1639  1639\n",
              "unique     377                              916            8     4\n",
              "top     ADIDAS   CAMPUS Boys Velcro Sports S...        shoes   men\n",
              "freq       114                               34          335   710"
            ],
            "text/html": [
              "\n",
              "  <div id=\"df-d5de1ffa-9c97-40c5-ae1e-bf7a92f8c934\">\n",
              "    <div class=\"colab-df-container\">\n",
              "      <div>\n",
              "<style scoped>\n",
              "    .dataframe tbody tr th:only-of-type {\n",
              "        vertical-align: middle;\n",
              "    }\n",
              "\n",
              "    .dataframe tbody tr th {\n",
              "        vertical-align: top;\n",
              "    }\n",
              "\n",
              "    .dataframe thead th {\n",
              "        text-align: right;\n",
              "    }\n",
              "</style>\n",
              "<table border=\"1\" class=\"dataframe\">\n",
              "  <thead>\n",
              "    <tr style=\"text-align: right;\">\n",
              "      <th></th>\n",
              "      <th>Brand</th>\n",
              "      <th>Title</th>\n",
              "      <th>Product Type</th>\n",
              "      <th>Who</th>\n",
              "    </tr>\n",
              "  </thead>\n",
              "  <tbody>\n",
              "    <tr>\n",
              "      <th>count</th>\n",
              "      <td>1639</td>\n",
              "      <td>1639</td>\n",
              "      <td>1639</td>\n",
              "      <td>1639</td>\n",
              "    </tr>\n",
              "    <tr>\n",
              "      <th>unique</th>\n",
              "      <td>377</td>\n",
              "      <td>916</td>\n",
              "      <td>8</td>\n",
              "      <td>4</td>\n",
              "    </tr>\n",
              "    <tr>\n",
              "      <th>top</th>\n",
              "      <td>ADIDAS</td>\n",
              "      <td>CAMPUS Boys Velcro Sports S...</td>\n",
              "      <td>shoes</td>\n",
              "      <td>men</td>\n",
              "    </tr>\n",
              "    <tr>\n",
              "      <th>freq</th>\n",
              "      <td>114</td>\n",
              "      <td>34</td>\n",
              "      <td>335</td>\n",
              "      <td>710</td>\n",
              "    </tr>\n",
              "  </tbody>\n",
              "</table>\n",
              "</div>\n",
              "      <button class=\"colab-df-convert\" onclick=\"convertToInteractive('df-d5de1ffa-9c97-40c5-ae1e-bf7a92f8c934')\"\n",
              "              title=\"Convert this dataframe to an interactive table.\"\n",
              "              style=\"display:none;\">\n",
              "        \n",
              "  <svg xmlns=\"http://www.w3.org/2000/svg\" height=\"24px\"viewBox=\"0 0 24 24\"\n",
              "       width=\"24px\">\n",
              "    <path d=\"M0 0h24v24H0V0z\" fill=\"none\"/>\n",
              "    <path d=\"M18.56 5.44l.94 2.06.94-2.06 2.06-.94-2.06-.94-.94-2.06-.94 2.06-2.06.94zm-11 1L8.5 8.5l.94-2.06 2.06-.94-2.06-.94L8.5 2.5l-.94 2.06-2.06.94zm10 10l.94 2.06.94-2.06 2.06-.94-2.06-.94-.94-2.06-.94 2.06-2.06.94z\"/><path d=\"M17.41 7.96l-1.37-1.37c-.4-.4-.92-.59-1.43-.59-.52 0-1.04.2-1.43.59L10.3 9.45l-7.72 7.72c-.78.78-.78 2.05 0 2.83L4 21.41c.39.39.9.59 1.41.59.51 0 1.02-.2 1.41-.59l7.78-7.78 2.81-2.81c.8-.78.8-2.07 0-2.86zM5.41 20L4 18.59l7.72-7.72 1.47 1.35L5.41 20z\"/>\n",
              "  </svg>\n",
              "      </button>\n",
              "      \n",
              "  <style>\n",
              "    .colab-df-container {\n",
              "      display:flex;\n",
              "      flex-wrap:wrap;\n",
              "      gap: 12px;\n",
              "    }\n",
              "\n",
              "    .colab-df-convert {\n",
              "      background-color: #E8F0FE;\n",
              "      border: none;\n",
              "      border-radius: 50%;\n",
              "      cursor: pointer;\n",
              "      display: none;\n",
              "      fill: #1967D2;\n",
              "      height: 32px;\n",
              "      padding: 0 0 0 0;\n",
              "      width: 32px;\n",
              "    }\n",
              "\n",
              "    .colab-df-convert:hover {\n",
              "      background-color: #E2EBFA;\n",
              "      box-shadow: 0px 1px 2px rgba(60, 64, 67, 0.3), 0px 1px 3px 1px rgba(60, 64, 67, 0.15);\n",
              "      fill: #174EA6;\n",
              "    }\n",
              "\n",
              "    [theme=dark] .colab-df-convert {\n",
              "      background-color: #3B4455;\n",
              "      fill: #D2E3FC;\n",
              "    }\n",
              "\n",
              "    [theme=dark] .colab-df-convert:hover {\n",
              "      background-color: #434B5C;\n",
              "      box-shadow: 0px 1px 3px 1px rgba(0, 0, 0, 0.15);\n",
              "      filter: drop-shadow(0px 1px 2px rgba(0, 0, 0, 0.3));\n",
              "      fill: #FFFFFF;\n",
              "    }\n",
              "  </style>\n",
              "\n",
              "      <script>\n",
              "        const buttonEl =\n",
              "          document.querySelector('#df-d5de1ffa-9c97-40c5-ae1e-bf7a92f8c934 button.colab-df-convert');\n",
              "        buttonEl.style.display =\n",
              "          google.colab.kernel.accessAllowed ? 'block' : 'none';\n",
              "\n",
              "        async function convertToInteractive(key) {\n",
              "          const element = document.querySelector('#df-d5de1ffa-9c97-40c5-ae1e-bf7a92f8c934');\n",
              "          const dataTable =\n",
              "            await google.colab.kernel.invokeFunction('convertToInteractive',\n",
              "                                                     [key], {});\n",
              "          if (!dataTable) return;\n",
              "\n",
              "          const docLinkHtml = 'Like what you see? Visit the ' +\n",
              "            '<a target=\"_blank\" href=https://colab.research.google.com/notebooks/data_table.ipynb>data table notebook</a>'\n",
              "            + ' to learn more about interactive tables.';\n",
              "          element.innerHTML = '';\n",
              "          dataTable['output_type'] = 'display_data';\n",
              "          await google.colab.output.renderOutput(dataTable, element);\n",
              "          const docLink = document.createElement('div');\n",
              "          docLink.innerHTML = docLinkHtml;\n",
              "          element.appendChild(docLink);\n",
              "        }\n",
              "      </script>\n",
              "    </div>\n",
              "  </div>\n",
              "  "
            ]
          },
          "metadata": {},
          "execution_count": 22
        }
      ]
    },
    {
      "cell_type": "code",
      "source": [
        "data1['Product Type'].value_counts()"
      ],
      "metadata": {
        "colab": {
          "base_uri": "https://localhost:8080/"
        },
        "id": "HBjmGM8QPWhI",
        "outputId": "17a1f0e9-2c94-4d94-b4fa-7c79ec5cc5f8"
      },
      "execution_count": null,
      "outputs": [
        {
          "output_type": "execute_result",
          "data": {
            "text/plain": [
              "shoes      335\n",
              "tshirt     280\n",
              "lower      230\n",
              "sandal     215\n",
              "watch      185\n",
              "shirt      180\n",
              "glasses    150\n",
              "sleeper     64\n",
              "Name: Product Type, dtype: int64"
            ]
          },
          "metadata": {},
          "execution_count": 4
        }
      ]
    },
    {
      "cell_type": "code",
      "source": [
        "data1['Who'].value_counts()"
      ],
      "metadata": {
        "colab": {
          "base_uri": "https://localhost:8080/"
        },
        "id": "_AORjQv3RoH6",
        "outputId": "b21bd660-aee4-4f3a-9b4a-03fd6e83833b"
      },
      "execution_count": null,
      "outputs": [
        {
          "output_type": "execute_result",
          "data": {
            "text/plain": [
              "men      710\n",
              "women    604\n",
              "kid      280\n",
              "kids      45\n",
              "Name: Who, dtype: int64"
            ]
          },
          "metadata": {},
          "execution_count": 5
        }
      ]
    },
    {
      "cell_type": "code",
      "source": [
        "#lets check mens are buys Most \n",
        "data2=data1.groupby('Who')\n",
        "data3=data2.get_group(\"men\")\n",
        "mens=data3.value_counts(\"Product Type\")\n",
        "mens"
      ],
      "metadata": {
        "colab": {
          "base_uri": "https://localhost:8080/"
        },
        "id": "dhGIuDDPRmvQ",
        "outputId": "2efd5916-af1f-40a5-81d8-a191107f3345"
      },
      "execution_count": null,
      "outputs": [
        {
          "output_type": "execute_result",
          "data": {
            "text/plain": [
              "Product Type\n",
              "shoes      120\n",
              "lower       95\n",
              "sandal      95\n",
              "tshirt      95\n",
              "watch       95\n",
              "shirt       90\n",
              "glasses     65\n",
              "sleeper     55\n",
              "dtype: int64"
            ]
          },
          "metadata": {},
          "execution_count": 6
        }
      ]
    },
    {
      "cell_type": "code",
      "source": [
        "nice=data1.groupby(['Product Type','Who']).size().reset_index(name=\"Total No. of Purchase\")"
      ],
      "metadata": {
        "id": "DTVC8AGKHVt2"
      },
      "execution_count": null,
      "outputs": []
    },
    {
      "cell_type": "code",
      "source": [
        "nice2=nice.groupby('Who')\n",
        "mens_product=nice2.get_group('men')"
      ],
      "metadata": {
        "id": "MK7fVhi6Lty1"
      },
      "execution_count": null,
      "outputs": []
    },
    {
      "cell_type": "code",
      "source": [
        "pl.bar(mens_product,x='Product Type',y=\"Total No. of Purchase\",color='Product Type')"
      ],
      "metadata": {
        "colab": {
          "base_uri": "https://localhost:8080/",
          "height": 542
        },
        "id": "A0bsvkHCNy29",
        "outputId": "024a743a-6de3-42af-e4c9-e29cce35a2dc"
      },
      "execution_count": null,
      "outputs": [
        {
          "output_type": "display_data",
          "data": {
            "text/html": [
              "<html>\n",
              "<head><meta charset=\"utf-8\" /></head>\n",
              "<body>\n",
              "    <div>            <script src=\"https://cdnjs.cloudflare.com/ajax/libs/mathjax/2.7.5/MathJax.js?config=TeX-AMS-MML_SVG\"></script><script type=\"text/javascript\">if (window.MathJax) {MathJax.Hub.Config({SVG: {font: \"STIX-Web\"}});}</script>                <script type=\"text/javascript\">window.PlotlyConfig = {MathJaxConfig: 'local'};</script>\n",
              "        <script src=\"https://cdn.plot.ly/plotly-2.8.3.min.js\"></script>                <div id=\"d61b79ac-6cb8-4f36-9098-607ee9b2e6dd\" class=\"plotly-graph-div\" style=\"height:525px; width:100%;\"></div>            <script type=\"text/javascript\">                                    window.PLOTLYENV=window.PLOTLYENV || {};                                    if (document.getElementById(\"d61b79ac-6cb8-4f36-9098-607ee9b2e6dd\")) {                    Plotly.newPlot(                        \"d61b79ac-6cb8-4f36-9098-607ee9b2e6dd\",                        [{\"alignmentgroup\":\"True\",\"hovertemplate\":\"Product Type=%{x}<br>Total No. of Purchase=%{y}<extra></extra>\",\"legendgroup\":\"glasses\",\"marker\":{\"color\":\"#636efa\",\"pattern\":{\"shape\":\"\"}},\"name\":\"glasses\",\"offsetgroup\":\"glasses\",\"orientation\":\"v\",\"showlegend\":true,\"textposition\":\"auto\",\"x\":[\"glasses\"],\"xaxis\":\"x\",\"y\":[65],\"yaxis\":\"y\",\"type\":\"bar\"},{\"alignmentgroup\":\"True\",\"hovertemplate\":\"Product Type=%{x}<br>Total No. of Purchase=%{y}<extra></extra>\",\"legendgroup\":\"lower\",\"marker\":{\"color\":\"#EF553B\",\"pattern\":{\"shape\":\"\"}},\"name\":\"lower\",\"offsetgroup\":\"lower\",\"orientation\":\"v\",\"showlegend\":true,\"textposition\":\"auto\",\"x\":[\"lower\"],\"xaxis\":\"x\",\"y\":[95],\"yaxis\":\"y\",\"type\":\"bar\"},{\"alignmentgroup\":\"True\",\"hovertemplate\":\"Product Type=%{x}<br>Total No. of Purchase=%{y}<extra></extra>\",\"legendgroup\":\"sandal\",\"marker\":{\"color\":\"#00cc96\",\"pattern\":{\"shape\":\"\"}},\"name\":\"sandal\",\"offsetgroup\":\"sandal\",\"orientation\":\"v\",\"showlegend\":true,\"textposition\":\"auto\",\"x\":[\"sandal\"],\"xaxis\":\"x\",\"y\":[95],\"yaxis\":\"y\",\"type\":\"bar\"},{\"alignmentgroup\":\"True\",\"hovertemplate\":\"Product Type=%{x}<br>Total No. of Purchase=%{y}<extra></extra>\",\"legendgroup\":\"shirt\",\"marker\":{\"color\":\"#ab63fa\",\"pattern\":{\"shape\":\"\"}},\"name\":\"shirt\",\"offsetgroup\":\"shirt\",\"orientation\":\"v\",\"showlegend\":true,\"textposition\":\"auto\",\"x\":[\"shirt\"],\"xaxis\":\"x\",\"y\":[90],\"yaxis\":\"y\",\"type\":\"bar\"},{\"alignmentgroup\":\"True\",\"hovertemplate\":\"Product Type=%{x}<br>Total No. of Purchase=%{y}<extra></extra>\",\"legendgroup\":\"shoes\",\"marker\":{\"color\":\"#FFA15A\",\"pattern\":{\"shape\":\"\"}},\"name\":\"shoes\",\"offsetgroup\":\"shoes\",\"orientation\":\"v\",\"showlegend\":true,\"textposition\":\"auto\",\"x\":[\"shoes\"],\"xaxis\":\"x\",\"y\":[120],\"yaxis\":\"y\",\"type\":\"bar\"},{\"alignmentgroup\":\"True\",\"hovertemplate\":\"Product Type=%{x}<br>Total No. of Purchase=%{y}<extra></extra>\",\"legendgroup\":\"sleeper\",\"marker\":{\"color\":\"#19d3f3\",\"pattern\":{\"shape\":\"\"}},\"name\":\"sleeper\",\"offsetgroup\":\"sleeper\",\"orientation\":\"v\",\"showlegend\":true,\"textposition\":\"auto\",\"x\":[\"sleeper\"],\"xaxis\":\"x\",\"y\":[55],\"yaxis\":\"y\",\"type\":\"bar\"},{\"alignmentgroup\":\"True\",\"hovertemplate\":\"Product Type=%{x}<br>Total No. of Purchase=%{y}<extra></extra>\",\"legendgroup\":\"tshirt\",\"marker\":{\"color\":\"#FF6692\",\"pattern\":{\"shape\":\"\"}},\"name\":\"tshirt\",\"offsetgroup\":\"tshirt\",\"orientation\":\"v\",\"showlegend\":true,\"textposition\":\"auto\",\"x\":[\"tshirt\"],\"xaxis\":\"x\",\"y\":[95],\"yaxis\":\"y\",\"type\":\"bar\"},{\"alignmentgroup\":\"True\",\"hovertemplate\":\"Product Type=%{x}<br>Total No. of Purchase=%{y}<extra></extra>\",\"legendgroup\":\"watch\",\"marker\":{\"color\":\"#B6E880\",\"pattern\":{\"shape\":\"\"}},\"name\":\"watch\",\"offsetgroup\":\"watch\",\"orientation\":\"v\",\"showlegend\":true,\"textposition\":\"auto\",\"x\":[\"watch\"],\"xaxis\":\"x\",\"y\":[95],\"yaxis\":\"y\",\"type\":\"bar\"}],                        {\"template\":{\"data\":{\"bar\":[{\"error_x\":{\"color\":\"#2a3f5f\"},\"error_y\":{\"color\":\"#2a3f5f\"},\"marker\":{\"line\":{\"color\":\"#E5ECF6\",\"width\":0.5},\"pattern\":{\"fillmode\":\"overlay\",\"size\":10,\"solidity\":0.2}},\"type\":\"bar\"}],\"barpolar\":[{\"marker\":{\"line\":{\"color\":\"#E5ECF6\",\"width\":0.5},\"pattern\":{\"fillmode\":\"overlay\",\"size\":10,\"solidity\":0.2}},\"type\":\"barpolar\"}],\"carpet\":[{\"aaxis\":{\"endlinecolor\":\"#2a3f5f\",\"gridcolor\":\"white\",\"linecolor\":\"white\",\"minorgridcolor\":\"white\",\"startlinecolor\":\"#2a3f5f\"},\"baxis\":{\"endlinecolor\":\"#2a3f5f\",\"gridcolor\":\"white\",\"linecolor\":\"white\",\"minorgridcolor\":\"white\",\"startlinecolor\":\"#2a3f5f\"},\"type\":\"carpet\"}],\"choropleth\":[{\"colorbar\":{\"outlinewidth\":0,\"ticks\":\"\"},\"type\":\"choropleth\"}],\"contour\":[{\"colorbar\":{\"outlinewidth\":0,\"ticks\":\"\"},\"colorscale\":[[0.0,\"#0d0887\"],[0.1111111111111111,\"#46039f\"],[0.2222222222222222,\"#7201a8\"],[0.3333333333333333,\"#9c179e\"],[0.4444444444444444,\"#bd3786\"],[0.5555555555555556,\"#d8576b\"],[0.6666666666666666,\"#ed7953\"],[0.7777777777777778,\"#fb9f3a\"],[0.8888888888888888,\"#fdca26\"],[1.0,\"#f0f921\"]],\"type\":\"contour\"}],\"contourcarpet\":[{\"colorbar\":{\"outlinewidth\":0,\"ticks\":\"\"},\"type\":\"contourcarpet\"}],\"heatmap\":[{\"colorbar\":{\"outlinewidth\":0,\"ticks\":\"\"},\"colorscale\":[[0.0,\"#0d0887\"],[0.1111111111111111,\"#46039f\"],[0.2222222222222222,\"#7201a8\"],[0.3333333333333333,\"#9c179e\"],[0.4444444444444444,\"#bd3786\"],[0.5555555555555556,\"#d8576b\"],[0.6666666666666666,\"#ed7953\"],[0.7777777777777778,\"#fb9f3a\"],[0.8888888888888888,\"#fdca26\"],[1.0,\"#f0f921\"]],\"type\":\"heatmap\"}],\"heatmapgl\":[{\"colorbar\":{\"outlinewidth\":0,\"ticks\":\"\"},\"colorscale\":[[0.0,\"#0d0887\"],[0.1111111111111111,\"#46039f\"],[0.2222222222222222,\"#7201a8\"],[0.3333333333333333,\"#9c179e\"],[0.4444444444444444,\"#bd3786\"],[0.5555555555555556,\"#d8576b\"],[0.6666666666666666,\"#ed7953\"],[0.7777777777777778,\"#fb9f3a\"],[0.8888888888888888,\"#fdca26\"],[1.0,\"#f0f921\"]],\"type\":\"heatmapgl\"}],\"histogram\":[{\"marker\":{\"pattern\":{\"fillmode\":\"overlay\",\"size\":10,\"solidity\":0.2}},\"type\":\"histogram\"}],\"histogram2d\":[{\"colorbar\":{\"outlinewidth\":0,\"ticks\":\"\"},\"colorscale\":[[0.0,\"#0d0887\"],[0.1111111111111111,\"#46039f\"],[0.2222222222222222,\"#7201a8\"],[0.3333333333333333,\"#9c179e\"],[0.4444444444444444,\"#bd3786\"],[0.5555555555555556,\"#d8576b\"],[0.6666666666666666,\"#ed7953\"],[0.7777777777777778,\"#fb9f3a\"],[0.8888888888888888,\"#fdca26\"],[1.0,\"#f0f921\"]],\"type\":\"histogram2d\"}],\"histogram2dcontour\":[{\"colorbar\":{\"outlinewidth\":0,\"ticks\":\"\"},\"colorscale\":[[0.0,\"#0d0887\"],[0.1111111111111111,\"#46039f\"],[0.2222222222222222,\"#7201a8\"],[0.3333333333333333,\"#9c179e\"],[0.4444444444444444,\"#bd3786\"],[0.5555555555555556,\"#d8576b\"],[0.6666666666666666,\"#ed7953\"],[0.7777777777777778,\"#fb9f3a\"],[0.8888888888888888,\"#fdca26\"],[1.0,\"#f0f921\"]],\"type\":\"histogram2dcontour\"}],\"mesh3d\":[{\"colorbar\":{\"outlinewidth\":0,\"ticks\":\"\"},\"type\":\"mesh3d\"}],\"parcoords\":[{\"line\":{\"colorbar\":{\"outlinewidth\":0,\"ticks\":\"\"}},\"type\":\"parcoords\"}],\"pie\":[{\"automargin\":true,\"type\":\"pie\"}],\"scatter\":[{\"marker\":{\"colorbar\":{\"outlinewidth\":0,\"ticks\":\"\"}},\"type\":\"scatter\"}],\"scatter3d\":[{\"line\":{\"colorbar\":{\"outlinewidth\":0,\"ticks\":\"\"}},\"marker\":{\"colorbar\":{\"outlinewidth\":0,\"ticks\":\"\"}},\"type\":\"scatter3d\"}],\"scattercarpet\":[{\"marker\":{\"colorbar\":{\"outlinewidth\":0,\"ticks\":\"\"}},\"type\":\"scattercarpet\"}],\"scattergeo\":[{\"marker\":{\"colorbar\":{\"outlinewidth\":0,\"ticks\":\"\"}},\"type\":\"scattergeo\"}],\"scattergl\":[{\"marker\":{\"colorbar\":{\"outlinewidth\":0,\"ticks\":\"\"}},\"type\":\"scattergl\"}],\"scattermapbox\":[{\"marker\":{\"colorbar\":{\"outlinewidth\":0,\"ticks\":\"\"}},\"type\":\"scattermapbox\"}],\"scatterpolar\":[{\"marker\":{\"colorbar\":{\"outlinewidth\":0,\"ticks\":\"\"}},\"type\":\"scatterpolar\"}],\"scatterpolargl\":[{\"marker\":{\"colorbar\":{\"outlinewidth\":0,\"ticks\":\"\"}},\"type\":\"scatterpolargl\"}],\"scatterternary\":[{\"marker\":{\"colorbar\":{\"outlinewidth\":0,\"ticks\":\"\"}},\"type\":\"scatterternary\"}],\"surface\":[{\"colorbar\":{\"outlinewidth\":0,\"ticks\":\"\"},\"colorscale\":[[0.0,\"#0d0887\"],[0.1111111111111111,\"#46039f\"],[0.2222222222222222,\"#7201a8\"],[0.3333333333333333,\"#9c179e\"],[0.4444444444444444,\"#bd3786\"],[0.5555555555555556,\"#d8576b\"],[0.6666666666666666,\"#ed7953\"],[0.7777777777777778,\"#fb9f3a\"],[0.8888888888888888,\"#fdca26\"],[1.0,\"#f0f921\"]],\"type\":\"surface\"}],\"table\":[{\"cells\":{\"fill\":{\"color\":\"#EBF0F8\"},\"line\":{\"color\":\"white\"}},\"header\":{\"fill\":{\"color\":\"#C8D4E3\"},\"line\":{\"color\":\"white\"}},\"type\":\"table\"}]},\"layout\":{\"annotationdefaults\":{\"arrowcolor\":\"#2a3f5f\",\"arrowhead\":0,\"arrowwidth\":1},\"autotypenumbers\":\"strict\",\"coloraxis\":{\"colorbar\":{\"outlinewidth\":0,\"ticks\":\"\"}},\"colorscale\":{\"diverging\":[[0,\"#8e0152\"],[0.1,\"#c51b7d\"],[0.2,\"#de77ae\"],[0.3,\"#f1b6da\"],[0.4,\"#fde0ef\"],[0.5,\"#f7f7f7\"],[0.6,\"#e6f5d0\"],[0.7,\"#b8e186\"],[0.8,\"#7fbc41\"],[0.9,\"#4d9221\"],[1,\"#276419\"]],\"sequential\":[[0.0,\"#0d0887\"],[0.1111111111111111,\"#46039f\"],[0.2222222222222222,\"#7201a8\"],[0.3333333333333333,\"#9c179e\"],[0.4444444444444444,\"#bd3786\"],[0.5555555555555556,\"#d8576b\"],[0.6666666666666666,\"#ed7953\"],[0.7777777777777778,\"#fb9f3a\"],[0.8888888888888888,\"#fdca26\"],[1.0,\"#f0f921\"]],\"sequentialminus\":[[0.0,\"#0d0887\"],[0.1111111111111111,\"#46039f\"],[0.2222222222222222,\"#7201a8\"],[0.3333333333333333,\"#9c179e\"],[0.4444444444444444,\"#bd3786\"],[0.5555555555555556,\"#d8576b\"],[0.6666666666666666,\"#ed7953\"],[0.7777777777777778,\"#fb9f3a\"],[0.8888888888888888,\"#fdca26\"],[1.0,\"#f0f921\"]]},\"colorway\":[\"#636efa\",\"#EF553B\",\"#00cc96\",\"#ab63fa\",\"#FFA15A\",\"#19d3f3\",\"#FF6692\",\"#B6E880\",\"#FF97FF\",\"#FECB52\"],\"font\":{\"color\":\"#2a3f5f\"},\"geo\":{\"bgcolor\":\"white\",\"lakecolor\":\"white\",\"landcolor\":\"#E5ECF6\",\"showlakes\":true,\"showland\":true,\"subunitcolor\":\"white\"},\"hoverlabel\":{\"align\":\"left\"},\"hovermode\":\"closest\",\"mapbox\":{\"style\":\"light\"},\"paper_bgcolor\":\"white\",\"plot_bgcolor\":\"#E5ECF6\",\"polar\":{\"angularaxis\":{\"gridcolor\":\"white\",\"linecolor\":\"white\",\"ticks\":\"\"},\"bgcolor\":\"#E5ECF6\",\"radialaxis\":{\"gridcolor\":\"white\",\"linecolor\":\"white\",\"ticks\":\"\"}},\"scene\":{\"xaxis\":{\"backgroundcolor\":\"#E5ECF6\",\"gridcolor\":\"white\",\"gridwidth\":2,\"linecolor\":\"white\",\"showbackground\":true,\"ticks\":\"\",\"zerolinecolor\":\"white\"},\"yaxis\":{\"backgroundcolor\":\"#E5ECF6\",\"gridcolor\":\"white\",\"gridwidth\":2,\"linecolor\":\"white\",\"showbackground\":true,\"ticks\":\"\",\"zerolinecolor\":\"white\"},\"zaxis\":{\"backgroundcolor\":\"#E5ECF6\",\"gridcolor\":\"white\",\"gridwidth\":2,\"linecolor\":\"white\",\"showbackground\":true,\"ticks\":\"\",\"zerolinecolor\":\"white\"}},\"shapedefaults\":{\"line\":{\"color\":\"#2a3f5f\"}},\"ternary\":{\"aaxis\":{\"gridcolor\":\"white\",\"linecolor\":\"white\",\"ticks\":\"\"},\"baxis\":{\"gridcolor\":\"white\",\"linecolor\":\"white\",\"ticks\":\"\"},\"bgcolor\":\"#E5ECF6\",\"caxis\":{\"gridcolor\":\"white\",\"linecolor\":\"white\",\"ticks\":\"\"}},\"title\":{\"x\":0.05},\"xaxis\":{\"automargin\":true,\"gridcolor\":\"white\",\"linecolor\":\"white\",\"ticks\":\"\",\"title\":{\"standoff\":15},\"zerolinecolor\":\"white\",\"zerolinewidth\":2},\"yaxis\":{\"automargin\":true,\"gridcolor\":\"white\",\"linecolor\":\"white\",\"ticks\":\"\",\"title\":{\"standoff\":15},\"zerolinecolor\":\"white\",\"zerolinewidth\":2}}},\"xaxis\":{\"anchor\":\"y\",\"domain\":[0.0,1.0],\"title\":{\"text\":\"Product Type\"},\"categoryorder\":\"array\",\"categoryarray\":[\"glasses\",\"lower\",\"sandal\",\"shirt\",\"shoes\",\"sleeper\",\"tshirt\",\"watch\"]},\"yaxis\":{\"anchor\":\"x\",\"domain\":[0.0,1.0],\"title\":{\"text\":\"Total No. of Purchase\"}},\"legend\":{\"title\":{\"text\":\"Product Type\"},\"tracegroupgap\":0},\"margin\":{\"t\":60},\"barmode\":\"relative\"},                        {\"responsive\": true}                    ).then(function(){\n",
              "                            \n",
              "var gd = document.getElementById('d61b79ac-6cb8-4f36-9098-607ee9b2e6dd');\n",
              "var x = new MutationObserver(function (mutations, observer) {{\n",
              "        var display = window.getComputedStyle(gd).display;\n",
              "        if (!display || display === 'none') {{\n",
              "            console.log([gd, 'removed!']);\n",
              "            Plotly.purge(gd);\n",
              "            observer.disconnect();\n",
              "        }}\n",
              "}});\n",
              "\n",
              "// Listen for the removal of the full notebook cells\n",
              "var notebookContainer = gd.closest('#notebook-container');\n",
              "if (notebookContainer) {{\n",
              "    x.observe(notebookContainer, {childList: true});\n",
              "}}\n",
              "\n",
              "// Listen for the clearing of the current output cell\n",
              "var outputEl = gd.closest('.output');\n",
              "if (outputEl) {{\n",
              "    x.observe(outputEl, {childList: true});\n",
              "}}\n",
              "\n",
              "                        })                };                            </script>        </div>\n",
              "</body>\n",
              "</html>"
            ]
          },
          "metadata": {}
        }
      ]
    },
    {
      "cell_type": "code",
      "source": [
        "# let find for womens shopping categories\n",
        "data2=data1.groupby('Who')\n",
        "data3=data2.get_group(\"women\")\n",
        "mens=data3.value_counts(\"Product Type\")\n",
        "mens"
      ],
      "metadata": {
        "colab": {
          "base_uri": "https://localhost:8080/"
        },
        "id": "H0JIQ8HpO8TB",
        "outputId": "41bd57c9-7869-4cd6-d998-a40e3e0f7718"
      },
      "execution_count": null,
      "outputs": [
        {
          "output_type": "execute_result",
          "data": {
            "text/plain": [
              "Product Type\n",
              "shoes      125\n",
              "lower       90\n",
              "shirt       90\n",
              "tshirt      90\n",
              "watch       90\n",
              "glasses     80\n",
              "sandal      30\n",
              "sleeper      9\n",
              "dtype: int64"
            ]
          },
          "metadata": {},
          "execution_count": 10
        }
      ]
    },
    {
      "cell_type": "code",
      "source": [
        "nice=data1.groupby(['Product Type','Who']).size().reset_index(name=\"Total No. of Purchase\")\n",
        "nice2=nice.groupby('Who')\n",
        "womens_product=nice2.get_group('women')\n",
        "\n"
      ],
      "metadata": {
        "id": "9vFsFhLKPZxo"
      },
      "execution_count": null,
      "outputs": []
    },
    {
      "cell_type": "code",
      "source": [
        "pl.bar(womens_product,x='Product Type',y=\"Total No. of Purchase\")"
      ],
      "metadata": {
        "colab": {
          "base_uri": "https://localhost:8080/",
          "height": 542
        },
        "id": "SFUDZjwlRu9T",
        "outputId": "a5b07183-383f-46bb-bab0-2e121d0d478d"
      },
      "execution_count": null,
      "outputs": [
        {
          "output_type": "display_data",
          "data": {
            "text/html": [
              "<html>\n",
              "<head><meta charset=\"utf-8\" /></head>\n",
              "<body>\n",
              "    <div>            <script src=\"https://cdnjs.cloudflare.com/ajax/libs/mathjax/2.7.5/MathJax.js?config=TeX-AMS-MML_SVG\"></script><script type=\"text/javascript\">if (window.MathJax) {MathJax.Hub.Config({SVG: {font: \"STIX-Web\"}});}</script>                <script type=\"text/javascript\">window.PlotlyConfig = {MathJaxConfig: 'local'};</script>\n",
              "        <script src=\"https://cdn.plot.ly/plotly-2.8.3.min.js\"></script>                <div id=\"c13233af-ec37-4f36-b3e5-4f330c7d06d9\" class=\"plotly-graph-div\" style=\"height:525px; width:100%;\"></div>            <script type=\"text/javascript\">                                    window.PLOTLYENV=window.PLOTLYENV || {};                                    if (document.getElementById(\"c13233af-ec37-4f36-b3e5-4f330c7d06d9\")) {                    Plotly.newPlot(                        \"c13233af-ec37-4f36-b3e5-4f330c7d06d9\",                        [{\"alignmentgroup\":\"True\",\"hovertemplate\":\"Product Type=%{x}<br>Total No. of Purchase=%{y}<extra></extra>\",\"legendgroup\":\"\",\"marker\":{\"color\":\"#636efa\",\"pattern\":{\"shape\":\"\"}},\"name\":\"\",\"offsetgroup\":\"\",\"orientation\":\"v\",\"showlegend\":false,\"textposition\":\"auto\",\"x\":[\"glasses\",\"lower\",\"sandal\",\"shirt\",\"shoes\",\"sleeper\",\"tshirt\",\"watch\"],\"xaxis\":\"x\",\"y\":[80,90,30,90,125,9,90,90],\"yaxis\":\"y\",\"type\":\"bar\"}],                        {\"template\":{\"data\":{\"bar\":[{\"error_x\":{\"color\":\"#2a3f5f\"},\"error_y\":{\"color\":\"#2a3f5f\"},\"marker\":{\"line\":{\"color\":\"#E5ECF6\",\"width\":0.5},\"pattern\":{\"fillmode\":\"overlay\",\"size\":10,\"solidity\":0.2}},\"type\":\"bar\"}],\"barpolar\":[{\"marker\":{\"line\":{\"color\":\"#E5ECF6\",\"width\":0.5},\"pattern\":{\"fillmode\":\"overlay\",\"size\":10,\"solidity\":0.2}},\"type\":\"barpolar\"}],\"carpet\":[{\"aaxis\":{\"endlinecolor\":\"#2a3f5f\",\"gridcolor\":\"white\",\"linecolor\":\"white\",\"minorgridcolor\":\"white\",\"startlinecolor\":\"#2a3f5f\"},\"baxis\":{\"endlinecolor\":\"#2a3f5f\",\"gridcolor\":\"white\",\"linecolor\":\"white\",\"minorgridcolor\":\"white\",\"startlinecolor\":\"#2a3f5f\"},\"type\":\"carpet\"}],\"choropleth\":[{\"colorbar\":{\"outlinewidth\":0,\"ticks\":\"\"},\"type\":\"choropleth\"}],\"contour\":[{\"colorbar\":{\"outlinewidth\":0,\"ticks\":\"\"},\"colorscale\":[[0.0,\"#0d0887\"],[0.1111111111111111,\"#46039f\"],[0.2222222222222222,\"#7201a8\"],[0.3333333333333333,\"#9c179e\"],[0.4444444444444444,\"#bd3786\"],[0.5555555555555556,\"#d8576b\"],[0.6666666666666666,\"#ed7953\"],[0.7777777777777778,\"#fb9f3a\"],[0.8888888888888888,\"#fdca26\"],[1.0,\"#f0f921\"]],\"type\":\"contour\"}],\"contourcarpet\":[{\"colorbar\":{\"outlinewidth\":0,\"ticks\":\"\"},\"type\":\"contourcarpet\"}],\"heatmap\":[{\"colorbar\":{\"outlinewidth\":0,\"ticks\":\"\"},\"colorscale\":[[0.0,\"#0d0887\"],[0.1111111111111111,\"#46039f\"],[0.2222222222222222,\"#7201a8\"],[0.3333333333333333,\"#9c179e\"],[0.4444444444444444,\"#bd3786\"],[0.5555555555555556,\"#d8576b\"],[0.6666666666666666,\"#ed7953\"],[0.7777777777777778,\"#fb9f3a\"],[0.8888888888888888,\"#fdca26\"],[1.0,\"#f0f921\"]],\"type\":\"heatmap\"}],\"heatmapgl\":[{\"colorbar\":{\"outlinewidth\":0,\"ticks\":\"\"},\"colorscale\":[[0.0,\"#0d0887\"],[0.1111111111111111,\"#46039f\"],[0.2222222222222222,\"#7201a8\"],[0.3333333333333333,\"#9c179e\"],[0.4444444444444444,\"#bd3786\"],[0.5555555555555556,\"#d8576b\"],[0.6666666666666666,\"#ed7953\"],[0.7777777777777778,\"#fb9f3a\"],[0.8888888888888888,\"#fdca26\"],[1.0,\"#f0f921\"]],\"type\":\"heatmapgl\"}],\"histogram\":[{\"marker\":{\"pattern\":{\"fillmode\":\"overlay\",\"size\":10,\"solidity\":0.2}},\"type\":\"histogram\"}],\"histogram2d\":[{\"colorbar\":{\"outlinewidth\":0,\"ticks\":\"\"},\"colorscale\":[[0.0,\"#0d0887\"],[0.1111111111111111,\"#46039f\"],[0.2222222222222222,\"#7201a8\"],[0.3333333333333333,\"#9c179e\"],[0.4444444444444444,\"#bd3786\"],[0.5555555555555556,\"#d8576b\"],[0.6666666666666666,\"#ed7953\"],[0.7777777777777778,\"#fb9f3a\"],[0.8888888888888888,\"#fdca26\"],[1.0,\"#f0f921\"]],\"type\":\"histogram2d\"}],\"histogram2dcontour\":[{\"colorbar\":{\"outlinewidth\":0,\"ticks\":\"\"},\"colorscale\":[[0.0,\"#0d0887\"],[0.1111111111111111,\"#46039f\"],[0.2222222222222222,\"#7201a8\"],[0.3333333333333333,\"#9c179e\"],[0.4444444444444444,\"#bd3786\"],[0.5555555555555556,\"#d8576b\"],[0.6666666666666666,\"#ed7953\"],[0.7777777777777778,\"#fb9f3a\"],[0.8888888888888888,\"#fdca26\"],[1.0,\"#f0f921\"]],\"type\":\"histogram2dcontour\"}],\"mesh3d\":[{\"colorbar\":{\"outlinewidth\":0,\"ticks\":\"\"},\"type\":\"mesh3d\"}],\"parcoords\":[{\"line\":{\"colorbar\":{\"outlinewidth\":0,\"ticks\":\"\"}},\"type\":\"parcoords\"}],\"pie\":[{\"automargin\":true,\"type\":\"pie\"}],\"scatter\":[{\"marker\":{\"colorbar\":{\"outlinewidth\":0,\"ticks\":\"\"}},\"type\":\"scatter\"}],\"scatter3d\":[{\"line\":{\"colorbar\":{\"outlinewidth\":0,\"ticks\":\"\"}},\"marker\":{\"colorbar\":{\"outlinewidth\":0,\"ticks\":\"\"}},\"type\":\"scatter3d\"}],\"scattercarpet\":[{\"marker\":{\"colorbar\":{\"outlinewidth\":0,\"ticks\":\"\"}},\"type\":\"scattercarpet\"}],\"scattergeo\":[{\"marker\":{\"colorbar\":{\"outlinewidth\":0,\"ticks\":\"\"}},\"type\":\"scattergeo\"}],\"scattergl\":[{\"marker\":{\"colorbar\":{\"outlinewidth\":0,\"ticks\":\"\"}},\"type\":\"scattergl\"}],\"scattermapbox\":[{\"marker\":{\"colorbar\":{\"outlinewidth\":0,\"ticks\":\"\"}},\"type\":\"scattermapbox\"}],\"scatterpolar\":[{\"marker\":{\"colorbar\":{\"outlinewidth\":0,\"ticks\":\"\"}},\"type\":\"scatterpolar\"}],\"scatterpolargl\":[{\"marker\":{\"colorbar\":{\"outlinewidth\":0,\"ticks\":\"\"}},\"type\":\"scatterpolargl\"}],\"scatterternary\":[{\"marker\":{\"colorbar\":{\"outlinewidth\":0,\"ticks\":\"\"}},\"type\":\"scatterternary\"}],\"surface\":[{\"colorbar\":{\"outlinewidth\":0,\"ticks\":\"\"},\"colorscale\":[[0.0,\"#0d0887\"],[0.1111111111111111,\"#46039f\"],[0.2222222222222222,\"#7201a8\"],[0.3333333333333333,\"#9c179e\"],[0.4444444444444444,\"#bd3786\"],[0.5555555555555556,\"#d8576b\"],[0.6666666666666666,\"#ed7953\"],[0.7777777777777778,\"#fb9f3a\"],[0.8888888888888888,\"#fdca26\"],[1.0,\"#f0f921\"]],\"type\":\"surface\"}],\"table\":[{\"cells\":{\"fill\":{\"color\":\"#EBF0F8\"},\"line\":{\"color\":\"white\"}},\"header\":{\"fill\":{\"color\":\"#C8D4E3\"},\"line\":{\"color\":\"white\"}},\"type\":\"table\"}]},\"layout\":{\"annotationdefaults\":{\"arrowcolor\":\"#2a3f5f\",\"arrowhead\":0,\"arrowwidth\":1},\"autotypenumbers\":\"strict\",\"coloraxis\":{\"colorbar\":{\"outlinewidth\":0,\"ticks\":\"\"}},\"colorscale\":{\"diverging\":[[0,\"#8e0152\"],[0.1,\"#c51b7d\"],[0.2,\"#de77ae\"],[0.3,\"#f1b6da\"],[0.4,\"#fde0ef\"],[0.5,\"#f7f7f7\"],[0.6,\"#e6f5d0\"],[0.7,\"#b8e186\"],[0.8,\"#7fbc41\"],[0.9,\"#4d9221\"],[1,\"#276419\"]],\"sequential\":[[0.0,\"#0d0887\"],[0.1111111111111111,\"#46039f\"],[0.2222222222222222,\"#7201a8\"],[0.3333333333333333,\"#9c179e\"],[0.4444444444444444,\"#bd3786\"],[0.5555555555555556,\"#d8576b\"],[0.6666666666666666,\"#ed7953\"],[0.7777777777777778,\"#fb9f3a\"],[0.8888888888888888,\"#fdca26\"],[1.0,\"#f0f921\"]],\"sequentialminus\":[[0.0,\"#0d0887\"],[0.1111111111111111,\"#46039f\"],[0.2222222222222222,\"#7201a8\"],[0.3333333333333333,\"#9c179e\"],[0.4444444444444444,\"#bd3786\"],[0.5555555555555556,\"#d8576b\"],[0.6666666666666666,\"#ed7953\"],[0.7777777777777778,\"#fb9f3a\"],[0.8888888888888888,\"#fdca26\"],[1.0,\"#f0f921\"]]},\"colorway\":[\"#636efa\",\"#EF553B\",\"#00cc96\",\"#ab63fa\",\"#FFA15A\",\"#19d3f3\",\"#FF6692\",\"#B6E880\",\"#FF97FF\",\"#FECB52\"],\"font\":{\"color\":\"#2a3f5f\"},\"geo\":{\"bgcolor\":\"white\",\"lakecolor\":\"white\",\"landcolor\":\"#E5ECF6\",\"showlakes\":true,\"showland\":true,\"subunitcolor\":\"white\"},\"hoverlabel\":{\"align\":\"left\"},\"hovermode\":\"closest\",\"mapbox\":{\"style\":\"light\"},\"paper_bgcolor\":\"white\",\"plot_bgcolor\":\"#E5ECF6\",\"polar\":{\"angularaxis\":{\"gridcolor\":\"white\",\"linecolor\":\"white\",\"ticks\":\"\"},\"bgcolor\":\"#E5ECF6\",\"radialaxis\":{\"gridcolor\":\"white\",\"linecolor\":\"white\",\"ticks\":\"\"}},\"scene\":{\"xaxis\":{\"backgroundcolor\":\"#E5ECF6\",\"gridcolor\":\"white\",\"gridwidth\":2,\"linecolor\":\"white\",\"showbackground\":true,\"ticks\":\"\",\"zerolinecolor\":\"white\"},\"yaxis\":{\"backgroundcolor\":\"#E5ECF6\",\"gridcolor\":\"white\",\"gridwidth\":2,\"linecolor\":\"white\",\"showbackground\":true,\"ticks\":\"\",\"zerolinecolor\":\"white\"},\"zaxis\":{\"backgroundcolor\":\"#E5ECF6\",\"gridcolor\":\"white\",\"gridwidth\":2,\"linecolor\":\"white\",\"showbackground\":true,\"ticks\":\"\",\"zerolinecolor\":\"white\"}},\"shapedefaults\":{\"line\":{\"color\":\"#2a3f5f\"}},\"ternary\":{\"aaxis\":{\"gridcolor\":\"white\",\"linecolor\":\"white\",\"ticks\":\"\"},\"baxis\":{\"gridcolor\":\"white\",\"linecolor\":\"white\",\"ticks\":\"\"},\"bgcolor\":\"#E5ECF6\",\"caxis\":{\"gridcolor\":\"white\",\"linecolor\":\"white\",\"ticks\":\"\"}},\"title\":{\"x\":0.05},\"xaxis\":{\"automargin\":true,\"gridcolor\":\"white\",\"linecolor\":\"white\",\"ticks\":\"\",\"title\":{\"standoff\":15},\"zerolinecolor\":\"white\",\"zerolinewidth\":2},\"yaxis\":{\"automargin\":true,\"gridcolor\":\"white\",\"linecolor\":\"white\",\"ticks\":\"\",\"title\":{\"standoff\":15},\"zerolinecolor\":\"white\",\"zerolinewidth\":2}}},\"xaxis\":{\"anchor\":\"y\",\"domain\":[0.0,1.0],\"title\":{\"text\":\"Product Type\"}},\"yaxis\":{\"anchor\":\"x\",\"domain\":[0.0,1.0],\"title\":{\"text\":\"Total No. of Purchase\"}},\"legend\":{\"tracegroupgap\":0},\"margin\":{\"t\":60},\"barmode\":\"relative\"},                        {\"responsive\": true}                    ).then(function(){\n",
              "                            \n",
              "var gd = document.getElementById('c13233af-ec37-4f36-b3e5-4f330c7d06d9');\n",
              "var x = new MutationObserver(function (mutations, observer) {{\n",
              "        var display = window.getComputedStyle(gd).display;\n",
              "        if (!display || display === 'none') {{\n",
              "            console.log([gd, 'removed!']);\n",
              "            Plotly.purge(gd);\n",
              "            observer.disconnect();\n",
              "        }}\n",
              "}});\n",
              "\n",
              "// Listen for the removal of the full notebook cells\n",
              "var notebookContainer = gd.closest('#notebook-container');\n",
              "if (notebookContainer) {{\n",
              "    x.observe(notebookContainer, {childList: true});\n",
              "}}\n",
              "\n",
              "// Listen for the clearing of the current output cell\n",
              "var outputEl = gd.closest('.output');\n",
              "if (outputEl) {{\n",
              "    x.observe(outputEl, {childList: true});\n",
              "}}\n",
              "\n",
              "                        })                };                            </script>        </div>\n",
              "</body>\n",
              "</html>"
            ]
          },
          "metadata": {}
        }
      ]
    },
    {
      "cell_type": "code",
      "source": [
        "# let see for kids\n",
        "data2=data1.groupby('Who')\n",
        "data3=data2.get_group(\"kid\")\n",
        "mens=data3.value_counts(\"Product Type\")\n",
        "mens\n"
      ],
      "metadata": {
        "colab": {
          "base_uri": "https://localhost:8080/"
        },
        "id": "WLCc48HdR0R1",
        "outputId": "6e1d1923-7338-45c1-97bf-3a6673ac01e0"
      },
      "execution_count": null,
      "outputs": [
        {
          "output_type": "execute_result",
          "data": {
            "text/plain": [
              "Product Type\n",
              "tshirt     95\n",
              "sandal     90\n",
              "shoes      90\n",
              "glasses     5\n",
              "dtype: int64"
            ]
          },
          "metadata": {},
          "execution_count": 13
        }
      ]
    },
    {
      "cell_type": "code",
      "source": [
        "nice=data1.groupby(['Product Type','Who']).size().reset_index(name=\"Total No. of Purchase\")\n",
        "nice2=nice.groupby('Who')\n",
        "kids_product=nice2.get_group('kid')"
      ],
      "metadata": {
        "id": "XN6KxU9dSMXW"
      },
      "execution_count": null,
      "outputs": []
    },
    {
      "cell_type": "code",
      "source": [
        "pl.bar(kids_product,x='Product Type',y=\"Total No. of Purchase\",color='Product Type')"
      ],
      "metadata": {
        "colab": {
          "base_uri": "https://localhost:8080/",
          "height": 542
        },
        "id": "2NKCpB1jSVHe",
        "outputId": "66da19ff-0724-4237-a97a-eef736a53def"
      },
      "execution_count": null,
      "outputs": [
        {
          "output_type": "display_data",
          "data": {
            "text/html": [
              "<html>\n",
              "<head><meta charset=\"utf-8\" /></head>\n",
              "<body>\n",
              "    <div>            <script src=\"https://cdnjs.cloudflare.com/ajax/libs/mathjax/2.7.5/MathJax.js?config=TeX-AMS-MML_SVG\"></script><script type=\"text/javascript\">if (window.MathJax) {MathJax.Hub.Config({SVG: {font: \"STIX-Web\"}});}</script>                <script type=\"text/javascript\">window.PlotlyConfig = {MathJaxConfig: 'local'};</script>\n",
              "        <script src=\"https://cdn.plot.ly/plotly-2.8.3.min.js\"></script>                <div id=\"7bc72bee-d8e1-49c4-be55-bb7c2cc154b2\" class=\"plotly-graph-div\" style=\"height:525px; width:100%;\"></div>            <script type=\"text/javascript\">                                    window.PLOTLYENV=window.PLOTLYENV || {};                                    if (document.getElementById(\"7bc72bee-d8e1-49c4-be55-bb7c2cc154b2\")) {                    Plotly.newPlot(                        \"7bc72bee-d8e1-49c4-be55-bb7c2cc154b2\",                        [{\"alignmentgroup\":\"True\",\"hovertemplate\":\"Product Type=%{x}<br>Total No. of Purchase=%{y}<extra></extra>\",\"legendgroup\":\"glasses\",\"marker\":{\"color\":\"#636efa\",\"pattern\":{\"shape\":\"\"}},\"name\":\"glasses\",\"offsetgroup\":\"glasses\",\"orientation\":\"v\",\"showlegend\":true,\"textposition\":\"auto\",\"x\":[\"glasses\"],\"xaxis\":\"x\",\"y\":[5],\"yaxis\":\"y\",\"type\":\"bar\"},{\"alignmentgroup\":\"True\",\"hovertemplate\":\"Product Type=%{x}<br>Total No. of Purchase=%{y}<extra></extra>\",\"legendgroup\":\"sandal\",\"marker\":{\"color\":\"#EF553B\",\"pattern\":{\"shape\":\"\"}},\"name\":\"sandal\",\"offsetgroup\":\"sandal\",\"orientation\":\"v\",\"showlegend\":true,\"textposition\":\"auto\",\"x\":[\"sandal\"],\"xaxis\":\"x\",\"y\":[90],\"yaxis\":\"y\",\"type\":\"bar\"},{\"alignmentgroup\":\"True\",\"hovertemplate\":\"Product Type=%{x}<br>Total No. of Purchase=%{y}<extra></extra>\",\"legendgroup\":\"shoes\",\"marker\":{\"color\":\"#00cc96\",\"pattern\":{\"shape\":\"\"}},\"name\":\"shoes\",\"offsetgroup\":\"shoes\",\"orientation\":\"v\",\"showlegend\":true,\"textposition\":\"auto\",\"x\":[\"shoes\"],\"xaxis\":\"x\",\"y\":[90],\"yaxis\":\"y\",\"type\":\"bar\"},{\"alignmentgroup\":\"True\",\"hovertemplate\":\"Product Type=%{x}<br>Total No. of Purchase=%{y}<extra></extra>\",\"legendgroup\":\"tshirt\",\"marker\":{\"color\":\"#ab63fa\",\"pattern\":{\"shape\":\"\"}},\"name\":\"tshirt\",\"offsetgroup\":\"tshirt\",\"orientation\":\"v\",\"showlegend\":true,\"textposition\":\"auto\",\"x\":[\"tshirt\"],\"xaxis\":\"x\",\"y\":[95],\"yaxis\":\"y\",\"type\":\"bar\"}],                        {\"template\":{\"data\":{\"bar\":[{\"error_x\":{\"color\":\"#2a3f5f\"},\"error_y\":{\"color\":\"#2a3f5f\"},\"marker\":{\"line\":{\"color\":\"#E5ECF6\",\"width\":0.5},\"pattern\":{\"fillmode\":\"overlay\",\"size\":10,\"solidity\":0.2}},\"type\":\"bar\"}],\"barpolar\":[{\"marker\":{\"line\":{\"color\":\"#E5ECF6\",\"width\":0.5},\"pattern\":{\"fillmode\":\"overlay\",\"size\":10,\"solidity\":0.2}},\"type\":\"barpolar\"}],\"carpet\":[{\"aaxis\":{\"endlinecolor\":\"#2a3f5f\",\"gridcolor\":\"white\",\"linecolor\":\"white\",\"minorgridcolor\":\"white\",\"startlinecolor\":\"#2a3f5f\"},\"baxis\":{\"endlinecolor\":\"#2a3f5f\",\"gridcolor\":\"white\",\"linecolor\":\"white\",\"minorgridcolor\":\"white\",\"startlinecolor\":\"#2a3f5f\"},\"type\":\"carpet\"}],\"choropleth\":[{\"colorbar\":{\"outlinewidth\":0,\"ticks\":\"\"},\"type\":\"choropleth\"}],\"contour\":[{\"colorbar\":{\"outlinewidth\":0,\"ticks\":\"\"},\"colorscale\":[[0.0,\"#0d0887\"],[0.1111111111111111,\"#46039f\"],[0.2222222222222222,\"#7201a8\"],[0.3333333333333333,\"#9c179e\"],[0.4444444444444444,\"#bd3786\"],[0.5555555555555556,\"#d8576b\"],[0.6666666666666666,\"#ed7953\"],[0.7777777777777778,\"#fb9f3a\"],[0.8888888888888888,\"#fdca26\"],[1.0,\"#f0f921\"]],\"type\":\"contour\"}],\"contourcarpet\":[{\"colorbar\":{\"outlinewidth\":0,\"ticks\":\"\"},\"type\":\"contourcarpet\"}],\"heatmap\":[{\"colorbar\":{\"outlinewidth\":0,\"ticks\":\"\"},\"colorscale\":[[0.0,\"#0d0887\"],[0.1111111111111111,\"#46039f\"],[0.2222222222222222,\"#7201a8\"],[0.3333333333333333,\"#9c179e\"],[0.4444444444444444,\"#bd3786\"],[0.5555555555555556,\"#d8576b\"],[0.6666666666666666,\"#ed7953\"],[0.7777777777777778,\"#fb9f3a\"],[0.8888888888888888,\"#fdca26\"],[1.0,\"#f0f921\"]],\"type\":\"heatmap\"}],\"heatmapgl\":[{\"colorbar\":{\"outlinewidth\":0,\"ticks\":\"\"},\"colorscale\":[[0.0,\"#0d0887\"],[0.1111111111111111,\"#46039f\"],[0.2222222222222222,\"#7201a8\"],[0.3333333333333333,\"#9c179e\"],[0.4444444444444444,\"#bd3786\"],[0.5555555555555556,\"#d8576b\"],[0.6666666666666666,\"#ed7953\"],[0.7777777777777778,\"#fb9f3a\"],[0.8888888888888888,\"#fdca26\"],[1.0,\"#f0f921\"]],\"type\":\"heatmapgl\"}],\"histogram\":[{\"marker\":{\"pattern\":{\"fillmode\":\"overlay\",\"size\":10,\"solidity\":0.2}},\"type\":\"histogram\"}],\"histogram2d\":[{\"colorbar\":{\"outlinewidth\":0,\"ticks\":\"\"},\"colorscale\":[[0.0,\"#0d0887\"],[0.1111111111111111,\"#46039f\"],[0.2222222222222222,\"#7201a8\"],[0.3333333333333333,\"#9c179e\"],[0.4444444444444444,\"#bd3786\"],[0.5555555555555556,\"#d8576b\"],[0.6666666666666666,\"#ed7953\"],[0.7777777777777778,\"#fb9f3a\"],[0.8888888888888888,\"#fdca26\"],[1.0,\"#f0f921\"]],\"type\":\"histogram2d\"}],\"histogram2dcontour\":[{\"colorbar\":{\"outlinewidth\":0,\"ticks\":\"\"},\"colorscale\":[[0.0,\"#0d0887\"],[0.1111111111111111,\"#46039f\"],[0.2222222222222222,\"#7201a8\"],[0.3333333333333333,\"#9c179e\"],[0.4444444444444444,\"#bd3786\"],[0.5555555555555556,\"#d8576b\"],[0.6666666666666666,\"#ed7953\"],[0.7777777777777778,\"#fb9f3a\"],[0.8888888888888888,\"#fdca26\"],[1.0,\"#f0f921\"]],\"type\":\"histogram2dcontour\"}],\"mesh3d\":[{\"colorbar\":{\"outlinewidth\":0,\"ticks\":\"\"},\"type\":\"mesh3d\"}],\"parcoords\":[{\"line\":{\"colorbar\":{\"outlinewidth\":0,\"ticks\":\"\"}},\"type\":\"parcoords\"}],\"pie\":[{\"automargin\":true,\"type\":\"pie\"}],\"scatter\":[{\"marker\":{\"colorbar\":{\"outlinewidth\":0,\"ticks\":\"\"}},\"type\":\"scatter\"}],\"scatter3d\":[{\"line\":{\"colorbar\":{\"outlinewidth\":0,\"ticks\":\"\"}},\"marker\":{\"colorbar\":{\"outlinewidth\":0,\"ticks\":\"\"}},\"type\":\"scatter3d\"}],\"scattercarpet\":[{\"marker\":{\"colorbar\":{\"outlinewidth\":0,\"ticks\":\"\"}},\"type\":\"scattercarpet\"}],\"scattergeo\":[{\"marker\":{\"colorbar\":{\"outlinewidth\":0,\"ticks\":\"\"}},\"type\":\"scattergeo\"}],\"scattergl\":[{\"marker\":{\"colorbar\":{\"outlinewidth\":0,\"ticks\":\"\"}},\"type\":\"scattergl\"}],\"scattermapbox\":[{\"marker\":{\"colorbar\":{\"outlinewidth\":0,\"ticks\":\"\"}},\"type\":\"scattermapbox\"}],\"scatterpolar\":[{\"marker\":{\"colorbar\":{\"outlinewidth\":0,\"ticks\":\"\"}},\"type\":\"scatterpolar\"}],\"scatterpolargl\":[{\"marker\":{\"colorbar\":{\"outlinewidth\":0,\"ticks\":\"\"}},\"type\":\"scatterpolargl\"}],\"scatterternary\":[{\"marker\":{\"colorbar\":{\"outlinewidth\":0,\"ticks\":\"\"}},\"type\":\"scatterternary\"}],\"surface\":[{\"colorbar\":{\"outlinewidth\":0,\"ticks\":\"\"},\"colorscale\":[[0.0,\"#0d0887\"],[0.1111111111111111,\"#46039f\"],[0.2222222222222222,\"#7201a8\"],[0.3333333333333333,\"#9c179e\"],[0.4444444444444444,\"#bd3786\"],[0.5555555555555556,\"#d8576b\"],[0.6666666666666666,\"#ed7953\"],[0.7777777777777778,\"#fb9f3a\"],[0.8888888888888888,\"#fdca26\"],[1.0,\"#f0f921\"]],\"type\":\"surface\"}],\"table\":[{\"cells\":{\"fill\":{\"color\":\"#EBF0F8\"},\"line\":{\"color\":\"white\"}},\"header\":{\"fill\":{\"color\":\"#C8D4E3\"},\"line\":{\"color\":\"white\"}},\"type\":\"table\"}]},\"layout\":{\"annotationdefaults\":{\"arrowcolor\":\"#2a3f5f\",\"arrowhead\":0,\"arrowwidth\":1},\"autotypenumbers\":\"strict\",\"coloraxis\":{\"colorbar\":{\"outlinewidth\":0,\"ticks\":\"\"}},\"colorscale\":{\"diverging\":[[0,\"#8e0152\"],[0.1,\"#c51b7d\"],[0.2,\"#de77ae\"],[0.3,\"#f1b6da\"],[0.4,\"#fde0ef\"],[0.5,\"#f7f7f7\"],[0.6,\"#e6f5d0\"],[0.7,\"#b8e186\"],[0.8,\"#7fbc41\"],[0.9,\"#4d9221\"],[1,\"#276419\"]],\"sequential\":[[0.0,\"#0d0887\"],[0.1111111111111111,\"#46039f\"],[0.2222222222222222,\"#7201a8\"],[0.3333333333333333,\"#9c179e\"],[0.4444444444444444,\"#bd3786\"],[0.5555555555555556,\"#d8576b\"],[0.6666666666666666,\"#ed7953\"],[0.7777777777777778,\"#fb9f3a\"],[0.8888888888888888,\"#fdca26\"],[1.0,\"#f0f921\"]],\"sequentialminus\":[[0.0,\"#0d0887\"],[0.1111111111111111,\"#46039f\"],[0.2222222222222222,\"#7201a8\"],[0.3333333333333333,\"#9c179e\"],[0.4444444444444444,\"#bd3786\"],[0.5555555555555556,\"#d8576b\"],[0.6666666666666666,\"#ed7953\"],[0.7777777777777778,\"#fb9f3a\"],[0.8888888888888888,\"#fdca26\"],[1.0,\"#f0f921\"]]},\"colorway\":[\"#636efa\",\"#EF553B\",\"#00cc96\",\"#ab63fa\",\"#FFA15A\",\"#19d3f3\",\"#FF6692\",\"#B6E880\",\"#FF97FF\",\"#FECB52\"],\"font\":{\"color\":\"#2a3f5f\"},\"geo\":{\"bgcolor\":\"white\",\"lakecolor\":\"white\",\"landcolor\":\"#E5ECF6\",\"showlakes\":true,\"showland\":true,\"subunitcolor\":\"white\"},\"hoverlabel\":{\"align\":\"left\"},\"hovermode\":\"closest\",\"mapbox\":{\"style\":\"light\"},\"paper_bgcolor\":\"white\",\"plot_bgcolor\":\"#E5ECF6\",\"polar\":{\"angularaxis\":{\"gridcolor\":\"white\",\"linecolor\":\"white\",\"ticks\":\"\"},\"bgcolor\":\"#E5ECF6\",\"radialaxis\":{\"gridcolor\":\"white\",\"linecolor\":\"white\",\"ticks\":\"\"}},\"scene\":{\"xaxis\":{\"backgroundcolor\":\"#E5ECF6\",\"gridcolor\":\"white\",\"gridwidth\":2,\"linecolor\":\"white\",\"showbackground\":true,\"ticks\":\"\",\"zerolinecolor\":\"white\"},\"yaxis\":{\"backgroundcolor\":\"#E5ECF6\",\"gridcolor\":\"white\",\"gridwidth\":2,\"linecolor\":\"white\",\"showbackground\":true,\"ticks\":\"\",\"zerolinecolor\":\"white\"},\"zaxis\":{\"backgroundcolor\":\"#E5ECF6\",\"gridcolor\":\"white\",\"gridwidth\":2,\"linecolor\":\"white\",\"showbackground\":true,\"ticks\":\"\",\"zerolinecolor\":\"white\"}},\"shapedefaults\":{\"line\":{\"color\":\"#2a3f5f\"}},\"ternary\":{\"aaxis\":{\"gridcolor\":\"white\",\"linecolor\":\"white\",\"ticks\":\"\"},\"baxis\":{\"gridcolor\":\"white\",\"linecolor\":\"white\",\"ticks\":\"\"},\"bgcolor\":\"#E5ECF6\",\"caxis\":{\"gridcolor\":\"white\",\"linecolor\":\"white\",\"ticks\":\"\"}},\"title\":{\"x\":0.05},\"xaxis\":{\"automargin\":true,\"gridcolor\":\"white\",\"linecolor\":\"white\",\"ticks\":\"\",\"title\":{\"standoff\":15},\"zerolinecolor\":\"white\",\"zerolinewidth\":2},\"yaxis\":{\"automargin\":true,\"gridcolor\":\"white\",\"linecolor\":\"white\",\"ticks\":\"\",\"title\":{\"standoff\":15},\"zerolinecolor\":\"white\",\"zerolinewidth\":2}}},\"xaxis\":{\"anchor\":\"y\",\"domain\":[0.0,1.0],\"title\":{\"text\":\"Product Type\"},\"categoryorder\":\"array\",\"categoryarray\":[\"glasses\",\"sandal\",\"shoes\",\"tshirt\"]},\"yaxis\":{\"anchor\":\"x\",\"domain\":[0.0,1.0],\"title\":{\"text\":\"Total No. of Purchase\"}},\"legend\":{\"title\":{\"text\":\"Product Type\"},\"tracegroupgap\":0},\"margin\":{\"t\":60},\"barmode\":\"relative\"},                        {\"responsive\": true}                    ).then(function(){\n",
              "                            \n",
              "var gd = document.getElementById('7bc72bee-d8e1-49c4-be55-bb7c2cc154b2');\n",
              "var x = new MutationObserver(function (mutations, observer) {{\n",
              "        var display = window.getComputedStyle(gd).display;\n",
              "        if (!display || display === 'none') {{\n",
              "            console.log([gd, 'removed!']);\n",
              "            Plotly.purge(gd);\n",
              "            observer.disconnect();\n",
              "        }}\n",
              "}});\n",
              "\n",
              "// Listen for the removal of the full notebook cells\n",
              "var notebookContainer = gd.closest('#notebook-container');\n",
              "if (notebookContainer) {{\n",
              "    x.observe(notebookContainer, {childList: true});\n",
              "}}\n",
              "\n",
              "// Listen for the clearing of the current output cell\n",
              "var outputEl = gd.closest('.output');\n",
              "if (outputEl) {{\n",
              "    x.observe(outputEl, {childList: true});\n",
              "}}\n",
              "\n",
              "                        })                };                            </script>        </div>\n",
              "</body>\n",
              "</html>"
            ]
          },
          "metadata": {}
        }
      ]
    },
    {
      "cell_type": "code",
      "source": [
        "nice=data1.groupby(['Rating']).size().reset_index(name=\"Counts\")"
      ],
      "metadata": {
        "id": "dQhqUR4b3hbd"
      },
      "execution_count": null,
      "outputs": []
    },
    {
      "cell_type": "code",
      "source": [
        "plt.figure(figsize=(20,10))\n",
        "sns.displot(data=data1,x='Rating',kde=True)\n",
        "plt.show()"
      ],
      "metadata": {
        "colab": {
          "base_uri": "https://localhost:8080/",
          "height": 386
        },
        "id": "vld3hnda4kTH",
        "outputId": "080c2121-6a31-4555-f781-a1cf9c4bcff6"
      },
      "execution_count": null,
      "outputs": [
        {
          "output_type": "display_data",
          "data": {
            "text/plain": [
              "<Figure size 1440x720 with 0 Axes>"
            ]
          },
          "metadata": {}
        },
        {
          "output_type": "display_data",
          "data": {
            "text/plain": [
              "<Figure size 360x360 with 1 Axes>"
            ],
            "image/png": "[encoded data removed]"
          },
          "metadata": {
            "needs_background": "light"
          }
        }
      ]
    },
    {
      "cell_type": "code",
      "source": [
        "pl.scatter(data1,x='MRP',y='Discount %',trendline=\"ols\")"
      ],
      "metadata": {
        "colab": {
          "base_uri": "https://localhost:8080/",
          "height": 542
        },
        "id": "wmOTuoixQmg_",
        "outputId": "4e5b6e27-eba8-4097-d1b7-4d9d03fbad26"
      },
      "execution_count": null,
      "outputs": [
        {
          "output_type": "display_data",
          "data": {
            "text/html": [
              "<html>\n",
              "<head><meta charset=\"utf-8\" /></head>\n",
              "<body>\n",
              "    <div>            <script src=\"https://cdnjs.cloudflare.com/ajax/libs/mathjax/2.7.5/MathJax.js?config=TeX-AMS-MML_SVG\"></script><script type=\"text/javascript\">if (window.MathJax) {MathJax.Hub.Config({SVG: {font: \"STIX-Web\"}});}</script>                <script type=\"text/javascript\">window.PlotlyConfig = {MathJaxConfig: 'local'};</script>\n",
              "        <script src=\"https://cdn.plot.ly/plotly-2.8.3.min.js\"></script>                <div id=\"be81c1be-f1b8-4749-92c8-228e33676938\" class=\"plotly-graph-div\" style=\"height:525px; width:100%;\"></div>            <script type=\"text/javascript\">                                    window.PLOTLYENV=window.PLOTLYENV || {};                                    if (document.getElementById(\"be81c1be-f1b8-4749-92c8-228e33676938\")) {                    Plotly.newPlot(                        \"be81c1be-f1b8-4749-92c8-228e33676938\",                        [{\"hovertemplate\":\"MRP=%{x}<br>Discount %=%{y}<extra></extra>\",\"legendgroup\":\"\",\"marker\":{\"color\":\"#636efa\",\"symbol\":\"circle\"},\"mode\":\"markers\",\"name\":\"\",\"showlegend\":false,\"x\":[3693.33,997.37,2998.44,2498.33,3474.58,3798.33,2492.86,1681.01,997.22,4298.28,2964.15,1283.1,2683.61,987.5,1040.62,1678.67,1681.01,997.78,1798.0,1283.1,3577.78,1681.01,3693.33,7901.56,997.22,3577.78,1464.71,5458.54,4998.0,1681.01,3234.69,4934.21,7998.18,1681.01,4893.02,1975.0,1681.01,997.22,3289.58,1498.72,3998.18,5526.32,798.33,898.95,4934.21,3995.92,3998.18,1681.01,3931.43,5735.09,3797.14,6495.0,2798.33,2998.33,3797.14,8900.0,2553.85,2983.05,2798.33,2969.39,5957.45,3964.44,4419.23,3098.25,3994.12,1698.95,1681.01,2398.95,3243.1,1914.29,3956.67,1286.36,3694.29,1681.01,1198.85,5456.82,1297.1,7860.47,2957.89,898.89,1498.82,1681.01,944.62,3998.33,996.43,3750.0,4997.67,4979.07,1045.45,1681.01,490.74,3482.5,2398.95,3946.51,2957.89,990.7,4997.67,2957.89,2898.28,2672.0,2968.42,4997.67,3922.45,4441.07,1681.01,3963.41,3574.47,1298.57,891.57,4861.29,3574.47,3998.33,989.29,2661.67,3104.62,3460.0,4960.61,5037.5,1681.01,5139.13,993.33,548.35,977.78,972.22,998.57,3968.0,687.93,983.33,1996.55,3737.7,495.18,1098.0,3716.28,2938.64,599.0,998.41,997.3,4518.6,993.02,598.46,987.5,849.0,395.0,3758.7,498.48,997.78,1096.34,4518.6,2588.46,998.0,998.0,998.33,985.29,490.57,4518.6,996.23,249.0,1098.0,598.89,1548.28,499.0,249.0,1098.0,598.89,4518.6,1995.45,1497.5,1399.0,3990.24,3358.33,1921.05,498.75,3476.32,1299.0,3597.14,1995.45,4518.6,3990.24,998.57,994.29,2247.73,1921.05,3476.32,4518.6,962.96,1998.0,988.24,1280.77,1989.29,3568.18,4937.25,998.0,5589.39,998.57,1989.29,898.82,1083.33,687.93,4518.6,976.19,2584.62,799.0,687.93,398.44,1798.11,599.0,396.59,998.0,498.84,450.0,1747.22,1192.54,1276.19,894.37,892.93,1499.0,985.37,988.14,1385.94,1286.05,1191.89,1382.69,991.14,1042.0,2470.73,1995.71,1599.0,1484.85,997.22,998.15,895.71,1697.06,1287.88,1092.78,1489.87,1484.78,1290.41,1571.15,2981.63,1089.9,1193.48,1489.8,992.0,983.78,1293.94,2790.2,1495.89,897.92,1175.51,983.78,1199.0,1486.87,997.22,882.35,1173.68,498.46,1983.87,797.78,984.38,1995.56,1397.96,1197.78,549.0,698.46,1496.0,1788.14,997.78,1486.87,798.0,1995.71,797.78,2180.88,3940.82,898.33,786.84,785.71,515.05,1377.59,786.84,742.55,549.0,985.37,998.46,1589.29,1984.62,1585.29,894.29,1783.84,1799.0,997.78,695.35,1574.07,2782.26,998.46,1585.29,1274.0,2453.66,528.57,1585.29,898.33,899.0,897.5,999.0,1497.92,1198.11,1794.52,1599.0,1278.95,986.44,1497.92,1097.5,1197.67,1598.0,998.67,1979.25,897.5,1499.0,1594.52,1498.51,1794.52,1589.39,997.92,1497.5,1499.0,1498.0,1098.51,1398.04,1497.37,691.67,1498.51,897.5,1697.56,1597.5,1294.0,1593.44,997.5,1273.47,1278.95,1979.25,1798.11,1998.33,1794.52,1979.25,1297.92,1497.92,1998.33,1797.5,881.4,1497.78,1497.92,2523.33,1997.5,2497.5,797.67,1497.92,1997.5,1993.85,2298.51,1998.51,1589.39,691.67,998.41,1797.92,1797.5,990.7,2594.52,1299.0,2998.11,1797.92,997.67,1098.11,1777.97,1994.52,2298.33,1494.0,1698.51,1477.46,1098.51,1497.83,1979.25,881.4,1290.28,1798.11,2798.11,1797.37,2798.11,1290.28,1398.11,1092.19,894.03,1798.11,1290.28,1797.37,1092.19,1979.25,695.35,800.0,793.18,690.38,984.91,793.18,694.0,984.91,798.33,699.0,793.18,694.0,997.92,700.0,984.91,691.67,984.91,798.33,598.33,694.0,894.03,997.14,886.67,984.91,798.33,984.91,798.33,598.33,791.11,997.14,984.91,798.33,996.0,1255.0,791.11,1219.44,881.4,984.91,798.33,598.33,1219.44,984.91,798.33,698.95,598.33,643.55,984.91,798.33,598.33,1083.05,984.91,798.33,598.33,1085.96,1219.44,421.15,984.91,798.33,598.33,791.11,984.91,798.33,598.33,498.33,1219.44,984.91,1273.68,798.33,598.33,695.35,1083.05,421.15,984.91,798.33,598.33,796.67,984.91,798.33,598.33,894.03,984.91,798.33,598.33,791.11,886.67,984.91,798.33,598.33,791.11,1498.33,984.91,798.33,598.33,421.15,791.11,1296.67,498.57,2218.52,2959.26,1493.75,2995.24,2468.75,2959.26,947.06,1023.53,997.5,2959.26,1023.53,497.96,1052.94,2959.26,977.42,1469.77,2454.84,1287.1,2959.26,983.87,1023.53,1495.0,997.14,2959.26,1023.53,907.89,1464.71,1495.83,1659.09,585.29,1245.0,1495.0,1431.25,492.5,2959.26,1023.53,995.45,907.89,987.5,2959.26,1993.33,1023.53,1068.18,2959.26,1183.33,1023.53,1294.44,591.67,2959.26,1183.33,1023.53,591.67,995.45,2959.26,1023.53,1662.5,907.89,1084.21,2995.24,1495.0,1171.43,1294.12,2959.26,398.65,492.96,2959.26,1023.53,1191.67,977.42,1495.0,1052.94,675.0,2959.26,398.65,492.96,2959.26,1023.53,1193.33,996.67,495.0,545.36,687.5,545.36,996.67,495.0,975.0,545.36,995.83,996.67,996.67,495.0,691.84,996.67,495.0,985.71,975.0,996.67,495.0,975.0,996.43,996.43,497.5,497.14,598.95,497.92,429.0,492.45,649.0,1995.0,399.0,2486.67,498.39,497.83,796.36,786.67,997.14,498.21,492.45,797.1,497.83,891.07,498.75,398.0,495.0,793.88,496.92,996.43,497.92,688.89,793.88,495.0,891.07,398.0,975.86,375.0,498.75,3493.33,339.0,3493.33,498.57,498.33,498.57,711.43,681.58,494.74,497.06,497.06,899.0,999.0,998.67,1278.95,898.67,897.5,1794.52,1599.0,1197.78,980.39,998.11,1998.0,1490.77,1498.51,1794.52,1589.39,997.92,1497.5,1499.0,1997.37,1098.51,1398.04,1794.52,1497.37,1371.43,1497.22,897.5,1697.56,1498.57,1898.0,997.5,1498.11,1979.25,1798.11,977.27,1593.44,1998.33,1794.52,2498.11,1979.25,2523.33,1497.5,1998.33,1398.51,1797.5,2497.5,797.67,1497.78,997.5,2493.85,1997.5,2497.5,797.67,1998.51,1497.78,998.41,1998.51,997.67,998.04,1194.12,2594.52,998.41,1798.51,1694.52,1797.92,1098.11,1299.0,2498.11,1398.04,1997.37,1098.11,1698.51,1477.46,1777.97,1098.51,1997.5,1979.25,1998.51,1698.11,1477.46,1299.0,2498.0,2497.5,1979.25,1076.09,2497.5,1076.09,798.46,3298.51,2298.67,1192.54,1276.19,894.37,892.93,1747.22,1499.0,1382.69,1385.94,998.15,1286.05,1191.89,1296.77,797.78,2470.73,1767.92,1995.71,1599.0,1484.85,997.22,1042.0,1477.46,895.71,528.57,1697.06,1287.88,498.46,1695.0,1481.54,2939.58,698.46,1484.78,1490.48,997.78,1571.15,1377.59,1377.59,1181.25,418.75,1489.8,1181.58,1193.48,1280.0,1495.89,897.92,479.0,1174.07,989.8,997.22,1481.43,882.35,1377.59,1983.87,984.38,1995.56,1497.87,1788.14,797.78,798.0,3940.82,1964.29,785.71,786.84,2180.88,2776.19,786.84,515.05,742.55,1087.5,1585.29,2588.89,785.71,786.84,2776.19,1087.5,1490.57,797.78,1392.59,983.78,798.33,1470.59,998.46,894.29,1284.09,1984.62,1472.0,1585.29,687.93,797.78,398.75,1783.84,1296.67,2995.24,795.45,2959.26,947.06,398.65,997.5,2468.75,2959.26,993.33,688.24,2218.52,2959.26,983.87,1469.77,767.74,997.14,907.89,969.7,1052.94,2959.26,2995.24,903.03,548.98,2995.24,492.5,496.88,995.45,737.04,2959.26,2995.24,2959.26,1294.44,2792.0,1400.0,2959.26,795.45,1294.44,2995.24,1400.0,1659.09,1171.43,1294.12,498.57,960.87,1659.09,2959.26,1068.18,994.44,995.45,2959.26,995.65,591.67,995.45,990.48,497.96,1495.0,2959.26,947.37,496.67,2959.26,975.0,795.24,878.79,1571.43,5416.13,998.33,3997.14,997.78,3671.88,3489.58,4993.1,997.96,986.84,3541.18,3968.75,889.41,998.89,990.91,3641.94,5953.54,4934.88,743.62,3997.14,995.83,997.78,2094.0,3980.77,996.0,7879.03,3971.15,998.0,793.1,3787.23,998.31,4927.12,5998.33,998.46,1996.67,5217.31,1299.0,4916.33,998.0,989.47,1884.91,985.71,998.0,3439.58,692.86,1698.75,5882.35,699.0,4411.76,498.63,4998.39,5882.35,1038.1,3955.0,3561.67,893.68,998.33,5942.86,2786.67,4385.71,1042.17,3430.61,983.33,4411.76,4538.0,998.0,5499.0,2989.58,7879.03,3977.08,2950.0,986.96,3934.04,692.86,1041.67,5072.97,1591.43,794.44,3772.5,4897.5,3989.23,1498.57,6854.17,6580.77,4897.56,6466.67,898.82,6457.14,699.0,5499.0,5884.31,7400.0,898.82,998.33,5476.0,890.36,1799.0,3798.46,4260.47,6598.28,997.78,997.67,990.57,1788.42,7432.5,7879.03,7998.0,4998.25,4696.67,796.81,1698.8,997.78,998.57,4432.65,7997.56,699.0,5968.57,1550.0,1698.75,997.78,2766.67,998.0,997.5,997.78,8674.47,4913.21,1988.33,1769.39,893.33,1481.25,985.0,1598.46,893.33,767.12,893.33,1378.69,2796.77,1481.25,2360.61,1487.23,1769.39,898.0,997.5,1494.74,799.0,1779.45,898.0,931.37,1557.89,1122.5,1378.69,794.44,2639.53,2998.0,997.78,1378.69,1096.34,2997.67,1638.46,946.97,2998.0,998.0,997.06,794.44,1378.69,1560.61,693.65,820.9,998.0,794.44,1680.39,820.9,2658.14,1299.0,1557.89,1378.69,992.65,2082.46,767.12,1769.39,1378.69,498.33,1399.0,2639.53,1487.23,999.0,824.42,897.75,2767.39,1378.69,1692.86,784.21,1384.62,2082.46,2654.84,998.82,1598.36,997.78,699.0,1557.89,2997.67,1029.41,3944.74,1198.28,2273.26,2082.46,1198.28,1198.28,1198.28,1198.28,2098.0,1029.41,1198.28,1198.28,767.12,1094.52,692.86,1378.69,1484.44,946.97,1198.28,1775.56,1181.58,792.06,792.06,1780.43,989.8,1976.0,1198.0,1470.59,997.83,997.73,1274.47,3763.89,997.37,975.0,997.73,990.0,1274.47,3763.89,3987.14,2996.43,997.14,1188.1,698.36,1572.22,2060.0,1589.66,598.9,1678.0,1197.5,975.0,1018.37,792.06,1948.78,792.06,1775.56,1994.29,1198.0,996.0,1976.0,795.16,1198.0,996.0,1976.0,1586.36,1274.51,1198.0,1995.74,1060.0,1280.0,1274.51,1198.0,997.78,1060.0,1959.52,1959.52,893.33,1280.0,1188.1,1976.0,1678.0,1324.49,893.33,984.85,996.0,698.72,990.0,598.9,1382.98,648.81,1700.0,2548.98,998.15,1586.36,997.83,1486.05,1173.91,1694.0,898.0,798.67,990.0,1678.0,1614.71,536.36,792.06,996.0,989.47,1678.0,990.0,996.0,1196.77,450.0,1270.91,1085.42,1497.62,2165.79,883.72,1473.77,652.17,300.0,650.0,3327.27,1582.69,1332.43,4593.33,1192.75,2165.79,981.63,768.0,2497.92,4992.86,1469.77,2495.83,1783.93,1758.97,1332.43,349.47,2495.83,1098.0,324.21,1332.43,349.47,2495.83,324.21,1783.93,440.0,986.0,300.0,2495.83,1332.43,2670.37,329.47,1332.43,300.0,300.0,2419.23,1495.0,1847.06,1633.33,1847.06,1847.06,2185.94,499.0,960.0,983.33,499.0,1476.67,725.0,2195.0,995.0,2368.75,2195.0,398.55,1099.0,1463.64,969.7,1468.42,7995.0,1495.0,3993.33,1243.75,1947.06,8795.0,1488.24,1847.06,1847.06,1975.0,1439.13,3594.44,8794.29,1444.44,1764.29,9422.62,1462.96,1997.67,996.55,677.27,3594.44,1495.0,1847.06,2933.33,9495.0,1468.42,996.55,984.85,691.84,9500.0,2350.0,1243.75,1461.76,1988.1,2450.0,1495.0,1344.44,1895.0,499.0,996.67,5994.29,797.37,2995.0,3895.0,8989.29,2485.71,1980.0,1399.0,10759.18,996.67,596.72,9994.29,1847.06,10759.18,2990.91,1447.83,2994.44,3294.44,996.67,979.31,1961.11,997.3,1847.06,3994.44,1962.5,1989.29,838.24,1478.79,996.67,979.31,1961.11,997.3,1847.06,1424.44,865.22,5494.29,1495.83,495.0,865.22,1495.83,698.0,8495.0,1245.83,865.22,1495.83,965.22,960.0,1484.62,996.88,1294.81,1498.95,1778.57,1450.0,497.5,1245.0,1423.81,997.22,725.0,498.0,332.63,343.68,1287.5,1196.0,865.22,1495.83,666.67,652.27,882.86,1280.0,1498.0,494.0,1295.65,7495.0,1678.95,865.22,1495.83,838.24,298.78,1280.0,663.33,865.22,1495.83,1778.57,865.22,1495.83,5994.29,1778.57,9495.0,880.77,2799.0,1952.38,997.06,1472.22,1277.78,886.96,965.22,996.0,554.32,865.22,1495.83,8994.29,3423.81,1295.0,8494.44,997.06,1885.71,9494.29,981.25,3423.81,7495.0,1717.65,981.25,783.33,2419.23,1995.0,996.0,886.96,996.0,7495.0,592.86,495.83,3457.69,995.0,1568.57,998.78,691.76,2239.47,524.44,997.14,2989.8,1484.62,493.48,2547.5,2352.73,890.48,997.67,594.38,2464.29,1975.47,3270.71,2239.47,2492.86,1244.0,2840.0,675.0,2239.47,791.46,1244.0,997.78,2239.47,1975.47,3295.0,1975.47,497.92,681.58,2239.47,1295.0,898.85,498.0,2276.09,2874.67,543.33,2239.47,2480.81,2770.59,2239.47,594.38,2998.57,649.0,2480.81,898.78,2239.47,892.55,2995.0,1997.78,3579.66,594.38,2239.47,2492.86,2239.47,2440.48,743.62,2298.75,2553.66,693.26,897.75,2239.47,1295.0,1962.07,1935.48,2861.22,4494.29,2239.47,1998.57,976.0,2239.47,1993.88,647.42,3774.39,2239.47,1175.0,2884.44,998.15,998.15,591.67,2239.47,935.94,1048.78,498.0,993.55,2755.26,796.43,2784.75,539.0,996.67,2239.47,1295.0,889.87,1296.0,798.89,3945.28,1020.0,998.33,798.95,2498.41,1896.77,725.0,698.95,939.58,498.0,1275.51,725.0,544.16,2494.29,799.0,1193.48,1275.51,1020.0,1998.67,939.58,1020.0,897.62,544.16,1198.57,1193.48,1275.51,799.0,668.09,786.84,549.0,499.0,597.78,569.0,439.0,497.5,498.33,549.0,569.0,498.0,497.92,549.0,498.57,219.0,786.84,792.93,549.0,596.74,649.0,465.0,549.0,460.42,549.0,497.5,791.67,549.0,1198.0,596.74,497.5,549.0,594.23,448.89,569.0,596.74,793.18,549.0,439.0,696.55,398.67,549.0,897.75,569.0,596.74,429.0,3838.46,490.38,1795.0,399.0,793.18,3838.46,399.0,549.0,429.0,698.0,599.0,599.0,399.0,569.0,998.57,1576.32,549.0,699.0,798.33,375.0,398.67,498.75,459.0,698.95,499.0,1995.0,549.0,798.57,569.0,459.0,998.61,549.0,798.57,569.0,459.0,549.0,569.0,798.0,459.0,499.0,998.61,549.0,569.0,459.0,439.0],\"xaxis\":\"x\",\"y\":[40.0,62.0,36.0,40.0,41.0,40.0,58.0,21.0,64.0,42.0,47.0,29.0,39.0,52.0,4.0,25.0,21.0,55.0,50.0,29.0,46.0,21.0,40.0,36.0,64.0,46.0,66.0,59.0,50.0,21.0,51.0,62.0,45.0,21.0,57.0,76.0,21.0,64.0,52.0,22.0,45.0,62.0,40.0,5.0,62.0,51.0,45.0,21.0,65.0,43.0,65.0,0.0,40.0,40.0,65.0,47.0,74.0,41.0,40.0,51.0,53.0,55.0,48.0,43.0,15.0,5.0,21.0,5.0,42.0,79.0,40.0,34.0,30.0,21.0,13.0,56.0,31.0,57.0,62.0,10.0,15.0,21.0,35.0,40.0,72.0,50.0,57.0,57.0,23.0,21.0,46.0,60.0,5.0,57.0,62.0,57.0,57.0,62.0,42.0,50.0,62.0,57.0,51.0,44.0,21.0,59.0,53.0,30.0,17.0,38.0,53.0,40.0,16.0,40.0,35.0,50.0,1.0,76.0,21.0,77.0,70.0,9.0,55.0,64.0,30.0,50.0,42.0,70.0,71.0,39.0,17.0,50.0,57.0,56.0,0.0,37.0,63.0,57.0,14.0,35.0,52.0,0.0,40.0,54.0,34.0,55.0,18.0,57.0,74.0,50.0,50.0,40.0,66.0,47.0,57.0,47.0,0.0,50.0,10.0,71.0,0.0,0.0,50.0,10.0,57.0,78.0,60.0,0.0,59.0,76.0,81.0,20.0,62.0,0.0,65.0,78.0,57.0,59.0,30.0,65.0,56.0,81.0,62.0,57.0,73.0,50.0,66.0,74.0,72.0,56.0,49.0,50.0,34.0,30.0,72.0,15.0,76.0,42.0,57.0,58.0,48.0,0.0,42.0,36.0,47.0,0.0,12.0,50.0,14.0,0.0,64.0,33.0,58.0,29.0,1.0,0.0,59.0,41.0,36.0,57.0,26.0,48.0,21.0,50.0,59.0,30.0,0.0,1.0,64.0,46.0,30.0,32.0,1.0,3.0,21.0,54.0,27.0,48.0,51.0,1.0,54.0,51.0,25.0,63.0,34.0,49.0,27.0,52.0,51.0,63.0,0.0,1.0,64.0,49.0,62.0,35.0,38.0,55.0,68.0,55.0,51.0,55.0,0.0,35.0,50.0,41.0,55.0,1.0,50.0,30.0,55.0,32.0,51.0,40.0,62.0,44.0,7.0,42.0,62.0,53.0,0.0,59.0,35.0,72.0,35.0,66.0,30.0,1.0,0.0,55.0,57.0,73.0,38.0,35.0,66.0,50.0,59.0,44.0,66.0,40.0,0.0,60.0,0.0,52.0,47.0,27.0,0.0,43.0,41.0,52.0,60.0,57.0,50.0,25.0,47.0,60.0,0.0,27.0,33.0,27.0,34.0,52.0,60.0,0.0,50.0,33.0,49.0,62.0,64.0,33.0,60.0,59.0,60.0,50.0,39.0,60.0,51.0,43.0,47.0,47.0,40.0,27.0,47.0,52.0,52.0,40.0,60.0,57.0,55.0,52.0,70.0,60.0,60.0,57.0,52.0,60.0,35.0,33.0,33.0,34.0,64.0,37.0,52.0,60.0,57.0,27.0,0.0,47.0,52.0,57.0,47.0,41.0,27.0,40.0,50.0,33.0,29.0,33.0,54.0,47.0,57.0,28.0,47.0,47.0,62.0,47.0,28.0,47.0,36.0,33.0,47.0,28.0,62.0,36.0,47.0,57.0,20.0,56.0,48.0,47.0,56.0,50.0,47.0,40.0,0.0,56.0,50.0,52.0,20.0,47.0,28.0,47.0,40.0,40.0,50.0,33.0,30.0,55.0,47.0,40.0,47.0,40.0,40.0,55.0,65.0,47.0,40.0,75.0,80.0,55.0,64.0,57.0,47.0,40.0,40.0,64.0,47.0,40.0,5.0,40.0,38.0,47.0,40.0,40.0,41.0,47.0,40.0,40.0,43.0,64.0,48.0,47.0,40.0,40.0,55.0,47.0,40.0,40.0,40.0,64.0,47.0,81.0,40.0,40.0,57.0,41.0,48.0,47.0,40.0,40.0,70.0,47.0,40.0,40.0,33.0,47.0,40.0,40.0,55.0,55.0,47.0,40.0,40.0,55.0,40.0,47.0,40.0,40.0,48.0,55.0,70.0,30.0,73.0,73.0,84.0,79.0,84.0,73.0,83.0,66.0,60.0,73.0,66.0,51.0,83.0,73.0,69.0,57.0,69.0,69.0,73.0,69.0,66.0,80.0,65.0,73.0,66.0,62.0,83.0,76.0,78.0,66.0,80.0,80.0,84.0,60.0,73.0,66.0,78.0,62.0,84.0,73.0,85.0,66.0,78.0,73.0,76.0,66.0,46.0,52.0,73.0,76.0,66.0,52.0,78.0,73.0,66.0,76.0,62.0,81.0,79.0,80.0,72.0,83.0,73.0,26.0,29.0,73.0,66.0,76.0,69.0,80.0,83.0,72.0,73.0,26.0,29.0,73.0,66.0,70.0,70.0,60.0,3.0,52.0,3.0,70.0,60.0,68.0,3.0,76.0,70.0,70.0,60.0,51.0,70.0,60.0,65.0,68.0,70.0,60.0,68.0,72.0,72.0,60.0,30.0,5.0,52.0,0.0,47.0,0.0,20.0,0.0,55.0,38.0,54.0,45.0,70.0,65.0,44.0,47.0,31.0,54.0,44.0,20.0,50.0,60.0,51.0,35.0,72.0,52.0,55.0,51.0,60.0,44.0,50.0,71.0,0.0,20.0,70.0,0.0,70.0,30.0,40.0,30.0,65.0,62.0,62.0,66.0,66.0,0.0,0.0,25.0,43.0,25.0,60.0,27.0,0.0,55.0,49.0,47.0,50.0,35.0,33.0,27.0,34.0,52.0,60.0,0.0,62.0,33.0,49.0,27.0,62.0,51.0,64.0,60.0,59.0,30.0,50.0,60.0,47.0,47.0,47.0,56.0,39.0,40.0,27.0,47.0,47.0,70.0,60.0,40.0,33.0,60.0,60.0,57.0,55.0,60.0,35.0,60.0,60.0,57.0,33.0,55.0,37.0,33.0,57.0,49.0,49.0,27.0,37.0,33.0,27.0,52.0,47.0,0.0,47.0,49.0,62.0,47.0,33.0,29.0,41.0,33.0,60.0,47.0,33.0,47.0,29.0,0.0,50.0,60.0,47.0,54.0,60.0,54.0,35.0,33.0,25.0,33.0,58.0,29.0,1.0,64.0,0.0,48.0,36.0,46.0,57.0,26.0,38.0,55.0,59.0,47.0,30.0,0.0,1.0,64.0,50.0,29.0,30.0,44.0,32.0,1.0,35.0,0.0,35.0,52.0,35.0,54.0,37.0,55.0,48.0,42.0,42.0,52.0,20.0,51.0,62.0,54.0,40.0,27.0,52.0,0.0,73.0,51.0,64.0,30.0,49.0,42.0,38.0,68.0,55.0,6.0,41.0,55.0,50.0,51.0,58.0,44.0,62.0,32.0,37.0,62.0,7.0,53.0,44.0,66.0,46.0,44.0,62.0,37.0,44.0,47.0,55.0,46.0,63.0,40.0,49.0,35.0,30.0,56.0,35.0,50.0,66.0,42.0,55.0,20.0,1.0,70.0,79.0,78.0,73.0,83.0,26.0,60.0,84.0,73.0,85.0,49.0,73.0,73.0,69.0,57.0,69.0,65.0,62.0,67.0,83.0,73.0,79.0,67.0,51.0,79.0,60.0,68.0,78.0,73.0,73.0,79.0,73.0,46.0,75.0,89.0,73.0,78.0,46.0,79.0,89.0,78.0,72.0,83.0,30.0,77.0,78.0,73.0,78.0,82.0,78.0,73.0,77.0,52.0,78.0,58.0,51.0,80.0,73.0,81.0,70.0,73.0,72.0,79.0,67.0,65.0,38.0,40.0,65.0,55.0,36.0,52.0,42.0,51.0,62.0,49.0,52.0,15.0,10.0,56.0,38.0,1.0,57.0,6.0,65.0,52.0,55.0,50.0,48.0,50.0,38.0,48.0,50.0,13.0,53.0,41.0,41.0,40.0,35.0,70.0,48.0,0.0,51.0,50.0,5.0,47.0,65.0,50.0,52.0,2.0,20.0,49.0,0.0,49.0,27.0,38.0,49.0,16.0,60.0,40.0,5.0,40.0,58.0,40.0,65.0,17.0,51.0,52.0,49.0,50.0,50.0,0.0,52.0,38.0,52.0,50.0,54.0,53.0,2.0,16.0,63.0,65.0,46.0,60.0,60.0,35.0,30.0,52.0,48.0,59.0,52.0,15.0,51.0,0.0,0.0,49.0,43.0,15.0,40.0,50.0,17.0,0.0,35.0,57.0,42.0,55.0,57.0,47.0,5.0,60.0,38.0,50.0,43.0,70.0,6.0,17.0,55.0,30.0,51.0,59.0,0.0,65.0,70.0,20.0,55.0,31.0,50.0,60.0,55.0,53.0,47.0,40.0,51.0,40.0,68.0,60.0,35.0,40.0,27.0,40.0,39.0,69.0,68.0,67.0,53.0,51.0,0.0,60.0,81.0,0.0,27.0,0.0,49.0,62.0,60.0,39.0,46.0,57.0,50.0,55.0,39.0,18.0,57.0,74.0,34.0,50.0,50.0,66.0,46.0,39.0,67.0,37.0,33.0,50.0,46.0,49.0,33.0,57.0,0.0,62.0,39.0,32.0,43.0,27.0,51.0,39.0,40.0,0.0,57.0,53.0,0.0,14.0,11.0,54.0,39.0,72.0,24.0,61.0,43.0,69.0,15.0,39.0,55.0,0.0,62.0,57.0,32.0,62.0,42.0,14.0,43.0,42.0,42.0,42.0,42.0,50.0,32.0,42.0,42.0,27.0,27.0,44.0,39.0,55.0,34.0,42.0,55.0,62.0,37.0,37.0,54.0,51.0,50.0,50.0,49.0,54.0,56.0,53.0,28.0,62.0,40.0,56.0,70.0,53.0,28.0,30.0,72.0,65.0,58.0,39.0,82.0,55.0,71.0,9.0,50.0,60.0,40.0,51.0,37.0,59.0,37.0,55.0,65.0,50.0,50.0,50.0,38.0,50.0,50.0,50.0,78.0,49.0,50.0,53.0,35.0,40.0,49.0,50.0,55.0,35.0,58.0,58.0,40.0,40.0,58.0,50.0,50.0,51.0,40.0,34.0,50.0,22.0,50.0,9.0,53.0,16.0,53.0,51.0,46.0,78.0,54.0,57.0,54.0,50.0,50.0,25.0,50.0,50.0,66.0,23.0,37.0,50.0,43.0,50.0,50.0,50.0,69.0,0.0,45.0,52.0,58.0,62.0,57.0,39.0,54.0,5.0,50.0,67.0,48.0,63.0,85.0,31.0,62.0,51.0,0.0,52.0,86.0,57.0,76.0,44.0,61.0,63.0,5.0,76.0,50.0,5.0,63.0,5.0,76.0,5.0,44.0,5.0,50.0,5.0,76.0,63.0,73.0,5.0,63.0,5.0,5.0,74.0,80.0,83.0,76.0,83.0,83.0,36.0,0.0,75.0,70.0,0.0,70.0,0.0,20.0,80.0,84.0,20.0,31.0,0.0,67.0,67.0,81.0,20.0,80.0,85.0,84.0,83.0,20.0,49.0,83.0,83.0,76.0,77.0,10.0,30.0,73.0,72.0,16.0,73.0,57.0,71.0,78.0,10.0,80.0,83.0,79.0,20.0,81.0,71.0,67.0,51.0,40.0,20.0,84.0,66.0,58.0,78.0,80.0,10.0,80.0,0.0,70.0,30.0,62.0,20.0,20.0,44.0,58.0,50.0,0.0,51.0,70.0,39.0,30.0,83.0,51.0,78.0,77.0,82.0,10.0,70.0,71.0,82.0,63.0,83.0,10.0,84.0,72.0,66.0,67.0,70.0,71.0,82.0,63.0,83.0,10.0,77.0,30.0,76.0,40.0,77.0,76.0,50.0,0.0,76.0,77.0,76.0,77.0,75.0,74.0,68.0,23.0,5.0,86.0,74.0,60.0,80.0,79.0,64.0,20.0,50.0,5.0,13.0,76.0,75.0,77.0,76.0,73.0,56.0,65.0,75.0,50.0,50.0,77.0,0.0,81.0,77.0,76.0,66.0,18.0,75.0,70.0,77.0,76.0,86.0,77.0,76.0,30.0,86.0,20.0,74.0,0.0,79.0,66.0,46.0,73.0,77.0,77.0,75.0,19.0,77.0,76.0,30.0,79.0,80.0,10.0,66.0,58.0,30.0,68.0,79.0,0.0,83.0,68.0,58.0,74.0,80.0,75.0,77.0,75.0,0.0,58.0,52.0,74.0,80.0,65.0,18.0,15.0,62.0,10.0,65.0,51.0,61.0,54.0,60.0,45.0,16.0,57.0,11.0,58.0,47.0,1.0,62.0,58.0,25.0,60.0,72.0,62.0,18.0,25.0,55.0,62.0,47.0,0.0,47.0,52.0,62.0,62.0,20.0,13.0,50.0,54.0,25.0,10.0,62.0,1.0,49.0,62.0,11.0,30.0,0.0,1.0,18.0,62.0,6.0,0.0,55.0,41.0,11.0,62.0,58.0,62.0,58.0,6.0,20.0,59.0,11.0,11.0,62.0,20.0,71.0,69.0,51.0,30.0,62.0,30.0,75.0,62.0,51.0,3.0,18.0,62.0,52.0,55.0,46.0,46.0,52.0,62.0,36.0,18.0,50.0,38.0,62.0,16.0,41.0,0.0,70.0,62.0,20.0,21.0,50.0,10.0,47.0,10.0,40.0,5.0,37.0,69.0,0.0,5.0,4.0,50.0,51.0,0.0,23.0,30.0,0.0,54.0,51.0,10.0,25.0,4.0,10.0,16.0,23.0,30.0,54.0,51.0,0.0,6.0,62.0,0.0,0.0,55.0,0.0,0.0,60.0,40.0,0.0,0.0,50.0,52.0,0.0,30.0,0.0,62.0,1.0,0.0,8.0,0.0,0.0,0.0,4.0,0.0,60.0,64.0,0.0,50.0,8.0,60.0,0.0,48.0,10.0,0.0,8.0,56.0,0.0,0.0,71.0,25.0,0.0,11.0,0.0,8.0,0.0,87.0,48.0,0.0,0.0,56.0,87.0,0.0,0.0,0.0,50.0,0.0,0.0,0.0,0.0,30.0,62.0,0.0,0.0,40.0,0.0,25.0,20.0,0.0,5.0,0.0,20.0,0.0,30.0,0.0,0.0,28.0,0.0,30.0,0.0,0.0,0.0,0.0,50.0,0.0,0.0,28.0,0.0,0.0,0.0,0.0],\"yaxis\":\"y\",\"type\":\"scattergl\"},{\"hovertemplate\":\"<b>OLS trendline</b><br>Discount % = 0.0015516 * MRP + 42.9058<br>R<sup>2</sup>=0.009873<br><br>MRP=%{x}<br>Discount %=%{y} <b>(trend)</b><extra></extra>\",\"legendgroup\":\"\",\"marker\":{\"color\":\"#636efa\",\"symbol\":\"circle\"},\"mode\":\"lines\",\"name\":\"\",\"showlegend\":false,\"x\":[219.0,249.0,249.0,298.78,300.0,300.0,300.0,300.0,324.21,324.21,329.47,332.63,339.0,343.68,349.47,349.47,375.0,375.0,395.0,396.59,398.0,398.0,398.44,398.55,398.65,398.65,398.65,398.67,398.67,398.75,399.0,399.0,399.0,399.0,418.75,421.15,421.15,421.15,429.0,429.0,429.0,439.0,439.0,439.0,440.0,448.89,450.0,450.0,459.0,459.0,459.0,459.0,459.0,460.42,465.0,479.0,490.38,490.57,490.74,492.45,492.45,492.5,492.5,492.96,492.96,493.48,494.0,494.74,495.0,495.0,495.0,495.0,495.0,495.0,495.0,495.0,495.18,495.83,496.67,496.88,496.92,497.06,497.06,497.14,497.5,497.5,497.5,497.5,497.5,497.83,497.83,497.92,497.92,497.92,497.92,497.96,497.96,498.0,498.0,498.0,498.0,498.0,498.21,498.33,498.33,498.33,498.33,498.39,498.46,498.46,498.48,498.57,498.57,498.57,498.57,498.57,498.63,498.75,498.75,498.75,498.75,498.84,499.0,499.0,499.0,499.0,499.0,499.0,499.0,515.05,515.05,524.44,528.57,528.57,536.36,539.0,543.33,544.16,544.16,545.36,545.36,545.36,548.35,548.98,549.0,549.0,549.0,549.0,549.0,549.0,549.0,549.0,549.0,549.0,549.0,549.0,549.0,549.0,549.0,549.0,549.0,549.0,554.32,569.0,569.0,569.0,569.0,569.0,569.0,569.0,569.0,569.0,585.29,591.67,591.67,591.67,591.67,592.86,594.23,594.38,594.38,594.38,596.72,596.74,596.74,596.74,596.74,597.78,598.33,598.33,598.33,598.33,598.33,598.33,598.33,598.33,598.33,598.33,598.33,598.33,598.33,598.33,598.46,598.89,598.89,598.9,598.9,598.95,599.0,599.0,599.0,599.0,643.55,647.42,648.81,649.0,649.0,649.0,650.0,652.17,652.27,663.33,666.67,668.09,675.0,675.0,677.27,681.58,681.58,687.5,687.93,687.93,687.93,687.93,688.24,688.89,690.38,691.67,691.67,691.67,691.76,691.84,691.84,692.86,692.86,692.86,693.26,693.65,694.0,694.0,694.0,695.35,695.35,695.35,696.55,698.0,698.0,698.36,698.46,698.46,698.72,698.95,698.95,698.95,699.0,699.0,699.0,699.0,699.0,699.0,700.0,711.43,725.0,725.0,725.0,725.0,737.04,742.55,742.55,743.62,743.62,767.12,767.12,767.12,767.74,768.0,783.33,784.21,785.71,785.71,785.71,786.67,786.84,786.84,786.84,786.84,786.84,786.84,786.84,791.11,791.11,791.11,791.11,791.11,791.11,791.46,791.67,792.06,792.06,792.06,792.06,792.06,792.93,793.1,793.18,793.18,793.18,793.18,793.18,793.88,793.88,794.44,794.44,794.44,794.44,795.16,795.24,795.45,795.45,796.36,796.43,796.67,796.81,797.1,797.37,797.67,797.67,797.67,797.78,797.78,797.78,797.78,797.78,797.78,798.0,798.0,798.0,798.33,798.33,798.33,798.33,798.33,798.33,798.33,798.33,798.33,798.33,798.33,798.33,798.33,798.33,798.33,798.33,798.33,798.33,798.33,798.33,798.46,798.57,798.57,798.67,798.89,798.95,799.0,799.0,799.0,799.0,800.0,820.9,820.9,824.42,838.24,838.24,849.0,865.22,865.22,865.22,865.22,865.22,865.22,865.22,865.22,878.79,880.77,881.4,881.4,881.4,882.35,882.35,882.86,883.72,886.67,886.67,886.96,886.96,889.41,889.87,890.36,890.48,891.07,891.07,891.57,892.55,892.93,892.93,893.33,893.33,893.33,893.33,893.33,893.68,894.03,894.03,894.03,894.29,894.29,894.37,894.37,895.71,895.71,897.5,897.5,897.5,897.5,897.5,897.62,897.75,897.75,897.75,897.92,897.92,898.0,898.0,898.0,898.33,898.33,898.67,898.78,898.82,898.82,898.82,898.85,898.89,898.95,899.0,899.0,903.03,907.89,907.89,907.89,907.89,931.37,935.94,939.58,939.58,944.62,946.97,946.97,947.06,947.06,947.37,960.0,960.0,960.87,962.96,965.22,965.22,969.7,969.7,972.22,975.0,975.0,975.0,975.0,975.0,975.0,975.86,976.0,976.19,977.27,977.42,977.42,977.78,979.31,979.31,980.39,981.25,981.25,981.63,983.33,983.33,983.33,983.78,983.78,983.78,983.87,983.87,984.38,984.38,984.85,984.85,984.91,984.91,984.91,984.91,984.91,984.91,984.91,984.91,984.91,984.91,984.91,984.91,984.91,984.91,984.91,984.91,984.91,984.91,984.91,985.0,985.29,985.37,985.37,985.71,985.71,986.0,986.44,986.84,986.96,987.5,987.5,987.5,988.14,988.24,989.29,989.47,989.47,989.8,989.8,990.0,990.0,990.0,990.0,990.48,990.57,990.7,990.7,990.91,991.14,992.0,992.65,993.02,993.33,993.33,993.55,994.29,994.44,995.0,995.0,995.45,995.45,995.45,995.45,995.45,995.65,995.83,995.83,996.0,996.0,996.0,996.0,996.0,996.0,996.0,996.0,996.0,996.0,996.23,996.43,996.43,996.43,996.43,996.55,996.55,996.67,996.67,996.67,996.67,996.67,996.67,996.67,996.67,996.67,996.67,996.67,996.88,997.06,997.06,997.06,997.14,997.14,997.14,997.14,997.14,997.14,997.14,997.22,997.22,997.22,997.22,997.22,997.22,997.22,997.22,997.3,997.3,997.3,997.37,997.37,997.5,997.5,997.5,997.5,997.5,997.5,997.5,997.67,997.67,997.67,997.67,997.73,997.73,997.78,997.78,997.78,997.78,997.78,997.78,997.78,997.78,997.78,997.78,997.78,997.78,997.78,997.78,997.78,997.83,997.83,997.92,997.92,997.92,997.96,998.0,998.0,998.0,998.0,998.0,998.0,998.0,998.0,998.0,998.0,998.0,998.04,998.11,998.15,998.15,998.15,998.15,998.15,998.31,998.33,998.33,998.33,998.33,998.33,998.41,998.41,998.41,998.41,998.46,998.46,998.46,998.46,998.57,998.57,998.57,998.57,998.57,998.61,998.61,998.67,998.67,998.78,998.82,998.89,999.0,999.0,999.0,1018.37,1020.0,1020.0,1020.0,1023.53,1023.53,1023.53,1023.53,1023.53,1023.53,1023.53,1023.53,1023.53,1023.53,1023.53,1029.41,1029.41,1038.1,1040.62,1041.67,1042.0,1042.0,1042.17,1045.45,1048.78,1052.94,1052.94,1052.94,1060.0,1060.0,1068.18,1068.18,1076.09,1076.09,1083.05,1083.05,1083.33,1084.21,1085.42,1085.96,1087.5,1087.5,1089.9,1092.19,1092.19,1092.78,1094.52,1096.34,1096.34,1097.5,1098.0,1098.0,1098.0,1098.0,1098.11,1098.11,1098.11,1098.51,1098.51,1098.51,1098.51,1099.0,1122.5,1171.43,1171.43,1173.68,1173.91,1174.07,1175.0,1175.51,1181.25,1181.58,1181.58,1183.33,1183.33,1188.1,1188.1,1191.67,1191.89,1191.89,1192.54,1192.54,1192.75,1193.33,1193.48,1193.48,1193.48,1193.48,1194.12,1196.0,1196.77,1197.5,1197.67,1197.78,1197.78,1198.0,1198.0,1198.0,1198.0,1198.0,1198.0,1198.11,1198.28,1198.28,1198.28,1198.28,1198.28,1198.28,1198.28,1198.28,1198.57,1198.85,1199.0,1219.44,1219.44,1219.44,1219.44,1243.75,1243.75,1244.0,1244.0,1245.0,1245.0,1245.83,1255.0,1270.91,1273.47,1273.68,1274.0,1274.47,1274.47,1274.51,1274.51,1275.51,1275.51,1275.51,1276.19,1276.19,1277.78,1278.95,1278.95,1278.95,1280.0,1280.0,1280.0,1280.0,1280.0,1280.77,1283.1,1283.1,1284.09,1286.05,1286.05,1286.36,1287.1,1287.5,1287.88,1287.88,1290.28,1290.28,1290.28,1290.41,1293.94,1294.0,1294.12,1294.12,1294.44,1294.44,1294.44,1294.81,1295.0,1295.0,1295.0,1295.0,1295.65,1296.0,1296.67,1296.67,1296.77,1297.1,1297.92,1298.57,1299.0,1299.0,1299.0,1299.0,1299.0,1299.0,1324.49,1332.43,1332.43,1332.43,1332.43,1332.43,1344.44,1371.43,1377.59,1377.59,1377.59,1377.59,1378.69,1378.69,1378.69,1378.69,1378.69,1378.69,1378.69,1378.69,1382.69,1382.69,1382.98,1384.62,1385.94,1385.94,1392.59,1397.96,1398.04,1398.04,1398.04,1398.11,1398.51,1399.0,1399.0,1399.0,1400.0,1400.0,1423.81,1424.44,1431.25,1439.13,1444.44,1447.83,1450.0,1461.76,1462.96,1463.64,1464.71,1464.71,1468.42,1468.42,1469.77,1469.77,1469.77,1470.59,1470.59,1472.0,1472.22,1473.77,1476.67,1477.46,1477.46,1477.46,1477.46,1478.79,1481.25,1481.25,1481.43,1481.54,1484.44,1484.62,1484.62,1484.78,1484.78,1484.85,1484.85,1486.05,1486.87,1486.87,1487.23,1487.23,1488.24,1489.8,1489.8,1489.87,1490.48,1490.57,1490.77,1493.75,1494.0,1494.74,1495.0,1495.0,1495.0,1495.0,1495.0,1495.0,1495.0,1495.0,1495.0,1495.83,1495.83,1495.83,1495.83,1495.83,1495.83,1495.83,1495.83,1495.83,1495.89,1495.89,1496.0,1497.22,1497.37,1497.37,1497.5,1497.5,1497.5,1497.5,1497.62,1497.78,1497.78,1497.78,1497.83,1497.87,1497.92,1497.92,1497.92,1497.92,1497.92,1498.0,1498.0,1498.11,1498.33,1498.51,1498.51,1498.51,1498.57,1498.57,1498.72,1498.82,1498.95,1499.0,1499.0,1499.0,1499.0,1499.0,1548.28,1550.0,1557.89,1557.89,1557.89,1560.61,1568.57,1571.15,1571.15,1571.43,1572.22,1574.07,1576.32,1582.69,1585.29,1585.29,1585.29,1585.29,1585.29,1586.36,1586.36,1589.29,1589.39,1589.39,1589.39,1589.66,1591.43,1593.44,1593.44,1594.52,1597.5,1598.0,1598.36,1598.46,1599.0,1599.0,1599.0,1599.0,1614.71,1633.33,1638.46,1659.09,1659.09,1659.09,1662.5,1678.0,1678.0,1678.0,1678.0,1678.67,1678.95,1680.39,1681.01,1681.01,1681.01,1681.01,1681.01,1681.01,1681.01,1681.01,1681.01,1681.01,1681.01,1681.01,1681.01,1692.86,1694.0,1694.52,1695.0,1697.06,1697.06,1697.56,1697.56,1698.11,1698.51,1698.51,1698.75,1698.75,1698.8,1698.95,1700.0,1717.65,1747.22,1747.22,1758.97,1764.29,1767.92,1769.39,1769.39,1769.39,1775.56,1775.56,1777.97,1777.97,1778.57,1778.57,1778.57,1779.45,1780.43,1783.84,1783.84,1783.93,1783.93,1788.14,1788.14,1788.42,1794.52,1794.52,1794.52,1794.52,1794.52,1794.52,1794.52,1795.0,1797.37,1797.37,1797.5,1797.5,1797.5,1797.92,1797.92,1797.92,1798.0,1798.11,1798.11,1798.11,1798.11,1798.11,1798.51,1799.0,1799.0,1847.06,1847.06,1847.06,1847.06,1847.06,1847.06,1847.06,1847.06,1847.06,1884.91,1885.71,1895.0,1896.77,1898.0,1914.29,1921.05,1921.05,1935.48,1947.06,1948.78,1952.38,1959.52,1959.52,1961.11,1961.11,1962.07,1962.5,1964.29,1975.0,1975.0,1975.47,1975.47,1975.47,1976.0,1976.0,1976.0,1976.0,1979.25,1979.25,1979.25,1979.25,1979.25,1979.25,1979.25,1979.25,1979.25,1980.0,1983.87,1983.87,1984.62,1984.62,1988.1,1988.33,1989.29,1989.29,1989.29,1993.33,1993.85,1993.88,1994.29,1994.52,1995.0,1995.0,1995.0,1995.45,1995.45,1995.56,1995.56,1995.71,1995.71,1995.71,1995.74,1996.55,1996.67,1997.37,1997.37,1997.5,1997.5,1997.5,1997.5,1997.67,1997.78,1998.0,1998.0,1998.33,1998.33,1998.33,1998.33,1998.51,1998.51,1998.51,1998.51,1998.57,1998.67,2060.0,2082.46,2082.46,2082.46,2094.0,2098.0,2165.79,2165.79,2180.88,2180.88,2185.94,2195.0,2195.0,2218.52,2218.52,2239.47,2239.47,2239.47,2239.47,2239.47,2239.47,2239.47,2239.47,2239.47,2239.47,2239.47,2239.47,2239.47,2239.47,2239.47,2239.47,2247.73,2273.26,2276.09,2298.33,2298.51,2298.67,2298.75,2350.0,2352.73,2360.61,2368.75,2398.95,2398.95,2419.23,2419.23,2440.48,2450.0,2453.66,2454.84,2464.29,2468.75,2468.75,2470.73,2470.73,2480.81,2480.81,2485.71,2486.67,2492.86,2492.86,2492.86,2493.85,2494.29,2495.83,2495.83,2495.83,2495.83,2497.5,2497.5,2497.5,2497.5,2497.5,2497.92,2498.0,2498.11,2498.11,2498.33,2498.41,2523.33,2523.33,2547.5,2548.98,2553.66,2553.85,2584.62,2588.46,2588.89,2594.52,2594.52,2639.53,2639.53,2654.84,2658.14,2661.67,2670.37,2672.0,2683.61,2755.26,2766.67,2767.39,2770.59,2776.19,2776.19,2782.26,2784.75,2786.67,2790.2,2792.0,2796.77,2798.11,2798.11,2798.33,2798.33,2799.0,2840.0,2861.22,2874.67,2884.44,2898.28,2933.33,2938.64,2939.58,2950.0,2957.89,2957.89,2957.89,2959.26,2959.26,2959.26,2959.26,2959.26,2959.26,2959.26,2959.26,2959.26,2959.26,2959.26,2959.26,2959.26,2959.26,2959.26,2959.26,2959.26,2959.26,2959.26,2959.26,2959.26,2959.26,2959.26,2959.26,2959.26,2959.26,2964.15,2968.42,2969.39,2981.63,2983.05,2989.58,2989.8,2990.91,2994.44,2995.0,2995.0,2995.24,2995.24,2995.24,2995.24,2995.24,2995.24,2995.24,2996.43,2997.67,2997.67,2998.0,2998.0,2998.11,2998.33,2998.44,2998.57,3098.25,3104.62,3234.69,3243.1,3270.71,3289.58,3294.44,3295.0,3298.51,3327.27,3358.33,3423.81,3423.81,3430.61,3439.58,3457.69,3460.0,3474.58,3476.32,3476.32,3482.5,3489.58,3493.33,3493.33,3541.18,3561.67,3568.18,3574.47,3574.47,3577.78,3577.78,3579.66,3594.44,3594.44,3597.14,3641.94,3671.88,3693.33,3693.33,3694.29,3716.28,3737.7,3750.0,3758.7,3763.89,3763.89,3772.5,3774.39,3787.23,3797.14,3797.14,3798.33,3798.46,3838.46,3838.46,3895.0,3922.45,3931.43,3934.04,3940.82,3940.82,3944.74,3945.28,3946.51,3955.0,3956.67,3963.41,3964.44,3968.0,3968.75,3971.15,3977.08,3980.77,3987.14,3989.23,3990.24,3990.24,3993.33,3994.12,3994.44,3995.92,3997.14,3997.14,3998.18,3998.18,3998.33,3998.33,4260.47,4298.28,4385.71,4411.76,4411.76,4419.23,4432.65,4441.07,4494.29,4518.6,4518.6,4518.6,4518.6,4518.6,4518.6,4518.6,4538.0,4593.33,4696.67,4861.29,4893.02,4897.5,4897.56,4913.21,4916.33,4927.12,4934.21,4934.21,4934.88,4937.25,4960.61,4979.07,4992.86,4993.1,4997.67,4997.67,4997.67,4998.0,4998.25,4998.39,5037.5,5072.97,5139.13,5217.31,5416.13,5456.82,5458.54,5476.0,5494.29,5499.0,5499.0,5526.32,5589.39,5735.09,5882.35,5882.35,5884.31,5942.86,5953.54,5957.45,5968.57,5994.29,5994.29,5998.33,6457.14,6466.67,6495.0,6580.77,6598.28,6854.17,7400.0,7432.5,7495.0,7495.0,7495.0,7860.47,7879.03,7879.03,7879.03,7901.56,7995.0,7997.56,7998.0,7998.18,8494.44,8495.0,8674.47,8794.29,8795.0,8900.0,8989.29,8994.29,9422.62,9494.29,9495.0,9495.0,9500.0,9994.29,10759.18,10759.18],\"xaxis\":\"x\",\"y\":[43.24562234392065,43.29217049268565,43.29217049268565,43.36940938753637,43.371302345586145,43.371302345586145,43.371302345586145,43.371302345586145,43.4088667016395,43.4088667016395,43.41702814372296,43.421931215392874,43.431814938980644,43.43907645018798,43.44806024289962,43.44806024289962,43.48767271749864,43.48767271749864,43.5187048166753,43.52117186855985,43.5233596315518,43.5233596315518,43.52404233773369,43.52421301427916,43.52436817477504,43.52436817477504,43.52436817477504,43.52439920687422,43.52439920687422,43.52452333527093,43.52491123651063,43.52491123651063,43.52491123651063,43.52491123651063,43.55555543444759,43.55927928634879,43.55927928634879,43.55927928634879,43.57145938527563,43.57145938527563,43.57145938527563,43.586975434863966,43.586975434863966,43.586975434863966,43.5885270398228,43.60232080790682,43.60404308941113,43.60404308941113,43.61800753404063,43.61800753404063,43.61800753404063,43.61800753404063,43.61800753404063,43.620210813082174,43.62731716379363,43.64903963321729,43.66669689764881,43.66699170259099,43.667255475434,43.6699087199136,43.6699087199136,43.66998630016154,43.66998630016154,43.670700038442604,43.670700038442604,43.6715068730212,43.67231370759979,43.67346189526933,43.673865312558625,43.673865312558625,43.673865312558625,43.673865312558625,43.673865312558625,43.673865312558625,43.673865312558625,43.673865312558625,43.67414460145122,43.675153144674454,43.676456492839876,43.676782329881235,43.67684439407959,43.67706161877382,43.67706161877382,43.677185747170526,43.67774432495571,43.67774432495571,43.67774432495571,43.67774432495571,43.67774432495571,43.67825635459212,43.67825635459212,43.678395999038415,43.678395999038415,43.678395999038415,43.678395999038415,43.67845806323677,43.67845806323677,43.67852012743512,43.67852012743512,43.67852012743512,43.67852012743512,43.67852012743512,43.67884596447648,43.67903215707154,43.67903215707154,43.67903215707154,43.67903215707154,43.67912525336907,43.679233865716185,43.679233865716185,43.679264897815365,43.67940454226166,43.67940454226166,43.67940454226166,43.67940454226166,43.67940454226166,43.67949763855919,43.67968383115425,43.67968383115425,43.67968383115425,43.67968383115425,43.67982347560054,43.680071732393955,43.680071732393955,43.680071732393955,43.680071732393955,43.680071732393955,43.680071732393955,43.680071732393955,43.70497499198323,43.70497499198323,43.71954456254667,43.725952691026656,43.725952691026656,43.73803969365597,43.74213593074729,43.748854380219036,43.750142212334865,43.750142212334865,43.752004138285464,43.752004138285464,43.752004138285464,43.75664343711238,43.75762094823644,43.757651980335616,43.757651980335616,43.757651980335616,43.757651980335616,43.757651980335616,43.757651980335616,43.757651980335616,43.757651980335616,43.757651980335616,43.757651980335616,43.757651980335616,43.757651980335616,43.757651980335616,43.757651980335616,43.757651980335616,43.757651980335616,43.757651980335616,43.757651980335616,43.76590651871661,43.78868407951229,43.78868407951229,43.78868407951229,43.78868407951229,43.78868407951229,43.78868407951229,43.78868407951229,43.78868407951229,43.78868407951229,43.81395972429168,43.823858963929034,43.823858963929034,43.823858963929034,43.823858963929034,43.82570537383005,43.827831072623646,43.82806381336747,43.82806381336747,43.82806381336747,43.83169456897114,43.83172560107032,43.83172560107032,43.83172560107032,43.83172560107032,43.833339270227505,43.83419265295486,43.83419265295486,43.83419265295486,43.83419265295486,43.83419265295486,43.83419265295486,43.83419265295486,43.83419265295486,43.83419265295486,43.83419265295486,43.83419265295486,43.83419265295486,43.83419265295486,43.83419265295486,43.83439436159951,43.83506155173181,43.83506155173181,43.8350770677814,43.8350770677814,43.83515464802934,43.83523222827728,43.83523222827728,43.83523222827728,43.83523222827728,43.9043562291933,43.91036094038399,43.91251767127676,43.91281247621894,43.91281247621894,43.91281247621894,43.91436408117777,43.91773106393844,43.917886224434326,43.93504697527902,43.94022933584152,43.94243261488307,43.95315420514861,43.95315420514861,43.95667634840515,43.96336376577773,43.96336376577773,43.97254926713402,43.97321645726632,43.97321645726632,43.97321645726632,43.97321645726632,43.973697454803556,43.9747059980268,43.977017889415464,43.979019459812356,43.979019459812356,43.979019459812356,43.97915910425865,43.979283232655355,43.979283232655355,43.98086586971337,43.98086586971337,43.98086586971337,43.9814865116969,43.982091637630845,43.982634699366436,43.982634699366436,43.982634699366436,43.98472936606086,43.98472936606086,43.98472936606086,43.98659129201146,43.98884111920177,43.98884111920177,43.98939969698695,43.98955485748283,43.98955485748283,43.98995827477213,43.99031514391266,43.99031514391266,43.99031514391266,43.9903927241606,43.9903927241606,43.9903927241606,43.9903927241606,43.9903927241606,43.9903927241606,43.991944329119434,44.0096791737989,44.03073445309027,44.03073445309027,44.03073445309027,44.03073445309027,44.04941577679462,44.05796512011779,44.05796512011779,44.05962533742374,44.05962533742374,44.09608805395632,44.09608805395632,44.09608805395632,44.0970500490308,44.0974534663201,44.12123957033901,44.12260498270278,44.12493239014103,44.12493239014103,44.12493239014103,44.126421930901515,44.12668570374451,44.12668570374451,44.12668570374451,44.12668570374451,44.12668570374451,44.12668570374451,44.12668570374451,44.13331105691873,44.13331105691873,44.13331105691873,44.13331105691873,44.13331105691873,44.13331105691873,44.13385411865433,44.13417995569568,44.13478508162962,44.13478508162962,44.13478508162962,44.13478508162962,44.13478508162962,44.13613497794381,44.13639875078681,44.13652287918352,44.13652287918352,44.13652287918352,44.13652287918352,44.13652287918352,44.1376090026547,44.1376090026547,44.13847790143165,44.13847790143165,44.13847790143165,44.13847790143165,44.139595057002005,44.13971918539871,44.14004502244007,44.14004502244007,44.141456982952604,44.141565595299724,44.14193798048984,44.14215520518408,44.14260517062214,44.143024103961025,44.14348958544868,44.14348958544868,44.14348958544868,44.14366026199415,44.14366026199415,44.14366026199415,44.14366026199415,44.14366026199415,44.14366026199415,44.144001615085095,44.144001615085095,44.144001615085095,44.144513644721506,44.144513644721506,44.144513644721506,44.144513644721506,44.144513644721506,44.144513644721506,44.144513644721506,44.144513644721506,44.144513644721506,44.144513644721506,44.144513644721506,44.144513644721506,44.144513644721506,44.144513644721506,44.144513644721506,44.144513644721506,44.144513644721506,44.144513644721506,44.144513644721506,44.144513644721506,44.14471535336616,44.144886029911625,44.144886029911625,44.14504119040751,44.14538254349846,44.14547563979598,44.14555322004392,44.14555322004392,44.14555322004392,44.14555322004392,44.14710482500276,44.179533368642375,44.179533368642375,44.18499501809747,44.20643819862854,44.20643819862854,44.22313346798559,44.24830050041786,44.24830050041786,44.24830050041786,44.24830050041786,44.24830050041786,44.24830050041786,44.24830050041786,44.24830050041786,44.26935577970923,44.27242795752772,44.27340546865178,44.27340546865178,44.27340546865178,44.274879493362675,44.274879493362675,44.27567081189168,44.277005192156274,44.28158242678484,44.28158242678484,44.282032392222895,44.282032392222895,44.28583382437204,44.2865475626531,44.28730784908293,44.28749404167799,44.2884094886037,44.2884094886037,44.289185291083115,44.290705863942776,44.291295473827134,44.291295473827134,44.291916115810665,44.291916115810665,44.291916115810665,44.291916115810665,44.291916115810665,44.292459177546256,44.29300223928185,44.29300223928185,44.29300223928185,44.293405656571146,44.293405656571146,44.29352978496785,44.29352978496785,44.295608935612684,44.295608935612684,44.298386308489,44.298386308489,44.298386308489,44.298386308489,44.298386308489,44.29857250108406,44.298774209728705,44.298774209728705,44.298774209728705,44.29903798257171,44.29903798257171,44.29916211096842,44.29916211096842,44.29916211096842,44.29967414060483,44.29967414060483,44.30020168629083,44.300372362836306,44.30043442703466,44.30043442703466,44.30043442703466,44.300480975183426,44.30054303938178,44.300636135679305,44.30071371592725,44.30071371592725,44.30696668391135,44.31450748401127,44.31450748401127,44.31450748401127,44.31450748401127,44.35093916844468,44.35803000310655,44.3636778451567,44.3636778451567,44.37149793414922,44.37514420580248,44.37514420580248,44.37528385024877,44.37528385024877,44.37576484778601,44.395361618416075,44.395361618416075,44.396711514730264,44.399954369094225,44.403460996301185,44.403460996301185,44.41041218651676,44.41041218651676,44.41432223101302,44.418635692798574,44.418635692798574,44.418635692798574,44.418635692798574,44.418635692798574,44.418635692798574,44.41997007306317,44.42018729775741,44.42048210269959,44.42215783605513,44.422390576798946,44.422390576798946,44.42294915458413,44.42532311017114,44.42532311017114,44.42699884352668,44.428333223791284,44.428333223791284,44.428922833675635,44.43156056210565,44.43156056210565,44.43156056210565,44.43225878433713,44.43225878433713,44.43225878433713,44.43239842878342,44.43239842878342,44.433189747312426,44.433189747312426,44.43391900164308,44.43391900164308,44.43401209794061,44.43401209794061,44.43401209794061,44.43401209794061,44.43401209794061,44.43401209794061,44.43401209794061,44.43401209794061,44.43401209794061,44.43401209794061,44.43401209794061,44.43401209794061,44.43401209794061,44.43401209794061,44.43401209794061,44.43401209794061,44.43401209794061,44.43401209794061,44.43401209794061,44.43415174238691,44.43460170782497,44.43472583622167,44.43472583622167,44.43525338190768,44.43525338190768,44.435703347345736,44.43638605352763,44.43700669551116,44.43719288810622,44.43803075478399,44.43803075478399,44.43803075478399,44.439023781957644,44.43917894245352,44.4408081276603,44.44108741655289,44.44108741655289,44.44159944618931,44.44159944618931,44.44190976718107,44.44190976718107,44.44190976718107,44.44190976718107,44.44265453756131,44.44279418200761,44.442995890652256,44.442995890652256,44.44332172769361,44.44367859683414,44.44501297709874,44.44602152032198,44.44659561415675,44.44707661169399,44.44707661169399,44.44741796478493,44.44856615245447,44.448798893198294,44.44966779197524,44.44966779197524,44.450366014206715,44.450366014206715,44.450366014206715,44.450366014206715,44.450366014206715,44.45067633519848,44.45095562409107,44.45095562409107,44.45121939693407,44.45121939693407,44.45121939693407,44.45121939693407,44.45121939693407,44.45121939693407,44.45121939693407,44.45121939693407,44.45121939693407,44.45121939693407,44.4515762660746,44.45188658706637,44.45188658706637,44.45188658706637,44.45188658706637,44.45207277966143,44.45207277966143,44.45225897225649,44.45225897225649,44.45225897225649,44.45225897225649,44.45225897225649,44.45225897225649,44.45225897225649,44.45225897225649,44.45225897225649,44.45225897225649,44.45225897225649,44.452584809297846,44.45286409819043,44.45286409819043,44.45286409819043,44.45298822658714,44.45298822658714,44.45298822658714,44.45298822658714,44.45298822658714,44.45298822658714,44.45298822658714,44.45311235498385,44.45311235498385,44.45311235498385,44.45311235498385,44.45311235498385,44.45311235498385,44.45311235498385,44.45311235498385,44.45323648338056,44.45323648338056,44.45323648338056,44.45334509572767,44.45334509572767,44.45354680437232,44.45354680437232,44.45354680437232,44.45354680437232,44.45354680437232,44.45354680437232,44.45354680437232,44.45381057721532,44.45381057721532,44.45381057721532,44.45381057721532,44.453903673512855,44.453903673512855,44.453981253760794,44.453981253760794,44.453981253760794,44.453981253760794,44.453981253760794,44.453981253760794,44.453981253760794,44.453981253760794,44.453981253760794,44.453981253760794,44.453981253760794,44.453981253760794,44.453981253760794,44.453981253760794,44.453981253760794,44.454058834008734,44.454058834008734,44.454198478455034,44.454198478455034,44.454198478455034,44.45426054265339,44.45432260685174,44.45432260685174,44.45432260685174,44.45432260685174,44.45432260685174,44.45432260685174,44.45432260685174,44.45432260685174,44.45432260685174,44.45432260685174,44.45432260685174,44.45438467105009,44.45449328339721,44.454555347595566,44.454555347595566,44.454555347595566,44.454555347595566,44.454555347595566,44.45480360438898,44.45483463648815,44.45483463648815,44.45483463648815,44.45483463648815,44.45483463648815,44.45495876488486,44.45495876488486,44.45495876488486,44.45495876488486,44.455036345132804,44.455036345132804,44.455036345132804,44.455036345132804,44.45520702167827,44.45520702167827,44.45520702167827,44.45520702167827,44.45520702167827,44.45526908587662,44.45526908587662,44.455362182174156,44.455362182174156,44.45553285871963,44.45559492291798,44.4557035352651,44.455874211810574,44.455874211810574,44.455874211810574,44.485928799863174,44.48845791594607,44.48845791594607,44.48845791594607,44.49393508145075,44.49393508145075,44.49393508145075,44.49393508145075,44.49393508145075,44.49393508145075,44.49393508145075,44.49393508145075,44.49393508145075,44.49393508145075,44.49393508145075,44.50305851860869,44.50305851860869,44.51654196570095,44.52045201019721,44.522081195403985,44.5225932250404,44.5225932250404,44.5228569978834,44.527946262148376,44.53311310666129,44.53956778329004,44.53956778329004,44.53956778329004,44.5505221142994,44.5505221142994,44.56321424286266,44.56321424286266,44.57548743808702,44.57548743808702,44.5862866086005,44.5862866086005,44.586721057988974,44.58808647035275,44.589963912352935,44.590801779030706,44.59319125066731,44.59319125066731,44.59691510256851,44.60046827792424,44.60046827792424,44.60138372484995,44.60408351747832,44.6069074385034,44.6069074385034,44.608707300255645,44.60948310273506,44.60948310273506,44.60948310273506,44.60948310273506,44.609653779280535,44.609653779280535,44.609653779280535,44.610274421264066,44.610274421264066,44.610274421264066,44.610274421264066,44.6110347076939,44.64749742422647,44.72341745486219,44.72341745486219,44.72690856601956,44.72726543516009,44.727513691953504,44.72895668456522,44.72974800309422,44.73865421555793,44.73916624519434,44.73916624519434,44.7418815538723,44.7418815538723,44.749282709525936,44.749282709525936,44.75482193922897,44.755163292319914,44.755163292319914,44.75617183554316,44.75617183554316,44.75649767258451,44.75739760346063,44.75763034420446,44.75763034420446,44.75763034420446,44.75763034420446,44.75862337137811,44.761540388700716,44.76273512451902,44.76386779613897,44.764131568981966,44.76430224552744,44.76430224552744,44.764643598618385,44.764643598618385,44.764643598618385,44.764643598618385,44.764643598618385,44.764643598618385,44.76481427516386,44.765078048006856,44.765078048006856,44.765078048006856,44.765078048006856,44.765078048006856,44.765078048006856,44.765078048006856,44.765078048006856,44.76552801344492,44.76596246283339,44.76619520357722,44.797910008935766,44.797910008935766,44.797910008935766,44.797910008935766,44.835629525485004,44.835629525485004,44.83601742672471,44.83601742672471,44.83756903168354,44.83756903168354,44.83885686379938,44.85308508127188,44.87777111616691,44.88174322486152,44.88206906190288,44.88256557548971,44.88329482982036,44.88329482982036,44.88335689401871,44.88335689401871,44.884908498977545,44.884908498977545,44.884908498977545,44.885963590349554,44.885963590349554,44.8884306422341,44.89024602003593,44.89024602003593,44.89024602003593,44.891875205242705,44.891875205242705,44.891875205242705,44.891875205242705,44.891875205242705,44.89306994106101,44.896685180615094,44.896685180615094,44.898221269524335,44.90126241524365,44.90126241524365,44.90174341278089,44.902891600450424,44.903512242433955,44.90410185231831,44.90410185231831,44.90782570421951,44.90782570421951,44.90782570421951,44.908027412864165,44.913504578368844,44.91359767466637,44.91378386726143,44.91378386726143,44.91428038084826,44.91428038084826,44.91428038084826,44.914854474683025,44.915149279625204,44.915149279625204,44.915149279625204,44.915149279625204,44.91615782284845,44.91670088458404,44.917740459906454,44.917740459906454,44.91789562040234,44.91840765003876,44.919679966105,44.920688509328244,44.92135569946054,44.92135569946054,44.92135569946054,44.92135569946054,44.92135569946054,44.92135569946054,44.9609061098612,44.97322585323433,44.97322585323433,44.97322585323433,44.97322585323433,44.97322585323433,44.99186062878992,45.03373844662883,45.04329633317524,45.04329633317524,45.04329633317524,45.04329633317524,45.04500309862996,45.04500309862996,45.04500309862996,45.04500309862996,45.04500309862996,45.04500309862996,45.04500309862996,45.04500309862996,45.05120951846529,45.05120951846529,45.05165948390335,45.05420411603584,45.0562522345815,45.0562522345815,45.06657040755774,45.074902526186676,45.07502665458338,45.07502665458338,45.07502665458338,45.0751352669305,45.07575590891403,45.076516195343864,45.076516195343864,45.076516195343864,45.0780678003027,45.0780678003027,45.11501151437251,45.11598902549658,45.126555455266235,45.13878210234184,45.147021124673245,45.15228106548369,45.15564804824436,45.17389492256024,45.17575684851084,45.17681193988284,45.17847215718879,45.17847215718879,45.184228611586065,45.184228611586065,45.18632327828049,45.18632327828049,45.18632327828049,45.18759559434673,45.18759559434673,45.18978335733869,45.19012471042963,45.19252969811582,45.197029352496436,45.19825512041392,45.19825512041392,45.19825512041392,45.19825512041392,45.200318755009164,45.204135703207896,45.204135703207896,45.20441499210048,45.204585668645954,45.20908532302657,45.20936461191916,45.20936461191916,45.209612868712576,45.209612868712576,45.209721481059695,45.209721481059695,45.211583407010295,45.21285572307654,45.21285572307654,45.213414300861714,45.213414300861714,45.21498142187014,45.21740192560592,45.21740192560592,45.21751053795304,45.21845701697792,45.21859666142422,45.21890698241599,45.22353076519331,45.22391866643302,45.22506685410256,45.22547027139185,45.22547027139185,45.22547027139185,45.22547027139185,45.22547027139185,45.22547027139185,45.22547027139185,45.22547027139185,45.22547027139185,45.226758103507684,45.226758103507684,45.226758103507684,45.226758103507684,45.226758103507684,45.226758103507684,45.226758103507684,45.226758103507684,45.226758103507684,45.22685119980521,45.22685119980521,45.22702187635068,45.22891483440046,45.22914757514429,45.22914757514429,45.229349283788935,45.229349283788935,45.229349283788935,45.229349283788935,45.229535476383994,45.229783733177406,45.229783733177406,45.229783733177406,45.22986131342535,45.229923377623706,45.230000957871646,45.230000957871646,45.230000957871646,45.230000957871646,45.230000957871646,45.23012508626835,45.23012508626835,45.230295762813824,45.23063711590476,45.230916404797355,45.230916404797355,45.230916404797355,45.23100950109489,45.23100950109489,45.231242241838714,45.23139740233459,45.231599110979246,45.231676691227186,45.231676691227186,45.231676691227186,45.231676691227186,45.231676691227186,45.308139783598484,45.31080854412768,45.323050707252875,45.323050707252875,45.323050707252875,45.3272710727409,45.33962184821321,45.343624989007004,45.343624989007004,45.344059438395476,45.34528520631295,45.348155675486794,45.35164678664417,45.36153051023194,45.3655646831249,45.3655646831249,45.3655646831249,45.3655646831249,45.3655646831249,45.367224900430855,45.367224900430855,45.37177110296024,45.37192626345612,45.37192626345612,45.37192626345612,45.372345196795,45.37509153757214,45.378210263539394,45.378210263539394,45.379885996894934,45.38450977967226,45.385285582151674,45.38584415993685,45.38599932043274,45.38683718711051,45.38683718711051,45.38683718711051,45.38683718711051,45.411212901013776,45.440103785347254,45.448063518786064,45.4800731290868,45.4800731290868,45.4800731290868,45.48536410199642,45.50941397885833,45.50941397885833,45.50941397885833,45.50941397885833,45.51045355418075,45.51088800356922,45.513122314709946,45.51408430978442,45.51408430978442,45.51408430978442,45.51408430978442,45.51408430978442,45.51408430978442,45.51408430978442,45.51408430978442,45.51408430978442,45.51408430978442,45.51408430978442,45.51408430978442,45.51408430978442,45.53247082854659,45.53423965819967,45.53504649277826,45.535791263158494,45.538987569373695,45.538987569373695,45.53976337185311,45.53976337185311,45.54061675458047,45.541237396564,45.541237396564,45.54160978175412,45.54160978175412,45.541687362002065,45.54192010274589,45.543549287952665,45.57093511547607,45.61681607410877,45.61681607410877,45.63504743237506,45.64330197075605,45.648934296756615,45.6512151560461,45.6512151560461,45.6512151560461,45.6607885586421,45.6607885586421,45.66452792659289,45.66452792659289,45.66545888956819,45.66545888956819,45.66545888956819,45.66682430193196,45.66834487479162,45.67363584770124,45.67363584770124,45.673775492147534,45.673775492147534,45.68030774902422,45.68030774902422,45.680742198412695,45.69020698866158,45.69020698866158,45.69020698866158,45.69020698866158,45.69020698866158,45.69020698866158,45.69020698866158,45.69095175904182,45.694629062794256,45.694629062794256,45.6948307714389,45.6948307714389,45.6948307714389,45.69548244552161,45.69548244552161,45.69548244552161,45.69560657391832,45.69577725046379,45.69577725046379,45.69577725046379,45.69577725046379,45.69577725046379,45.69639789244732,45.69715817887715,45.69715817887715,45.77172831319868,45.77172831319868,45.77172831319868,45.77172831319868,45.77172831319868,45.77172831319868,45.77172831319868,45.77172831319868,45.77172831319868,45.83045656089052,45.83169784485758,45.846112254925146,45.848858595702275,45.85076706980164,45.87604271458103,45.88653156410275,45.88653156410275,45.90892122365871,45.926888809082,45.92955756961119,45.93514334746299,45.94622180686906,45.94622180686906,45.948688858753606,45.948688858753606,45.95017839951409,45.950845589646384,45.953622962522694,45.9702406516318,45.9702406516318,45.970969905962455,45.970969905962455,45.970969905962455,45.97179225659063,45.97179225659063,45.97179225659063,45.97179225659063,45.97683497270684,45.97683497270684,45.97683497270684,45.97683497270684,45.97683497270684,45.97683497270684,45.97683497270684,45.97683497270684,45.97683497270684,45.97799867642597,45.98400338761665,45.98400338761665,45.985167091335775,45.985167091335775,45.990566676592515,45.99092354573305,45.99241308649353,45.99241308649353,45.99241308649353,45.99868157052721,45.99948840510581,45.999534953254575,46.00017111128769,46.000527980428224,46.00127275080847,46.00127275080847,46.00127275080847,46.00197097303994,46.00197097303994,46.00214164958541,46.00214164958541,46.00237439032924,46.00237439032924,46.00237439032924,46.002420938478004,46.00367773849466,46.00386393108972,46.0049500545609,46.0049500545609,46.005151763205546,46.005151763205546,46.005151763205546,46.005151763205546,46.00541553604855,46.005586212594025,46.005927565684964,46.005927565684964,46.00643959532138,46.00643959532138,46.00643959532138,46.00643959532138,46.00671888421397,46.00671888421397,46.00671888421397,46.00671888421397,46.0068119805115,46.00696714100738,46.10212707313262,46.13697612050802,46.13697612050802,46.13697612050802,46.154881641732956,46.161088061568286,46.26627136172759,46.26627136172759,46.28968508055639,46.28968508055639,46.29753620164808,46.31159374257511,46.31159374257511,46.34808749120687,46.34808749120687,46.380593615094426,46.380593615094426,46.380593615094426,46.380593615094426,46.380593615094426,46.380593615094426,46.380593615094426,46.380593615094426,46.380593615094426,46.380593615094426,46.380593615094426,46.380593615094426,46.380593615094426,46.380593615094426,46.380593615094426,46.380593615094426,46.393409872054384,46.4330223466534,46.4374133886869,46.47192108297135,46.47220037186394,46.472448628657354,46.47257275705406,46.55209251119426,46.55632839273188,46.56855503980748,46.581185104172384,46.62804357392915,46.62804357392915,46.65951012249428,46.65951012249428,46.69248172786949,46.70725300707758,46.712931881226915,46.714762775078334,46.72942544193931,46.73634560005571,46.73634560005571,46.739417777874195,46.739417777874195,46.755057955859236,46.755057955859236,46.76266082015752,46.764150360917995,46.77375479561317,46.77375479561317,46.77375479561317,46.77529088452242,46.775973590704304,46.77836306234091,46.77836306234091,46.77836306234091,46.77836306234091,46.78095424262216,46.78095424262216,46.78095424262216,46.78095424262216,46.78095424262216,46.78160591670487,46.781730045101575,46.78190072164705,46.78190072164705,46.782242074737994,46.7823662031347,46.82103219870882,46.82103219870882,46.85853449056383,46.8608308659029,46.86809237711024,46.868387182052416,46.91613006663571,46.922088229677634,46.92275541980993,46.93149095572816,46.93149095572816,47.00132869492525,47.00132869492525,47.02508376684498,47.03020406320913,47.03568122871381,47.04918019185566,47.05170930793856,47.06972344151061,47.18089593681101,47.1985997493913,47.19971690496166,47.20468204082993,47.2133710285994,47.2133710285994,47.22278927069951,47.22665276704701,47.22963184856796,47.23510901407265,47.237901902998544,47.24530305865218,47.247382209297015,47.247382209297015,47.24772356238796,47.24772356238796,47.24876313771038,47.312378941022544,47.34530399824898,47.36617308494529,47.38133226539309,47.402806478023344,47.457190231830445,47.46542925416185,47.466887762823156,47.483055486494194,47.49529764961939,47.49529764961939,47.49529764961939,47.497423348412994,47.497423348412994,47.497423348412994,47.497423348412994,47.497423348412994,47.497423348412994,47.497423348412994,47.497423348412994,47.497423348412994,47.497423348412994,47.497423348412994,47.497423348412994,47.497423348412994,47.497423348412994,47.497423348412994,47.497423348412994,47.497423348412994,47.497423348412994,47.497423348412994,47.497423348412994,47.497423348412994,47.497423348412994,47.497423348412994,47.497423348412994,47.497423348412994,47.497423348412994,47.505010696661685,47.51163604983591,47.513141106645975,47.53213275134209,47.534336030383635,47.54446801076482,47.54480936385576,47.54653164536006,47.55200881086475,47.55287770964169,47.55287770964169,47.55325009483181,47.55325009483181,47.55325009483181,47.55325009483181,47.55325009483181,47.55325009483181,47.55325009483181,47.55509650473282,47.557020494881776,47.557020494881776,47.557532524518194,47.557532524518194,47.55770320106366,47.558044554154606,47.55821523070008,47.558416939344724,47.71308092164122,47.72296464522899,47.924781902224424,47.937830899928215,47.9806707128416,48.009949498414784,48.017490298514716,48.01835919729166,48.023805330697165,48.06842948931321,48.11662233933457,48.218221432038966,48.218221432038966,48.22877234575903,48.24269024223977,48.270789808044235,48.27437401549914,48.29699641579893,48.2996962084273,48.2996962084273,48.30928512707289,48.32027049018143,48.32608900877705,48.32608900877705,48.40033330605722,48.432125691663714,48.44222663994572,48.45198623513678,48.45198623513678,48.45712204755052,48.45712204755052,48.46003906487313,48.48297178616468,48.48297178616468,48.487161119553534,48.55667302170926,48.60312807417672,48.6364100005437,48.6364100005437,48.63789954130418,48.672019334348924,48.705254712567125,48.72433945356078,48.73783841670263,48.74589124643897,48.74589124643897,48.75925056513452,48.76218309850672,48.78210570617814,48.79748211132018,48.79748211132018,48.799328521221184,48.79953022986584,48.86159442821916,48.86159442821916,48.94932217259159,48.991913728711566,49.00584714124189,49.009896830184445,49.02041671180533,49.02041671180533,49.02649900324396,49.02733686992173,49.02924534402109,49.04241847012159,49.04500965040284,49.05546746782538,49.057065620932974,49.06258933458642,49.06375303830555,49.06747689020675,49.07667790761263,49.08240332991072,49.09228705349849,49.09552990786245,49.09709702887087,49.09709702887087,49.101891488193665,49.10311725611115,49.10361376969797,49.10591014503704,49.10780310308682,49.10780310308682,49.10941677224401,49.10941677224401,49.109649512987836,49.109649512987836,49.51638723689638,49.57505342038986,49.710710241940646,49.751129551118254,49.751129551118254,49.76272004016074,49.78354257870828,49.796607092461656,49.87918350837076,49.916903024919996,49.916903024919996,49.916903024919996,49.916903024919996,49.916903024919996,49.916903024919996,49.916903024919996,49.94700416112136,50.03285446349361,50.19319731993943,50.448622528262554,50.497854953606335,50.50480614382191,50.504899240119435,50.52918185772518,50.53402286519673,50.55076468270255,50.561765561860675,50.561765561860675,50.56280513718309,50.56648244093553,50.602727932773874,50.63137056031393,50.652767192696246,50.653139577886364,50.66023041254823,50.66023041254823,50.66023041254823,50.66074244218464,50.661130343424354,50.66134756811859,50.72203083805856,50.77706626594837,50.87972045002478,51.00102492570636,51.309515023621586,51.37264982939651,51.3753185899257,51.40240961250693,51.43078846720399,51.43809652656009,51.43809652656009,51.480486374035415,51.57834609878903,51.80441494129103,52.03290428752881,52.03290428752881,52.03594543324812,52.12679190358781,52.143363044548146,52.14942981993718,52.16668366707941,52.2065909466206,52.2065909466206,52.21285943065429,52.924751301816556,52.93953809707424,52.98349506555799,53.116576222877114,53.14374482570628,53.54078501862212,54.387697553302054,54.43812471446414,54.53510002439121,54.53510002439121,54.53510002439121,55.10216508869599,55.130962876731935,55.130962876731935,55.130962876731935,55.16592053645445,55.310902503807824,55.314874612502436,55.31555731868433,55.31583660757691,56.08583608444749,56.086704983224436,56.36517152518624,56.551084831353634,56.5521864708744,56.7151049915519,56.853647798326115,56.86140582312028,57.52600477513732,57.6372083025369,57.63830994205767,57.63830994205767,57.64606796685183,58.41301078195351,59.599817898915454,59.599817898915454],\"yaxis\":\"y\",\"type\":\"scattergl\"}],                        {\"template\":{\"data\":{\"bar\":[{\"error_x\":{\"color\":\"#2a3f5f\"},\"error_y\":{\"color\":\"#2a3f5f\"},\"marker\":{\"line\":{\"color\":\"#E5ECF6\",\"width\":0.5},\"pattern\":{\"fillmode\":\"overlay\",\"size\":10,\"solidity\":0.2}},\"type\":\"bar\"}],\"barpolar\":[{\"marker\":{\"line\":{\"color\":\"#E5ECF6\",\"width\":0.5},\"pattern\":{\"fillmode\":\"overlay\",\"size\":10,\"solidity\":0.2}},\"type\":\"barpolar\"}],\"carpet\":[{\"aaxis\":{\"endlinecolor\":\"#2a3f5f\",\"gridcolor\":\"white\",\"linecolor\":\"white\",\"minorgridcolor\":\"white\",\"startlinecolor\":\"#2a3f5f\"},\"baxis\":{\"endlinecolor\":\"#2a3f5f\",\"gridcolor\":\"white\",\"linecolor\":\"white\",\"minorgridcolor\":\"white\",\"startlinecolor\":\"#2a3f5f\"},\"type\":\"carpet\"}],\"choropleth\":[{\"colorbar\":{\"outlinewidth\":0,\"ticks\":\"\"},\"type\":\"choropleth\"}],\"contour\":[{\"colorbar\":{\"outlinewidth\":0,\"ticks\":\"\"},\"colorscale\":[[0.0,\"#0d0887\"],[0.1111111111111111,\"#46039f\"],[0.2222222222222222,\"#7201a8\"],[0.3333333333333333,\"#9c179e\"],[0.4444444444444444,\"#bd3786\"],[0.5555555555555556,\"#d8576b\"],[0.6666666666666666,\"#ed7953\"],[0.7777777777777778,\"#fb9f3a\"],[0.8888888888888888,\"#fdca26\"],[1.0,\"#f0f921\"]],\"type\":\"contour\"}],\"contourcarpet\":[{\"colorbar\":{\"outlinewidth\":0,\"ticks\":\"\"},\"type\":\"contourcarpet\"}],\"heatmap\":[{\"colorbar\":{\"outlinewidth\":0,\"ticks\":\"\"},\"colorscale\":[[0.0,\"#0d0887\"],[0.1111111111111111,\"#46039f\"],[0.2222222222222222,\"#7201a8\"],[0.3333333333333333,\"#9c179e\"],[0.4444444444444444,\"#bd3786\"],[0.5555555555555556,\"#d8576b\"],[0.6666666666666666,\"#ed7953\"],[0.7777777777777778,\"#fb9f3a\"],[0.8888888888888888,\"#fdca26\"],[1.0,\"#f0f921\"]],\"type\":\"heatmap\"}],\"heatmapgl\":[{\"colorbar\":{\"outlinewidth\":0,\"ticks\":\"\"},\"colorscale\":[[0.0,\"#0d0887\"],[0.1111111111111111,\"#46039f\"],[0.2222222222222222,\"#7201a8\"],[0.3333333333333333,\"#9c179e\"],[0.4444444444444444,\"#bd3786\"],[0.5555555555555556,\"#d8576b\"],[0.6666666666666666,\"#ed7953\"],[0.7777777777777778,\"#fb9f3a\"],[0.8888888888888888,\"#fdca26\"],[1.0,\"#f0f921\"]],\"type\":\"heatmapgl\"}],\"histogram\":[{\"marker\":{\"pattern\":{\"fillmode\":\"overlay\",\"size\":10,\"solidity\":0.2}},\"type\":\"histogram\"}],\"histogram2d\":[{\"colorbar\":{\"outlinewidth\":0,\"ticks\":\"\"},\"colorscale\":[[0.0,\"#0d0887\"],[0.1111111111111111,\"#46039f\"],[0.2222222222222222,\"#7201a8\"],[0.3333333333333333,\"#9c179e\"],[0.4444444444444444,\"#bd3786\"],[0.5555555555555556,\"#d8576b\"],[0.6666666666666666,\"#ed7953\"],[0.7777777777777778,\"#fb9f3a\"],[0.8888888888888888,\"#fdca26\"],[1.0,\"#f0f921\"]],\"type\":\"histogram2d\"}],\"histogram2dcontour\":[{\"colorbar\":{\"outlinewidth\":0,\"ticks\":\"\"},\"colorscale\":[[0.0,\"#0d0887\"],[0.1111111111111111,\"#46039f\"],[0.2222222222222222,\"#7201a8\"],[0.3333333333333333,\"#9c179e\"],[0.4444444444444444,\"#bd3786\"],[0.5555555555555556,\"#d8576b\"],[0.6666666666666666,\"#ed7953\"],[0.7777777777777778,\"#fb9f3a\"],[0.8888888888888888,\"#fdca26\"],[1.0,\"#f0f921\"]],\"type\":\"histogram2dcontour\"}],\"mesh3d\":[{\"colorbar\":{\"outlinewidth\":0,\"ticks\":\"\"},\"type\":\"mesh3d\"}],\"parcoords\":[{\"line\":{\"colorbar\":{\"outlinewidth\":0,\"ticks\":\"\"}},\"type\":\"parcoords\"}],\"pie\":[{\"automargin\":true,\"type\":\"pie\"}],\"scatter\":[{\"marker\":{\"colorbar\":{\"outlinewidth\":0,\"ticks\":\"\"}},\"type\":\"scatter\"}],\"scatter3d\":[{\"line\":{\"colorbar\":{\"outlinewidth\":0,\"ticks\":\"\"}},\"marker\":{\"colorbar\":{\"outlinewidth\":0,\"ticks\":\"\"}},\"type\":\"scatter3d\"}],\"scattercarpet\":[{\"marker\":{\"colorbar\":{\"outlinewidth\":0,\"ticks\":\"\"}},\"type\":\"scattercarpet\"}],\"scattergeo\":[{\"marker\":{\"colorbar\":{\"outlinewidth\":0,\"ticks\":\"\"}},\"type\":\"scattergeo\"}],\"scattergl\":[{\"marker\":{\"colorbar\":{\"outlinewidth\":0,\"ticks\":\"\"}},\"type\":\"scattergl\"}],\"scattermapbox\":[{\"marker\":{\"colorbar\":{\"outlinewidth\":0,\"ticks\":\"\"}},\"type\":\"scattermapbox\"}],\"scatterpolar\":[{\"marker\":{\"colorbar\":{\"outlinewidth\":0,\"ticks\":\"\"}},\"type\":\"scatterpolar\"}],\"scatterpolargl\":[{\"marker\":{\"colorbar\":{\"outlinewidth\":0,\"ticks\":\"\"}},\"type\":\"scatterpolargl\"}],\"scatterternary\":[{\"marker\":{\"colorbar\":{\"outlinewidth\":0,\"ticks\":\"\"}},\"type\":\"scatterternary\"}],\"surface\":[{\"colorbar\":{\"outlinewidth\":0,\"ticks\":\"\"},\"colorscale\":[[0.0,\"#0d0887\"],[0.1111111111111111,\"#46039f\"],[0.2222222222222222,\"#7201a8\"],[0.3333333333333333,\"#9c179e\"],[0.4444444444444444,\"#bd3786\"],[0.5555555555555556,\"#d8576b\"],[0.6666666666666666,\"#ed7953\"],[0.7777777777777778,\"#fb9f3a\"],[0.8888888888888888,\"#fdca26\"],[1.0,\"#f0f921\"]],\"type\":\"surface\"}],\"table\":[{\"cells\":{\"fill\":{\"color\":\"#EBF0F8\"},\"line\":{\"color\":\"white\"}},\"header\":{\"fill\":{\"color\":\"#C8D4E3\"},\"line\":{\"color\":\"white\"}},\"type\":\"table\"}]},\"layout\":{\"annotationdefaults\":{\"arrowcolor\":\"#2a3f5f\",\"arrowhead\":0,\"arrowwidth\":1},\"autotypenumbers\":\"strict\",\"coloraxis\":{\"colorbar\":{\"outlinewidth\":0,\"ticks\":\"\"}},\"colorscale\":{\"diverging\":[[0,\"#8e0152\"],[0.1,\"#c51b7d\"],[0.2,\"#de77ae\"],[0.3,\"#f1b6da\"],[0.4,\"#fde0ef\"],[0.5,\"#f7f7f7\"],[0.6,\"#e6f5d0\"],[0.7,\"#b8e186\"],[0.8,\"#7fbc41\"],[0.9,\"#4d9221\"],[1,\"#276419\"]],\"sequential\":[[0.0,\"#0d0887\"],[0.1111111111111111,\"#46039f\"],[0.2222222222222222,\"#7201a8\"],[0.3333333333333333,\"#9c179e\"],[0.4444444444444444,\"#bd3786\"],[0.5555555555555556,\"#d8576b\"],[0.6666666666666666,\"#ed7953\"],[0.7777777777777778,\"#fb9f3a\"],[0.8888888888888888,\"#fdca26\"],[1.0,\"#f0f921\"]],\"sequentialminus\":[[0.0,\"#0d0887\"],[0.1111111111111111,\"#46039f\"],[0.2222222222222222,\"#7201a8\"],[0.3333333333333333,\"#9c179e\"],[0.4444444444444444,\"#bd3786\"],[0.5555555555555556,\"#d8576b\"],[0.6666666666666666,\"#ed7953\"],[0.7777777777777778,\"#fb9f3a\"],[0.8888888888888888,\"#fdca26\"],[1.0,\"#f0f921\"]]},\"colorway\":[\"#636efa\",\"#EF553B\",\"#00cc96\",\"#ab63fa\",\"#FFA15A\",\"#19d3f3\",\"#FF6692\",\"#B6E880\",\"#FF97FF\",\"#FECB52\"],\"font\":{\"color\":\"#2a3f5f\"},\"geo\":{\"bgcolor\":\"white\",\"lakecolor\":\"white\",\"landcolor\":\"#E5ECF6\",\"showlakes\":true,\"showland\":true,\"subunitcolor\":\"white\"},\"hoverlabel\":{\"align\":\"left\"},\"hovermode\":\"closest\",\"mapbox\":{\"style\":\"light\"},\"paper_bgcolor\":\"white\",\"plot_bgcolor\":\"#E5ECF6\",\"polar\":{\"angularaxis\":{\"gridcolor\":\"white\",\"linecolor\":\"white\",\"ticks\":\"\"},\"bgcolor\":\"#E5ECF6\",\"radialaxis\":{\"gridcolor\":\"white\",\"linecolor\":\"white\",\"ticks\":\"\"}},\"scene\":{\"xaxis\":{\"backgroundcolor\":\"#E5ECF6\",\"gridcolor\":\"white\",\"gridwidth\":2,\"linecolor\":\"white\",\"showbackground\":true,\"ticks\":\"\",\"zerolinecolor\":\"white\"},\"yaxis\":{\"backgroundcolor\":\"#E5ECF6\",\"gridcolor\":\"white\",\"gridwidth\":2,\"linecolor\":\"white\",\"showbackground\":true,\"ticks\":\"\",\"zerolinecolor\":\"white\"},\"zaxis\":{\"backgroundcolor\":\"#E5ECF6\",\"gridcolor\":\"white\",\"gridwidth\":2,\"linecolor\":\"white\",\"showbackground\":true,\"ticks\":\"\",\"zerolinecolor\":\"white\"}},\"shapedefaults\":{\"line\":{\"color\":\"#2a3f5f\"}},\"ternary\":{\"aaxis\":{\"gridcolor\":\"white\",\"linecolor\":\"white\",\"ticks\":\"\"},\"baxis\":{\"gridcolor\":\"white\",\"linecolor\":\"white\",\"ticks\":\"\"},\"bgcolor\":\"#E5ECF6\",\"caxis\":{\"gridcolor\":\"white\",\"linecolor\":\"white\",\"ticks\":\"\"}},\"title\":{\"x\":0.05},\"xaxis\":{\"automargin\":true,\"gridcolor\":\"white\",\"linecolor\":\"white\",\"ticks\":\"\",\"title\":{\"standoff\":15},\"zerolinecolor\":\"white\",\"zerolinewidth\":2},\"yaxis\":{\"automargin\":true,\"gridcolor\":\"white\",\"linecolor\":\"white\",\"ticks\":\"\",\"title\":{\"standoff\":15},\"zerolinecolor\":\"white\",\"zerolinewidth\":2}}},\"xaxis\":{\"anchor\":\"y\",\"domain\":[0.0,1.0],\"title\":{\"text\":\"MRP\"}},\"yaxis\":{\"anchor\":\"x\",\"domain\":[0.0,1.0],\"title\":{\"text\":\"Discount %\"}},\"legend\":{\"tracegroupgap\":0},\"margin\":{\"t\":60}},                        {\"responsive\": true}                    ).then(function(){\n",
              "                            \n",
              "var gd = document.getElementById('be81c1be-f1b8-4749-92c8-228e33676938');\n",
              "var x = new MutationObserver(function (mutations, observer) {{\n",
              "        var display = window.getComputedStyle(gd).display;\n",
              "        if (!display || display === 'none') {{\n",
              "            console.log([gd, 'removed!']);\n",
              "            Plotly.purge(gd);\n",
              "            observer.disconnect();\n",
              "        }}\n",
              "}});\n",
              "\n",
              "// Listen for the removal of the full notebook cells\n",
              "var notebookContainer = gd.closest('#notebook-container');\n",
              "if (notebookContainer) {{\n",
              "    x.observe(notebookContainer, {childList: true});\n",
              "}}\n",
              "\n",
              "// Listen for the clearing of the current output cell\n",
              "var outputEl = gd.closest('.output');\n",
              "if (outputEl) {{\n",
              "    x.observe(outputEl, {childList: true});\n",
              "}}\n",
              "\n",
              "                        })                };                            </script>        </div>\n",
              "</body>\n",
              "</html>"
            ]
          },
          "metadata": {}
        }
      ]
    },
    {
      "cell_type": "code",
      "source": [
        "pl.pie(data1,names='Product Type',values='Savings')"
      ],
      "metadata": {
        "colab": {
          "base_uri": "https://localhost:8080/",
          "height": 542
        },
        "id": "eFKDmm0xW39o",
        "outputId": "d027318a-12f7-4c0e-d723-9651e9c02a66"
      },
      "execution_count": null,
      "outputs": [
        {
          "output_type": "display_data",
          "data": {
            "text/html": [
              "<html>\n",
              "<head><meta charset=\"utf-8\" /></head>\n",
              "<body>\n",
              "    <div>            <script src=\"https://cdnjs.cloudflare.com/ajax/libs/mathjax/2.7.5/MathJax.js?config=TeX-AMS-MML_SVG\"></script><script type=\"text/javascript\">if (window.MathJax) {MathJax.Hub.Config({SVG: {font: \"STIX-Web\"}});}</script>                <script type=\"text/javascript\">window.PlotlyConfig = {MathJaxConfig: 'local'};</script>\n",
              "        <script src=\"https://cdn.plot.ly/plotly-2.8.3.min.js\"></script>                <div id=\"17841116-ae8f-46b4-a8b4-ef6c9c9280cc\" class=\"plotly-graph-div\" style=\"height:525px; width:100%;\"></div>            <script type=\"text/javascript\">                                    window.PLOTLYENV=window.PLOTLYENV || {};                                    if (document.getElementById(\"17841116-ae8f-46b4-a8b4-ef6c9c9280cc\")) {                    Plotly.newPlot(                        \"17841116-ae8f-46b4-a8b4-ef6c9c9280cc\",                        [{\"domain\":{\"x\":[0.0,1.0],\"y\":[0.0,1.0]},\"hovertemplate\":\"Product Type=%{label}<br>Savings=%{value}<extra></extra>\",\"labels\":[\"shoes\",\"shoes\",\"shoes\",\"shoes\",\"shoes\",\"shoes\",\"shoes\",\"shoes\",\"shoes\",\"shoes\",\"shoes\",\"shoes\",\"shoes\",\"shoes\",\"shoes\",\"shoes\",\"shoes\",\"shoes\",\"shoes\",\"shoes\",\"shoes\",\"shoes\",\"shoes\",\"shoes\",\"shoes\",\"shoes\",\"shoes\",\"shoes\",\"shoes\",\"shoes\",\"shoes\",\"shoes\",\"shoes\",\"shoes\",\"shoes\",\"shoes\",\"shoes\",\"shoes\",\"shoes\",\"shoes\",\"shoes\",\"shoes\",\"shoes\",\"shoes\",\"shoes\",\"shoes\",\"shoes\",\"shoes\",\"shoes\",\"shoes\",\"shoes\",\"shoes\",\"shoes\",\"shoes\",\"shoes\",\"shoes\",\"shoes\",\"shoes\",\"shoes\",\"shoes\",\"shoes\",\"shoes\",\"shoes\",\"shoes\",\"shoes\",\"shoes\",\"shoes\",\"shoes\",\"shoes\",\"shoes\",\"shoes\",\"shoes\",\"shoes\",\"shoes\",\"shoes\",\"shoes\",\"shoes\",\"shoes\",\"shoes\",\"shoes\",\"shoes\",\"shoes\",\"shoes\",\"shoes\",\"shoes\",\"shoes\",\"shoes\",\"shoes\",\"shoes\",\"shoes\",\"shoes\",\"shoes\",\"shoes\",\"shoes\",\"shoes\",\"shoes\",\"shoes\",\"shoes\",\"shoes\",\"shoes\",\"shoes\",\"shoes\",\"shoes\",\"shoes\",\"shoes\",\"shoes\",\"shoes\",\"shoes\",\"shoes\",\"shoes\",\"shoes\",\"shoes\",\"shoes\",\"shoes\",\"shoes\",\"shoes\",\"shoes\",\"shoes\",\"shoes\",\"shoes\",\"shoes\",\"shoes\",\"shoes\",\"shoes\",\"shoes\",\"shoes\",\"shoes\",\"shoes\",\"shoes\",\"shoes\",\"shoes\",\"shoes\",\"shoes\",\"shoes\",\"shoes\",\"shoes\",\"shoes\",\"shoes\",\"shoes\",\"shoes\",\"shoes\",\"shoes\",\"shoes\",\"shoes\",\"shoes\",\"shoes\",\"shoes\",\"shoes\",\"shoes\",\"shoes\",\"shoes\",\"shoes\",\"shoes\",\"shoes\",\"shoes\",\"shoes\",\"shoes\",\"shoes\",\"shoes\",\"shoes\",\"shoes\",\"shoes\",\"shoes\",\"shoes\",\"shoes\",\"shoes\",\"shoes\",\"shoes\",\"shoes\",\"shoes\",\"shoes\",\"shoes\",\"shoes\",\"shoes\",\"shoes\",\"shoes\",\"shoes\",\"shoes\",\"shoes\",\"shoes\",\"shoes\",\"shoes\",\"shoes\",\"shoes\",\"shoes\",\"shoes\",\"shoes\",\"shoes\",\"shoes\",\"shoes\",\"shoes\",\"shoes\",\"shoes\",\"shoes\",\"shoes\",\"shoes\",\"shoes\",\"shoes\",\"shoes\",\"shoes\",\"shoes\",\"shoes\",\"shoes\",\"shoes\",\"shoes\",\"shoes\",\"shoes\",\"shoes\",\"shoes\",\"shoes\",\"tshirt\",\"tshirt\",\"tshirt\",\"tshirt\",\"tshirt\",\"tshirt\",\"tshirt\",\"tshirt\",\"tshirt\",\"tshirt\",\"tshirt\",\"tshirt\",\"tshirt\",\"tshirt\",\"tshirt\",\"tshirt\",\"tshirt\",\"tshirt\",\"tshirt\",\"tshirt\",\"tshirt\",\"tshirt\",\"tshirt\",\"tshirt\",\"tshirt\",\"tshirt\",\"tshirt\",\"tshirt\",\"tshirt\",\"tshirt\",\"tshirt\",\"tshirt\",\"tshirt\",\"tshirt\",\"tshirt\",\"tshirt\",\"tshirt\",\"tshirt\",\"tshirt\",\"tshirt\",\"tshirt\",\"tshirt\",\"tshirt\",\"tshirt\",\"tshirt\",\"tshirt\",\"tshirt\",\"tshirt\",\"tshirt\",\"tshirt\",\"tshirt\",\"tshirt\",\"tshirt\",\"tshirt\",\"tshirt\",\"tshirt\",\"tshirt\",\"tshirt\",\"tshirt\",\"tshirt\",\"tshirt\",\"tshirt\",\"tshirt\",\"tshirt\",\"tshirt\",\"tshirt\",\"tshirt\",\"tshirt\",\"tshirt\",\"tshirt\",\"tshirt\",\"tshirt\",\"tshirt\",\"tshirt\",\"tshirt\",\"tshirt\",\"tshirt\",\"tshirt\",\"tshirt\",\"tshirt\",\"tshirt\",\"tshirt\",\"tshirt\",\"tshirt\",\"tshirt\",\"tshirt\",\"tshirt\",\"tshirt\",\"tshirt\",\"tshirt\",\"tshirt\",\"tshirt\",\"tshirt\",\"tshirt\",\"tshirt\",\"tshirt\",\"tshirt\",\"tshirt\",\"tshirt\",\"tshirt\",\"tshirt\",\"tshirt\",\"tshirt\",\"tshirt\",\"tshirt\",\"tshirt\",\"tshirt\",\"tshirt\",\"tshirt\",\"tshirt\",\"tshirt\",\"tshirt\",\"tshirt\",\"tshirt\",\"tshirt\",\"tshirt\",\"tshirt\",\"tshirt\",\"tshirt\",\"tshirt\",\"tshirt\",\"tshirt\",\"tshirt\",\"tshirt\",\"tshirt\",\"tshirt\",\"tshirt\",\"tshirt\",\"tshirt\",\"tshirt\",\"tshirt\",\"tshirt\",\"tshirt\",\"tshirt\",\"tshirt\",\"tshirt\",\"tshirt\",\"tshirt\",\"tshirt\",\"tshirt\",\"tshirt\",\"tshirt\",\"tshirt\",\"tshirt\",\"tshirt\",\"tshirt\",\"tshirt\",\"tshirt\",\"tshirt\",\"tshirt\",\"tshirt\",\"tshirt\",\"tshirt\",\"tshirt\",\"tshirt\",\"tshirt\",\"tshirt\",\"tshirt\",\"tshirt\",\"tshirt\",\"tshirt\",\"tshirt\",\"tshirt\",\"tshirt\",\"tshirt\",\"tshirt\",\"tshirt\",\"tshirt\",\"tshirt\",\"tshirt\",\"tshirt\",\"tshirt\",\"tshirt\",\"tshirt\",\"tshirt\",\"tshirt\",\"tshirt\",\"tshirt\",\"tshirt\",\"tshirt\",\"tshirt\",\"tshirt\",\"tshirt\",\"tshirt\",\"tshirt\",\"tshirt\",\"tshirt\",\"tshirt\",\"tshirt\",\"tshirt\",\"tshirt\",\"tshirt\",\"tshirt\",\"tshirt\",\"tshirt\",\"tshirt\",\"tshirt\",\"tshirt\",\"tshirt\",\"tshirt\",\"tshirt\",\"tshirt\",\"tshirt\",\"tshirt\",\"tshirt\",\"tshirt\",\"tshirt\",\"tshirt\",\"tshirt\",\"tshirt\",\"tshirt\",\"tshirt\",\"tshirt\",\"tshirt\",\"tshirt\",\"tshirt\",\"tshirt\",\"tshirt\",\"tshirt\",\"tshirt\",\"tshirt\",\"tshirt\",\"tshirt\",\"tshirt\",\"tshirt\",\"tshirt\",\"tshirt\",\"tshirt\",\"tshirt\",\"tshirt\",\"tshirt\",\"tshirt\",\"tshirt\",\"tshirt\",\"tshirt\",\"tshirt\",\"tshirt\",\"tshirt\",\"tshirt\",\"tshirt\",\"tshirt\",\"tshirt\",\"tshirt\",\"tshirt\",\"tshirt\",\"tshirt\",\"tshirt\",\"tshirt\",\"tshirt\",\"tshirt\",\"tshirt\",\"tshirt\",\"tshirt\",\"tshirt\",\"tshirt\",\"tshirt\",\"tshirt\",\"tshirt\",\"tshirt\",\"tshirt\",\"tshirt\",\"tshirt\",\"tshirt\",\"tshirt\",\"tshirt\",\"tshirt\",\"tshirt\",\"tshirt\",\"tshirt\",\"tshirt\",\"tshirt\",\"tshirt\",\"tshirt\",\"tshirt\",\"tshirt\",\"tshirt\",\"tshirt\",\"tshirt\",\"tshirt\",\"tshirt\",\"glasses\",\"glasses\",\"glasses\",\"glasses\",\"glasses\",\"glasses\",\"glasses\",\"glasses\",\"glasses\",\"glasses\",\"glasses\",\"glasses\",\"glasses\",\"glasses\",\"glasses\",\"glasses\",\"glasses\",\"glasses\",\"glasses\",\"glasses\",\"glasses\",\"glasses\",\"glasses\",\"glasses\",\"glasses\",\"glasses\",\"glasses\",\"glasses\",\"glasses\",\"glasses\",\"glasses\",\"glasses\",\"glasses\",\"glasses\",\"glasses\",\"glasses\",\"glasses\",\"glasses\",\"glasses\",\"glasses\",\"glasses\",\"glasses\",\"glasses\",\"glasses\",\"glasses\",\"glasses\",\"glasses\",\"glasses\",\"glasses\",\"glasses\",\"glasses\",\"glasses\",\"glasses\",\"glasses\",\"glasses\",\"glasses\",\"glasses\",\"glasses\",\"glasses\",\"glasses\",\"glasses\",\"glasses\",\"glasses\",\"glasses\",\"glasses\",\"glasses\",\"glasses\",\"glasses\",\"glasses\",\"glasses\",\"glasses\",\"glasses\",\"glasses\",\"glasses\",\"glasses\",\"glasses\",\"glasses\",\"glasses\",\"glasses\",\"glasses\",\"sleeper\",\"sleeper\",\"sleeper\",\"sleeper\",\"sleeper\",\"sleeper\",\"sleeper\",\"sleeper\",\"sleeper\",\"sleeper\",\"sleeper\",\"sleeper\",\"sleeper\",\"sleeper\",\"sleeper\",\"sleeper\",\"sleeper\",\"sleeper\",\"sleeper\",\"sleeper\",\"sleeper\",\"sleeper\",\"sleeper\",\"sleeper\",\"sleeper\",\"sleeper\",\"sleeper\",\"sleeper\",\"sleeper\",\"sleeper\",\"sleeper\",\"sleeper\",\"sleeper\",\"sleeper\",\"sleeper\",\"sleeper\",\"sleeper\",\"sleeper\",\"sleeper\",\"sleeper\",\"sleeper\",\"sleeper\",\"sleeper\",\"sleeper\",\"sleeper\",\"sleeper\",\"sleeper\",\"sleeper\",\"sleeper\",\"sleeper\",\"sleeper\",\"sleeper\",\"sleeper\",\"sleeper\",\"sleeper\",\"sleeper\",\"sleeper\",\"sleeper\",\"sleeper\",\"sleeper\",\"sleeper\",\"sleeper\",\"sleeper\",\"sleeper\",\"glasses\",\"glasses\",\"glasses\",\"glasses\",\"glasses\",\"shirt\",\"shirt\",\"shirt\",\"shirt\",\"shirt\",\"shirt\",\"shirt\",\"shirt\",\"shirt\",\"shirt\",\"shirt\",\"shirt\",\"shirt\",\"shirt\",\"shirt\",\"shirt\",\"shirt\",\"shirt\",\"shirt\",\"shirt\",\"shirt\",\"shirt\",\"shirt\",\"shirt\",\"shirt\",\"shirt\",\"shirt\",\"shirt\",\"shirt\",\"shirt\",\"shirt\",\"shirt\",\"shirt\",\"shirt\",\"shirt\",\"shirt\",\"shirt\",\"shirt\",\"shirt\",\"shirt\",\"shirt\",\"shirt\",\"shirt\",\"shirt\",\"shirt\",\"shirt\",\"shirt\",\"shirt\",\"shirt\",\"shirt\",\"shirt\",\"shirt\",\"shirt\",\"shirt\",\"shirt\",\"shirt\",\"shirt\",\"shirt\",\"shirt\",\"shirt\",\"shirt\",\"shirt\",\"shirt\",\"shirt\",\"shirt\",\"shirt\",\"shirt\",\"shirt\",\"shirt\",\"shirt\",\"shirt\",\"shirt\",\"shirt\",\"shirt\",\"shirt\",\"shirt\",\"shirt\",\"shirt\",\"shirt\",\"shirt\",\"shirt\",\"shirt\",\"shirt\",\"shirt\",\"shirt\",\"shirt\",\"shirt\",\"shirt\",\"shirt\",\"shirt\",\"shirt\",\"shirt\",\"shirt\",\"shirt\",\"shirt\",\"shirt\",\"shirt\",\"shirt\",\"shirt\",\"shirt\",\"shirt\",\"shirt\",\"shirt\",\"shirt\",\"shirt\",\"shirt\",\"shirt\",\"shirt\",\"shirt\",\"shirt\",\"shirt\",\"shirt\",\"shirt\",\"shirt\",\"shirt\",\"shirt\",\"shirt\",\"shirt\",\"shirt\",\"shirt\",\"shirt\",\"shirt\",\"shirt\",\"shirt\",\"shirt\",\"shirt\",\"shirt\",\"shirt\",\"shirt\",\"shirt\",\"shirt\",\"shirt\",\"shirt\",\"shirt\",\"shirt\",\"shirt\",\"shirt\",\"shirt\",\"shirt\",\"shirt\",\"shirt\",\"shirt\",\"shirt\",\"shirt\",\"shirt\",\"shirt\",\"shirt\",\"shirt\",\"shirt\",\"shirt\",\"shirt\",\"shirt\",\"shirt\",\"shirt\",\"shirt\",\"shirt\",\"shirt\",\"shirt\",\"shirt\",\"shirt\",\"shirt\",\"shirt\",\"shirt\",\"shirt\",\"shirt\",\"shirt\",\"shirt\",\"shirt\",\"shirt\",\"shirt\",\"shirt\",\"shirt\",\"shirt\",\"shirt\",\"shirt\",\"shirt\",\"shirt\",\"shirt\",\"shirt\",\"shirt\",\"glasses\",\"glasses\",\"glasses\",\"glasses\",\"glasses\",\"glasses\",\"glasses\",\"glasses\",\"glasses\",\"glasses\",\"glasses\",\"glasses\",\"glasses\",\"glasses\",\"glasses\",\"glasses\",\"glasses\",\"glasses\",\"glasses\",\"glasses\",\"glasses\",\"glasses\",\"glasses\",\"glasses\",\"glasses\",\"glasses\",\"glasses\",\"glasses\",\"glasses\",\"glasses\",\"glasses\",\"glasses\",\"glasses\",\"glasses\",\"glasses\",\"glasses\",\"glasses\",\"glasses\",\"glasses\",\"glasses\",\"glasses\",\"glasses\",\"glasses\",\"glasses\",\"glasses\",\"glasses\",\"glasses\",\"glasses\",\"glasses\",\"glasses\",\"glasses\",\"glasses\",\"glasses\",\"glasses\",\"glasses\",\"glasses\",\"glasses\",\"glasses\",\"glasses\",\"glasses\",\"glasses\",\"glasses\",\"glasses\",\"glasses\",\"glasses\",\"shoes\",\"shoes\",\"shoes\",\"shoes\",\"shoes\",\"shoes\",\"shoes\",\"shoes\",\"shoes\",\"shoes\",\"shoes\",\"shoes\",\"shoes\",\"shoes\",\"shoes\",\"shoes\",\"shoes\",\"shoes\",\"shoes\",\"shoes\",\"shoes\",\"shoes\",\"shoes\",\"shoes\",\"shoes\",\"shoes\",\"shoes\",\"shoes\",\"shoes\",\"shoes\",\"shoes\",\"shoes\",\"shoes\",\"shoes\",\"shoes\",\"shoes\",\"shoes\",\"shoes\",\"shoes\",\"shoes\",\"shoes\",\"shoes\",\"shoes\",\"shoes\",\"shoes\",\"shoes\",\"shoes\",\"shoes\",\"shoes\",\"shoes\",\"shoes\",\"shoes\",\"shoes\",\"shoes\",\"shoes\",\"shoes\",\"shoes\",\"shoes\",\"shoes\",\"shoes\",\"shoes\",\"shoes\",\"shoes\",\"shoes\",\"shoes\",\"shoes\",\"shoes\",\"shoes\",\"shoes\",\"shoes\",\"shoes\",\"shoes\",\"shoes\",\"shoes\",\"shoes\",\"shoes\",\"shoes\",\"shoes\",\"shoes\",\"shoes\",\"shoes\",\"shoes\",\"shoes\",\"shoes\",\"shoes\",\"shoes\",\"shoes\",\"shoes\",\"shoes\",\"shoes\",\"shoes\",\"shoes\",\"shoes\",\"shoes\",\"shoes\",\"shoes\",\"shoes\",\"shoes\",\"shoes\",\"shoes\",\"shoes\",\"shoes\",\"shoes\",\"shoes\",\"shoes\",\"shoes\",\"shoes\",\"shoes\",\"shoes\",\"shoes\",\"shoes\",\"shoes\",\"shoes\",\"shoes\",\"shoes\",\"shoes\",\"shoes\",\"shoes\",\"shoes\",\"shoes\",\"shoes\",\"shoes\",\"shoes\",\"shoes\",\"shoes\",\"lower\",\"lower\",\"lower\",\"lower\",\"lower\",\"lower\",\"lower\",\"lower\",\"lower\",\"lower\",\"lower\",\"lower\",\"lower\",\"lower\",\"lower\",\"lower\",\"lower\",\"lower\",\"lower\",\"lower\",\"lower\",\"lower\",\"lower\",\"lower\",\"lower\",\"lower\",\"lower\",\"lower\",\"lower\",\"lower\",\"lower\",\"lower\",\"lower\",\"lower\",\"lower\",\"lower\",\"lower\",\"lower\",\"lower\",\"lower\",\"lower\",\"lower\",\"lower\",\"lower\",\"lower\",\"lower\",\"lower\",\"lower\",\"lower\",\"lower\",\"lower\",\"lower\",\"lower\",\"lower\",\"lower\",\"lower\",\"lower\",\"lower\",\"lower\",\"lower\",\"lower\",\"lower\",\"lower\",\"lower\",\"lower\",\"lower\",\"lower\",\"lower\",\"lower\",\"lower\",\"lower\",\"lower\",\"lower\",\"lower\",\"lower\",\"lower\",\"lower\",\"lower\",\"lower\",\"lower\",\"lower\",\"lower\",\"lower\",\"lower\",\"lower\",\"lower\",\"lower\",\"lower\",\"lower\",\"lower\",\"lower\",\"lower\",\"lower\",\"lower\",\"lower\",\"lower\",\"lower\",\"lower\",\"lower\",\"lower\",\"lower\",\"lower\",\"lower\",\"lower\",\"lower\",\"lower\",\"lower\",\"lower\",\"lower\",\"lower\",\"lower\",\"lower\",\"lower\",\"lower\",\"lower\",\"lower\",\"lower\",\"lower\",\"lower\",\"lower\",\"lower\",\"lower\",\"lower\",\"lower\",\"lower\",\"lower\",\"lower\",\"lower\",\"lower\",\"lower\",\"lower\",\"lower\",\"lower\",\"lower\",\"lower\",\"lower\",\"lower\",\"lower\",\"lower\",\"lower\",\"lower\",\"lower\",\"lower\",\"lower\",\"lower\",\"lower\",\"lower\",\"lower\",\"lower\",\"lower\",\"lower\",\"lower\",\"lower\",\"lower\",\"lower\",\"lower\",\"lower\",\"lower\",\"lower\",\"lower\",\"lower\",\"lower\",\"lower\",\"lower\",\"lower\",\"lower\",\"lower\",\"lower\",\"lower\",\"lower\",\"lower\",\"lower\",\"lower\",\"lower\",\"lower\",\"lower\",\"lower\",\"lower\",\"lower\",\"lower\",\"lower\",\"lower\",\"lower\",\"lower\",\"lower\",\"lower\",\"lower\",\"lower\",\"lower\",\"lower\",\"lower\",\"lower\",\"lower\",\"lower\",\"lower\",\"lower\",\"lower\",\"lower\",\"lower\",\"lower\",\"lower\",\"lower\",\"lower\",\"lower\",\"lower\",\"lower\",\"lower\",\"lower\",\"lower\",\"lower\",\"lower\",\"lower\",\"lower\",\"lower\",\"lower\",\"lower\",\"lower\",\"lower\",\"lower\",\"lower\",\"lower\",\"lower\",\"lower\",\"lower\",\"lower\",\"lower\",\"lower\",\"lower\",\"lower\",\"lower\",\"watch\",\"watch\",\"watch\",\"watch\",\"watch\",\"watch\",\"watch\",\"watch\",\"watch\",\"watch\",\"watch\",\"watch\",\"watch\",\"watch\",\"watch\",\"watch\",\"watch\",\"watch\",\"watch\",\"watch\",\"watch\",\"watch\",\"watch\",\"watch\",\"watch\",\"watch\",\"watch\",\"watch\",\"watch\",\"watch\",\"watch\",\"watch\",\"watch\",\"watch\",\"watch\",\"watch\",\"watch\",\"watch\",\"watch\",\"watch\",\"watch\",\"watch\",\"watch\",\"watch\",\"watch\",\"watch\",\"watch\",\"watch\",\"watch\",\"watch\",\"watch\",\"watch\",\"watch\",\"watch\",\"watch\",\"watch\",\"watch\",\"watch\",\"watch\",\"watch\",\"watch\",\"watch\",\"watch\",\"watch\",\"watch\",\"watch\",\"watch\",\"watch\",\"watch\",\"watch\",\"watch\",\"watch\",\"watch\",\"watch\",\"watch\",\"watch\",\"watch\",\"watch\",\"watch\",\"watch\",\"watch\",\"watch\",\"watch\",\"watch\",\"watch\",\"watch\",\"watch\",\"watch\",\"watch\",\"watch\",\"watch\",\"watch\",\"watch\",\"watch\",\"watch\",\"watch\",\"watch\",\"watch\",\"watch\",\"watch\",\"watch\",\"watch\",\"watch\",\"watch\",\"watch\",\"watch\",\"watch\",\"watch\",\"watch\",\"watch\",\"watch\",\"watch\",\"watch\",\"watch\",\"watch\",\"watch\",\"watch\",\"watch\",\"watch\",\"watch\",\"watch\",\"watch\",\"watch\",\"watch\",\"watch\",\"watch\",\"watch\",\"watch\",\"watch\",\"watch\",\"watch\",\"watch\",\"watch\",\"watch\",\"watch\",\"watch\",\"watch\",\"watch\",\"watch\",\"watch\",\"watch\",\"watch\",\"watch\",\"watch\",\"watch\",\"watch\",\"watch\",\"watch\",\"watch\",\"watch\",\"watch\",\"watch\",\"watch\",\"watch\",\"watch\",\"watch\",\"watch\",\"watch\",\"watch\",\"watch\",\"watch\",\"watch\",\"watch\",\"watch\",\"watch\",\"watch\",\"watch\",\"watch\",\"watch\",\"watch\",\"watch\",\"watch\",\"watch\",\"watch\",\"watch\",\"watch\",\"watch\",\"watch\",\"watch\",\"watch\",\"watch\",\"watch\",\"watch\",\"watch\",\"watch\",\"sandal\",\"sandal\",\"sandal\",\"sandal\",\"sandal\",\"sandal\",\"sandal\",\"sandal\",\"sandal\",\"sandal\",\"sandal\",\"sandal\",\"sandal\",\"sandal\",\"sandal\",\"sandal\",\"sandal\",\"sandal\",\"sandal\",\"sandal\",\"sandal\",\"sandal\",\"sandal\",\"sandal\",\"sandal\",\"sandal\",\"sandal\",\"sandal\",\"sandal\",\"sandal\",\"sandal\",\"sandal\",\"sandal\",\"sandal\",\"sandal\",\"sandal\",\"sandal\",\"sandal\",\"sandal\",\"sandal\",\"sandal\",\"sandal\",\"sandal\",\"sandal\",\"sandal\",\"sandal\",\"sandal\",\"sandal\",\"sandal\",\"sandal\",\"sandal\",\"sandal\",\"sandal\",\"sandal\",\"sandal\",\"sandal\",\"sandal\",\"sandal\",\"sandal\",\"sandal\",\"sandal\",\"sandal\",\"sandal\",\"sandal\",\"sandal\",\"sandal\",\"sandal\",\"sandal\",\"sandal\",\"sandal\",\"sandal\",\"sandal\",\"sandal\",\"sandal\",\"sandal\",\"sandal\",\"sandal\",\"sandal\",\"sandal\",\"sandal\",\"sandal\",\"sandal\",\"sandal\",\"sandal\",\"sandal\",\"sandal\",\"sandal\",\"sandal\",\"sandal\",\"sandal\",\"sandal\",\"sandal\",\"sandal\",\"sandal\",\"sandal\",\"sandal\",\"sandal\",\"sandal\",\"sandal\",\"sandal\",\"sandal\",\"sandal\",\"sandal\",\"sandal\",\"sandal\",\"sandal\",\"sandal\",\"sandal\",\"sandal\",\"sandal\",\"sandal\",\"sandal\",\"sandal\",\"sandal\",\"sandal\",\"sandal\",\"sandal\",\"sandal\",\"sandal\",\"sandal\",\"sandal\",\"sandal\",\"sandal\",\"sandal\",\"sandal\",\"sandal\",\"sandal\",\"sandal\",\"sandal\",\"sandal\",\"sandal\",\"sandal\",\"sandal\",\"sandal\",\"sandal\",\"sandal\",\"sandal\",\"sandal\",\"sandal\",\"sandal\",\"sandal\",\"sandal\",\"sandal\",\"sandal\",\"sandal\",\"sandal\",\"sandal\",\"sandal\",\"sandal\",\"sandal\",\"sandal\",\"sandal\",\"sandal\",\"sandal\",\"sandal\",\"sandal\",\"sandal\",\"sandal\",\"sandal\",\"sandal\",\"sandal\",\"sandal\",\"sandal\",\"sandal\",\"sandal\",\"sandal\",\"sandal\",\"sandal\",\"sandal\",\"sandal\",\"sandal\",\"sandal\",\"sandal\",\"sandal\",\"sandal\",\"sandal\",\"sandal\",\"sandal\",\"sandal\",\"sandal\",\"sandal\",\"sandal\",\"sandal\",\"sandal\",\"sandal\",\"sandal\",\"sandal\",\"sandal\",\"sandal\",\"sandal\",\"sandal\",\"sandal\",\"sandal\",\"sandal\",\"sandal\",\"sandal\",\"sandal\",\"sandal\",\"sandal\",\"sandal\",\"sandal\",\"sandal\",\"sandal\",\"sandal\",\"sandal\",\"sandal\",\"sandal\",\"sandal\",\"sandal\",\"sandal\",\"sandal\",\"sandal\",\"sandal\",\"sandal\",\"sandal\"],\"legendgroup\":\"\",\"name\":\"\",\"showlegend\":true,\"values\":[1477,618,1079,999,1424,1519,1445,353,638,1805,1393,372,1046,513,41,419,353,548,899,372,1645,353,1477,2844,638,1645,966,3220,2499,353,1649,3059,3599,353,2789,1501,353,638,1710,329,1799,3426,319,44,3059,2037,1799,353,2555,2466,2468,0,1119,1199,2468,4183,1889,1223,1119,1514,3157,2180,2121,1332,599,84,353,119,1362,1512,1582,437,1108,353,155,3055,402,4480,1833,89,224,353,330,1599,717,1875,2848,2838,240,353,225,2089,119,2249,1833,564,2848,1833,1217,1336,1840,2848,2000,1954,353,2338,1894,389,151,1847,1894,1599,158,1064,1086,1730,49,3828,353,3957,695,49,537,622,299,1984,288,688,1417,1457,84,549,2118,1645,0,369,628,2575,139,209,513,0,158,2029,169,548,197,2575,1915,499,499,399,650,230,2575,468,0,549,59,1099,0,0,549,59,2575,1556,898,0,2354,2552,1556,99,2155,0,2338,1556,2575,2354,299,646,1258,1556,2155,2575,702,999,652,947,1432,1998,2419,499,1900,299,1432,134,823,288,2575,566,1240,0,288,143,845,0,47,499,69,0,1118,393,740,259,8,0,581,405,498,733,309,663,208,521,1457,598,0,14,638,459,268,543,12,32,312,801,348,754,1520,10,644,759,248,619,439,1367,403,466,599,619,0,14,638,432,727,174,753,438,669,1097,712,658,0,244,748,733,548,14,399,598,438,697,2009,359,487,345,36,578,487,393,0,581,349,1144,694,1046,268,17,0,548,396,1149,1057,349,1046,637,1447,232,1046,359,0,538,0,778,563,484,0,549,404,778,658,682,799,249,930,538,0,430,494,484,540,518,898,0,749,362,685,928,442,494,538,1001,958,647,621,598,649,549,930,845,799,484,930,674,778,799,1078,502,823,778,1766,1198,1498,454,778,1198,697,758,659,540,442,369,934,1078,564,700,0,1409,934,568,516,728,538,919,747,560,428,362,808,930,502,361,845,1315,1114,1315,361,657,393,295,845,361,1114,393,930,396,160,444,331,462,444,347,462,319,0,444,347,518,140,462,193,462,319,239,347,295,299,487,462,319,462,319,239,435,648,462,319,747,1004,435,780,502,462,319,239,780,462,319,34,239,244,462,319,239,444,462,319,239,466,780,202,462,319,239,435,462,319,239,199,780,462,1031,319,239,396,444,202,462,319,239,557,462,319,239,295,462,319,239,435,487,462,319,239,435,599,462,319,239,202,435,907,149,1619,2160,1254,2366,2073,2160,786,675,598,2160,675,253,873,2160,674,837,1693,888,2160,678,675,1196,648,2160,675,562,1215,1136,1294,386,996,1196,1202,295,2160,675,776,562,829,2160,1694,675,833,2160,899,675,595,307,2160,899,675,307,776,2160,675,1263,562,878,2366,1196,843,1074,2160,103,142,2160,675,905,674,1196,873,486,2160,103,142,2160,675,835,697,297,16,357,16,697,297,663,16,756,697,697,297,352,697,297,640,663,697,297,663,717,717,298,149,29,258,0,231,0,399,0,1367,189,268,358,550,648,219,231,247,268,392,99,199,297,404,173,717,258,378,404,297,392,199,692,0,99,2445,0,2445,149,199,149,462,422,306,328,328,0,0,249,549,224,538,484,0,658,480,469,999,521,494,484,540,518,898,0,1238,362,685,484,928,699,958,538,1001,449,949,598,704,930,845,547,621,799,484,1174,930,1766,898,799,461,1078,1498,454,823,598,872,1198,1498,454,659,823,369,659,568,489,585,700,369,593,457,934,516,0,1174,685,1238,516,560,428,728,362,1198,930,659,798,428,0,1249,1498,930,581,1498,581,279,1088,574,393,740,259,8,1118,0,663,498,459,733,309,492,438,1457,830,598,0,14,638,521,428,268,232,543,12,174,0,518,1528,244,801,551,548,754,578,578,614,83,759,732,644,512,403,466,0,857,504,638,444,432,578,753,669,1097,89,733,438,399,2009,1139,345,487,697,1027,487,36,393,478,1046,1190,345,487,1027,478,700,438,640,619,319,720,349,268,719,694,736,1046,288,438,79,17,907,2366,620,2160,786,103,598,2073,2160,844,337,1619,2160,678,837,529,648,562,649,873,2160,2366,605,279,2366,295,337,776,538,2160,2366,2160,595,2094,1246,2160,620,595,2366,1246,1294,843,1074,149,739,1294,2160,833,815,776,2160,766,307,776,574,253,1196,2160,767,347,2160,702,628,588,1021,2058,399,2598,548,1321,1814,2097,508,611,1735,2063,133,99,554,1383,59,2812,44,2598,517,548,1047,1910,498,2994,1906,499,103,2007,409,2020,2399,349,1397,2504,0,2507,499,49,885,640,499,1788,13,339,2882,0,2161,134,1899,2882,166,2373,1424,44,399,3446,1114,2850,177,1749,511,2161,2269,499,0,1554,2994,2068,1475,532,2085,13,166,3195,1034,365,2263,2938,1396,449,3564,3158,2889,3362,134,3293,0,0,2883,3182,134,399,2738,151,0,1329,2428,2771,548,568,465,89,4459,2994,3999,2149,3287,47,288,548,299,2260,4718,0,3879,1085,339,548,857,499,598,548,4597,2309,795,902,357,1007,591,559,357,207,357,537,1929,1007,1581,788,902,0,598,1210,0,480,0,456,965,673,537,365,1504,1499,548,537,197,1708,1212,321,1499,499,658,365,537,1045,256,270,499,365,823,270,1515,0,965,537,317,895,207,902,537,199,0,1504,788,0,115,98,1494,537,1218,188,844,895,1831,149,623,548,0,965,1708,329,2445,503,318,895,503,503,503,503,1049,329,503,503,207,295,304,537,816,321,503,976,732,293,293,961,504,988,599,720,538,558,675,1053,618,390,558,693,675,1053,1196,2157,648,689,272,1289,1133,1128,53,839,718,390,519,293,1149,293,976,1296,599,498,988,302,599,498,988,1237,624,599,1057,371,512,624,599,548,371,1136,1136,357,512,689,988,839,675,357,334,498,153,495,53,732,103,901,1299,459,1237,538,847,633,847,449,199,495,839,1065,123,293,498,425,839,495,498,825,0,571,564,868,1342,503,574,352,15,325,2229,759,839,3904,369,1342,500,0,1298,4293,837,1896,784,1072,839,17,1896,549,16,839,17,1896,16,784,22,493,15,1896,839,1949,16,839,15,15,1790,1196,1533,1241,1533,1533,786,0,720,688,0,1033,0,439,796,1989,439,123,0,980,649,1189,1599,1196,3394,1044,1616,1759,729,1533,1533,1501,1108,359,2638,1054,1270,1507,1067,1138,707,528,359,1196,1533,2317,1899,1189,707,659,352,3800,470,1044,964,1153,1911,1196,134,1516,0,697,1798,494,599,779,3955,1441,990,0,5487,697,232,2998,1533,5487,2332,1114,2455,329,697,695,1608,628,1533,399,1648,1432,553,990,697,695,1608,628,1533,142,666,1648,1136,198,666,1136,349,0,946,666,1136,743,720,1098,677,297,74,1529,1073,298,996,1124,638,145,249,16,44,978,897,666,1136,486,365,573,960,749,247,997,0,1359,666,1136,553,53,960,464,666,1136,1529,666,1136,1798,1529,1899,651,0,1542,658,677,932,682,743,747,105,666,1136,2698,2704,1036,849,658,1093,2848,667,2704,0,1425,667,454,1790,1596,747,682,747,0,343,257,2558,796,1019,179,103,1388,52,648,1524,905,266,1528,1058,142,568,65,1429,928,32,1388,1445,311,1704,486,1388,142,311,548,1388,928,0,928,258,422,1388,259,116,249,1229,718,54,1388,24,1357,1388,65,899,0,24,161,1388,53,0,1098,1467,65,1388,1445,1388,1415,44,459,1506,76,98,1388,259,1393,1335,1459,1348,1388,599,732,1388,1016,19,679,1388,611,1586,459,459,307,1388,336,188,249,377,1708,127,1141,0,697,1388,259,186,648,79,1854,102,399,39,924,1308,0,34,37,249,650,0,125,748,0,644,650,102,499,37,102,143,125,359,644,650,0,40,487,0,0,328,0,0,298,199,0,0,249,258,0,149,0,487,7,0,47,0,0,0,18,0,298,506,0,599,47,298,0,285,44,0,47,444,0,0,494,99,0,98,0,47,0,3339,235,0,0,444,3339,0,0,0,349,0,0,0,0,299,977,0,0,319,0,99,99,0,34,0,399,0,239,0,0,279,0,239,0,0,0,0,399,0,0,279,0,0,0,0],\"type\":\"pie\"}],                        {\"template\":{\"data\":{\"bar\":[{\"error_x\":{\"color\":\"#2a3f5f\"},\"error_y\":{\"color\":\"#2a3f5f\"},\"marker\":{\"line\":{\"color\":\"#E5ECF6\",\"width\":0.5},\"pattern\":{\"fillmode\":\"overlay\",\"size\":10,\"solidity\":0.2}},\"type\":\"bar\"}],\"barpolar\":[{\"marker\":{\"line\":{\"color\":\"#E5ECF6\",\"width\":0.5},\"pattern\":{\"fillmode\":\"overlay\",\"size\":10,\"solidity\":0.2}},\"type\":\"barpolar\"}],\"carpet\":[{\"aaxis\":{\"endlinecolor\":\"#2a3f5f\",\"gridcolor\":\"white\",\"linecolor\":\"white\",\"minorgridcolor\":\"white\",\"startlinecolor\":\"#2a3f5f\"},\"baxis\":{\"endlinecolor\":\"#2a3f5f\",\"gridcolor\":\"white\",\"linecolor\":\"white\",\"minorgridcolor\":\"white\",\"startlinecolor\":\"#2a3f5f\"},\"type\":\"carpet\"}],\"choropleth\":[{\"colorbar\":{\"outlinewidth\":0,\"ticks\":\"\"},\"type\":\"choropleth\"}],\"contour\":[{\"colorbar\":{\"outlinewidth\":0,\"ticks\":\"\"},\"colorscale\":[[0.0,\"#0d0887\"],[0.1111111111111111,\"#46039f\"],[0.2222222222222222,\"#7201a8\"],[0.3333333333333333,\"#9c179e\"],[0.4444444444444444,\"#bd3786\"],[0.5555555555555556,\"#d8576b\"],[0.6666666666666666,\"#ed7953\"],[0.7777777777777778,\"#fb9f3a\"],[0.8888888888888888,\"#fdca26\"],[1.0,\"#f0f921\"]],\"type\":\"contour\"}],\"contourcarpet\":[{\"colorbar\":{\"outlinewidth\":0,\"ticks\":\"\"},\"type\":\"contourcarpet\"}],\"heatmap\":[{\"colorbar\":{\"outlinewidth\":0,\"ticks\":\"\"},\"colorscale\":[[0.0,\"#0d0887\"],[0.1111111111111111,\"#46039f\"],[0.2222222222222222,\"#7201a8\"],[0.3333333333333333,\"#9c179e\"],[0.4444444444444444,\"#bd3786\"],[0.5555555555555556,\"#d8576b\"],[0.6666666666666666,\"#ed7953\"],[0.7777777777777778,\"#fb9f3a\"],[0.8888888888888888,\"#fdca26\"],[1.0,\"#f0f921\"]],\"type\":\"heatmap\"}],\"heatmapgl\":[{\"colorbar\":{\"outlinewidth\":0,\"ticks\":\"\"},\"colorscale\":[[0.0,\"#0d0887\"],[0.1111111111111111,\"#46039f\"],[0.2222222222222222,\"#7201a8\"],[0.3333333333333333,\"#9c179e\"],[0.4444444444444444,\"#bd3786\"],[0.5555555555555556,\"#d8576b\"],[0.6666666666666666,\"#ed7953\"],[0.7777777777777778,\"#fb9f3a\"],[0.8888888888888888,\"#fdca26\"],[1.0,\"#f0f921\"]],\"type\":\"heatmapgl\"}],\"histogram\":[{\"marker\":{\"pattern\":{\"fillmode\":\"overlay\",\"size\":10,\"solidity\":0.2}},\"type\":\"histogram\"}],\"histogram2d\":[{\"colorbar\":{\"outlinewidth\":0,\"ticks\":\"\"},\"colorscale\":[[0.0,\"#0d0887\"],[0.1111111111111111,\"#46039f\"],[0.2222222222222222,\"#7201a8\"],[0.3333333333333333,\"#9c179e\"],[0.4444444444444444,\"#bd3786\"],[0.5555555555555556,\"#d8576b\"],[0.6666666666666666,\"#ed7953\"],[0.7777777777777778,\"#fb9f3a\"],[0.8888888888888888,\"#fdca26\"],[1.0,\"#f0f921\"]],\"type\":\"histogram2d\"}],\"histogram2dcontour\":[{\"colorbar\":{\"outlinewidth\":0,\"ticks\":\"\"},\"colorscale\":[[0.0,\"#0d0887\"],[0.1111111111111111,\"#46039f\"],[0.2222222222222222,\"#7201a8\"],[0.3333333333333333,\"#9c179e\"],[0.4444444444444444,\"#bd3786\"],[0.5555555555555556,\"#d8576b\"],[0.6666666666666666,\"#ed7953\"],[0.7777777777777778,\"#fb9f3a\"],[0.8888888888888888,\"#fdca26\"],[1.0,\"#f0f921\"]],\"type\":\"histogram2dcontour\"}],\"mesh3d\":[{\"colorbar\":{\"outlinewidth\":0,\"ticks\":\"\"},\"type\":\"mesh3d\"}],\"parcoords\":[{\"line\":{\"colorbar\":{\"outlinewidth\":0,\"ticks\":\"\"}},\"type\":\"parcoords\"}],\"pie\":[{\"automargin\":true,\"type\":\"pie\"}],\"scatter\":[{\"marker\":{\"colorbar\":{\"outlinewidth\":0,\"ticks\":\"\"}},\"type\":\"scatter\"}],\"scatter3d\":[{\"line\":{\"colorbar\":{\"outlinewidth\":0,\"ticks\":\"\"}},\"marker\":{\"colorbar\":{\"outlinewidth\":0,\"ticks\":\"\"}},\"type\":\"scatter3d\"}],\"scattercarpet\":[{\"marker\":{\"colorbar\":{\"outlinewidth\":0,\"ticks\":\"\"}},\"type\":\"scattercarpet\"}],\"scattergeo\":[{\"marker\":{\"colorbar\":{\"outlinewidth\":0,\"ticks\":\"\"}},\"type\":\"scattergeo\"}],\"scattergl\":[{\"marker\":{\"colorbar\":{\"outlinewidth\":0,\"ticks\":\"\"}},\"type\":\"scattergl\"}],\"scattermapbox\":[{\"marker\":{\"colorbar\":{\"outlinewidth\":0,\"ticks\":\"\"}},\"type\":\"scattermapbox\"}],\"scatterpolar\":[{\"marker\":{\"colorbar\":{\"outlinewidth\":0,\"ticks\":\"\"}},\"type\":\"scatterpolar\"}],\"scatterpolargl\":[{\"marker\":{\"colorbar\":{\"outlinewidth\":0,\"ticks\":\"\"}},\"type\":\"scatterpolargl\"}],\"scatterternary\":[{\"marker\":{\"colorbar\":{\"outlinewidth\":0,\"ticks\":\"\"}},\"type\":\"scatterternary\"}],\"surface\":[{\"colorbar\":{\"outlinewidth\":0,\"ticks\":\"\"},\"colorscale\":[[0.0,\"#0d0887\"],[0.1111111111111111,\"#46039f\"],[0.2222222222222222,\"#7201a8\"],[0.3333333333333333,\"#9c179e\"],[0.4444444444444444,\"#bd3786\"],[0.5555555555555556,\"#d8576b\"],[0.6666666666666666,\"#ed7953\"],[0.7777777777777778,\"#fb9f3a\"],[0.8888888888888888,\"#fdca26\"],[1.0,\"#f0f921\"]],\"type\":\"surface\"}],\"table\":[{\"cells\":{\"fill\":{\"color\":\"#EBF0F8\"},\"line\":{\"color\":\"white\"}},\"header\":{\"fill\":{\"color\":\"#C8D4E3\"},\"line\":{\"color\":\"white\"}},\"type\":\"table\"}]},\"layout\":{\"annotationdefaults\":{\"arrowcolor\":\"#2a3f5f\",\"arrowhead\":0,\"arrowwidth\":1},\"autotypenumbers\":\"strict\",\"coloraxis\":{\"colorbar\":{\"outlinewidth\":0,\"ticks\":\"\"}},\"colorscale\":{\"diverging\":[[0,\"#8e0152\"],[0.1,\"#c51b7d\"],[0.2,\"#de77ae\"],[0.3,\"#f1b6da\"],[0.4,\"#fde0ef\"],[0.5,\"#f7f7f7\"],[0.6,\"#e6f5d0\"],[0.7,\"#b8e186\"],[0.8,\"#7fbc41\"],[0.9,\"#4d9221\"],[1,\"#276419\"]],\"sequential\":[[0.0,\"#0d0887\"],[0.1111111111111111,\"#46039f\"],[0.2222222222222222,\"#7201a8\"],[0.3333333333333333,\"#9c179e\"],[0.4444444444444444,\"#bd3786\"],[0.5555555555555556,\"#d8576b\"],[0.6666666666666666,\"#ed7953\"],[0.7777777777777778,\"#fb9f3a\"],[0.8888888888888888,\"#fdca26\"],[1.0,\"#f0f921\"]],\"sequentialminus\":[[0.0,\"#0d0887\"],[0.1111111111111111,\"#46039f\"],[0.2222222222222222,\"#7201a8\"],[0.3333333333333333,\"#9c179e\"],[0.4444444444444444,\"#bd3786\"],[0.5555555555555556,\"#d8576b\"],[0.6666666666666666,\"#ed7953\"],[0.7777777777777778,\"#fb9f3a\"],[0.8888888888888888,\"#fdca26\"],[1.0,\"#f0f921\"]]},\"colorway\":[\"#636efa\",\"#EF553B\",\"#00cc96\",\"#ab63fa\",\"#FFA15A\",\"#19d3f3\",\"#FF6692\",\"#B6E880\",\"#FF97FF\",\"#FECB52\"],\"font\":{\"color\":\"#2a3f5f\"},\"geo\":{\"bgcolor\":\"white\",\"lakecolor\":\"white\",\"landcolor\":\"#E5ECF6\",\"showlakes\":true,\"showland\":true,\"subunitcolor\":\"white\"},\"hoverlabel\":{\"align\":\"left\"},\"hovermode\":\"closest\",\"mapbox\":{\"style\":\"light\"},\"paper_bgcolor\":\"white\",\"plot_bgcolor\":\"#E5ECF6\",\"polar\":{\"angularaxis\":{\"gridcolor\":\"white\",\"linecolor\":\"white\",\"ticks\":\"\"},\"bgcolor\":\"#E5ECF6\",\"radialaxis\":{\"gridcolor\":\"white\",\"linecolor\":\"white\",\"ticks\":\"\"}},\"scene\":{\"xaxis\":{\"backgroundcolor\":\"#E5ECF6\",\"gridcolor\":\"white\",\"gridwidth\":2,\"linecolor\":\"white\",\"showbackground\":true,\"ticks\":\"\",\"zerolinecolor\":\"white\"},\"yaxis\":{\"backgroundcolor\":\"#E5ECF6\",\"gridcolor\":\"white\",\"gridwidth\":2,\"linecolor\":\"white\",\"showbackground\":true,\"ticks\":\"\",\"zerolinecolor\":\"white\"},\"zaxis\":{\"backgroundcolor\":\"#E5ECF6\",\"gridcolor\":\"white\",\"gridwidth\":2,\"linecolor\":\"white\",\"showbackground\":true,\"ticks\":\"\",\"zerolinecolor\":\"white\"}},\"shapedefaults\":{\"line\":{\"color\":\"#2a3f5f\"}},\"ternary\":{\"aaxis\":{\"gridcolor\":\"white\",\"linecolor\":\"white\",\"ticks\":\"\"},\"baxis\":{\"gridcolor\":\"white\",\"linecolor\":\"white\",\"ticks\":\"\"},\"bgcolor\":\"#E5ECF6\",\"caxis\":{\"gridcolor\":\"white\",\"linecolor\":\"white\",\"ticks\":\"\"}},\"title\":{\"x\":0.05},\"xaxis\":{\"automargin\":true,\"gridcolor\":\"white\",\"linecolor\":\"white\",\"ticks\":\"\",\"title\":{\"standoff\":15},\"zerolinecolor\":\"white\",\"zerolinewidth\":2},\"yaxis\":{\"automargin\":true,\"gridcolor\":\"white\",\"linecolor\":\"white\",\"ticks\":\"\",\"title\":{\"standoff\":15},\"zerolinecolor\":\"white\",\"zerolinewidth\":2}}},\"legend\":{\"tracegroupgap\":0},\"margin\":{\"t\":60}},                        {\"responsive\": true}                    ).then(function(){\n",
              "                            \n",
              "var gd = document.getElementById('17841116-ae8f-46b4-a8b4-ef6c9c9280cc');\n",
              "var x = new MutationObserver(function (mutations, observer) {{\n",
              "        var display = window.getComputedStyle(gd).display;\n",
              "        if (!display || display === 'none') {{\n",
              "            console.log([gd, 'removed!']);\n",
              "            Plotly.purge(gd);\n",
              "            observer.disconnect();\n",
              "        }}\n",
              "}});\n",
              "\n",
              "// Listen for the removal of the full notebook cells\n",
              "var notebookContainer = gd.closest('#notebook-container');\n",
              "if (notebookContainer) {{\n",
              "    x.observe(notebookContainer, {childList: true});\n",
              "}}\n",
              "\n",
              "// Listen for the clearing of the current output cell\n",
              "var outputEl = gd.closest('.output');\n",
              "if (outputEl) {{\n",
              "    x.observe(outputEl, {childList: true});\n",
              "}}\n",
              "\n",
              "                        })                };                            </script>        </div>\n",
              "</body>\n",
              "</html>"
            ]
          },
          "metadata": {}
        }
      ]
    }
  ]
}